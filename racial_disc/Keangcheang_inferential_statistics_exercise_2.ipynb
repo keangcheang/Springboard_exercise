{
 "cells": [
  {
   "cell_type": "markdown",
   "metadata": {},
   "source": [
    "# Examining Racial Discrimination in the US Job Market\n",
    "\n",
    "### Background\n",
    "Racial discrimination continues to be pervasive in cultures throughout the world. Researchers examined the level of racial discrimination in the United States labor market by randomly assigning identical résumés to black-sounding or white-sounding names and observing the impact on requests for interviews from employers.\n",
    "\n",
    "### Data\n",
    "In the dataset provided, each row represents a resume. The 'race' column has two values, 'b' and 'w', indicating black-sounding and white-sounding. The column 'call' has two values, 1 and 0, indicating whether the resume received a call from employers or not.\n",
    "\n",
    "Note that the 'b' and 'w' values in race are assigned randomly to the resumes when presented to the employer."
   ]
  },
  {
   "cell_type": "markdown",
   "metadata": {},
   "source": [
    "<div class=\"span5 alert alert-info\">\n",
    "### Exercises\n",
    "You will perform a statistical analysis to establish whether race has a significant impact on the rate of callbacks for resumes.\n",
    "\n",
    "Answer the following questions **in this notebook below and submit to your Github account**. \n",
    "\n",
    "   1. What test is appropriate for this problem? Does CLT apply?\n",
    "   2. What are the null and alternate hypotheses?\n",
    "   3. Compute margin of error, confidence interval, and p-value.\n",
    "   4. Write a story describing the statistical significance in the context or the original problem.\n",
    "   5. Does your analysis mean that race/name is the most important factor in callback success? Why or why not? If not, how would you amend your analysis?\n",
    "\n",
    "You can include written notes in notebook cells using Markdown: \n",
    "   - In the control panel at the top, choose Cell > Cell Type > Markdown\n",
    "   - Markdown syntax: http://nestacms.com/docs/creating-content/markdown-cheat-sheet\n",
    "\n",
    "\n",
    "#### Resources\n",
    "+ Experiment information and data source: http://www.povertyactionlab.org/evaluation/discrimination-job-market-united-states\n",
    "+ Scipy statistical methods: http://docs.scipy.org/doc/scipy/reference/stats.html \n",
    "+ Markdown syntax: http://nestacms.com/docs/creating-content/markdown-cheat-sheet\n",
    "</div>\n",
    "****"
   ]
  },
  {
   "cell_type": "code",
   "execution_count": 1,
   "metadata": {
    "collapsed": true
   },
   "outputs": [],
   "source": [
    "import pandas as pd\n",
    "import numpy as np\n",
    "from scipy import stats"
   ]
  },
  {
   "cell_type": "code",
   "execution_count": 2,
   "metadata": {},
   "outputs": [],
   "source": [
    "data = pd.io.stata.read_stata('data/us_job_market_discrimination.dta')"
   ]
  },
  {
   "cell_type": "code",
   "execution_count": 103,
   "metadata": {},
   "outputs": [],
   "source": [
    "#select the essential variables for the study\n",
    "data= data[[\"id\", \"education\", \"ofjobs\", \"yearsexp\", \"honors\", \"volunteer\",\"military\", \"race\", \"call\", \"h\", \"city\"]]"
   ]
  },
  {
   "cell_type": "code",
   "execution_count": 104,
   "metadata": {},
   "outputs": [
    {
     "data": {
      "text/plain": [
       "Index([u'id', u'education', u'ofjobs', u'yearsexp', u'honors', u'volunteer',\n",
       "       u'military', u'race', u'call', u'h', u'city'],\n",
       "      dtype='object')"
      ]
     },
     "execution_count": 104,
     "metadata": {},
     "output_type": "execute_result"
    }
   ],
   "source": [
    "data.columns"
   ]
  },
  {
   "cell_type": "code",
   "execution_count": 142,
   "metadata": {},
   "outputs": [
    {
     "data": {
      "text/html": [
       "<div>\n",
       "<style>\n",
       "    .dataframe thead tr:only-child th {\n",
       "        text-align: right;\n",
       "    }\n",
       "\n",
       "    .dataframe thead th {\n",
       "        text-align: left;\n",
       "    }\n",
       "\n",
       "    .dataframe tbody tr th {\n",
       "        vertical-align: top;\n",
       "    }\n",
       "</style>\n",
       "<table border=\"1\" class=\"dataframe\">\n",
       "  <thead>\n",
       "    <tr style=\"text-align: right;\">\n",
       "      <th></th>\n",
       "      <th>race</th>\n",
       "      <th>call</th>\n",
       "      <th>count</th>\n",
       "    </tr>\n",
       "  </thead>\n",
       "  <tbody>\n",
       "    <tr>\n",
       "      <th>0</th>\n",
       "      <td>b</td>\n",
       "      <td>0.0</td>\n",
       "      <td>2278</td>\n",
       "    </tr>\n",
       "    <tr>\n",
       "      <th>1</th>\n",
       "      <td>b</td>\n",
       "      <td>1.0</td>\n",
       "      <td>157</td>\n",
       "    </tr>\n",
       "    <tr>\n",
       "      <th>2</th>\n",
       "      <td>w</td>\n",
       "      <td>0.0</td>\n",
       "      <td>2200</td>\n",
       "    </tr>\n",
       "    <tr>\n",
       "      <th>3</th>\n",
       "      <td>w</td>\n",
       "      <td>1.0</td>\n",
       "      <td>235</td>\n",
       "    </tr>\n",
       "  </tbody>\n",
       "</table>\n",
       "</div>"
      ],
      "text/plain": [
       "  race  call  count\n",
       "0    b   0.0   2278\n",
       "1    b   1.0    157\n",
       "2    w   0.0   2200\n",
       "3    w   1.0    235"
      ]
     },
     "execution_count": 142,
     "metadata": {},
     "output_type": "execute_result"
    }
   ],
   "source": [
    "#numbers of callbacks and no-callbacks based on race\n",
    "df=pd.DataFrame(data.groupby([ \"race\", \"call\"])['race'].count().reset_index(name='count'))\n",
    "df"
   ]
  },
  {
   "cell_type": "code",
   "execution_count": 145,
   "metadata": {},
   "outputs": [
    {
     "data": {
      "text/plain": [
       "race  yearsexp  call\n",
       "b     1         0.0      18\n",
       "                1.0       1\n",
       "      2         0.0     165\n",
       "                1.0      12\n",
       "      3         0.0      90\n",
       "                1.0       5\n",
       "      4         0.0     245\n",
       "                1.0      14\n",
       "      5         0.0     252\n",
       "                1.0      12\n",
       "      6         0.0     391\n",
       "                1.0      18\n",
       "      7         0.0     257\n",
       "                1.0      17\n",
       "      8         0.0     267\n",
       "                1.0      21\n",
       "      9         0.0      72\n",
       "                1.0       6\n",
       "      10        0.0      70\n",
       "                1.0       2\n",
       "      11        0.0      78\n",
       "                1.0       8\n",
       "      12        0.0      32\n",
       "                1.0       1\n",
       "      13        0.0      66\n",
       "                1.0      14\n",
       "      14        0.0      74\n",
       "                1.0       4\n",
       "      15        0.0      21\n",
       "      16        0.0      39\n",
       "                       ... \n",
       "w     9         1.0       9\n",
       "      10        0.0      45\n",
       "                1.0      13\n",
       "      11        0.0      77\n",
       "                1.0      10\n",
       "      12        0.0      32\n",
       "                1.0       4\n",
       "      13        0.0      62\n",
       "                1.0      12\n",
       "      14        0.0      65\n",
       "                1.0       6\n",
       "      15        0.0      12\n",
       "                1.0       1\n",
       "      16        0.0      40\n",
       "                1.0      11\n",
       "      17        0.0       1\n",
       "      18        0.0      37\n",
       "                1.0       4\n",
       "      19        0.0      20\n",
       "                1.0       2\n",
       "      20        0.0      18\n",
       "                1.0       6\n",
       "      21        0.0      21\n",
       "                1.0       5\n",
       "      22        0.0       3\n",
       "                1.0       1\n",
       "      23        0.0       5\n",
       "      25        0.0       4\n",
       "      26        0.0      47\n",
       "                1.0       4\n",
       "Name: race, Length: 94, dtype: int64"
      ]
     },
     "execution_count": 145,
     "metadata": {},
     "output_type": "execute_result"
    }
   ],
   "source": [
    "#selection of data for the callbacks based on race and working experience\n",
    "data.groupby([\"race\", \"yearsexp\", \"call\", ])[\"race\"].count()"
   ]
  },
  {
   "cell_type": "code",
   "execution_count": 209,
   "metadata": {},
   "outputs": [
    {
     "name": "stdout",
     "output_type": "stream",
     "text": [
      "observations of black race: 2435, 2435\n",
      "number of callbacks by each race: 157, 235\n",
      "proportion of each race based on callbacks: 0.064, 0.097\n"
     ]
    }
   ],
   "source": [
    "#calculate the proportion of calls based on race\n",
    "n1= len(data[data.race==\"b\"])\n",
    "n2= len(data[data.race==\"w\"])\n",
    "s= data[data.call==1].groupby('race')[\"call\"].sum().reset_index(name=\"sum\")\n",
    "y1= s[\"sum\"][0]\n",
    "y2= s[\"sum\"][1]\n",
    "p1= y1/n1\n",
    "p2= y2/n2\n",
    "print (\"observations of black race: %.f, %.f\") %(n1, n2)\n",
    "print (\"number of callbacks by each race: %.f, %.f\") %(y1, y2)\n",
    "print (\"proportion of each race based on callbacks: %.3f, %.3f\") %(p1, p2)"
   ]
  },
  {
   "cell_type": "code",
   "execution_count": 205,
   "metadata": {},
   "outputs": [
    {
     "name": "stdout",
     "output_type": "stream",
     "text": [
      "standard error: 0.00778\n"
     ]
    }
   ],
   "source": [
    "#calculate the standard error\n",
    "import math\n",
    "import scipy.stats as st\n",
    "se= math.sqrt(((p1*(1-p1))/n1)+((p2*(1-p2))/n2))\n",
    "print (\"standard error: %.5f\") % se"
   ]
  },
  {
   "cell_type": "code",
   "execution_count": 208,
   "metadata": {},
   "outputs": [
    {
     "name": "stdout",
     "output_type": "stream",
     "text": [
      "z-statistics: -4.1156\n",
      "p_value: 0.0000386257\n"
     ]
    }
   ],
   "source": [
    "#calculate the z-statistics\n",
    "diff_mean= p1 - p2\n",
    "z= diff_mean/se\n",
    "print (\"z-statistics: %.4f\")%z\n",
    "p_value=(st.norm.cdf(z))*2\n",
    "print (\"p_value: %.10f\") % p_value"
   ]
  },
  {
   "cell_type": "code",
   "execution_count": null,
   "metadata": {
    "collapsed": true
   },
   "outputs": [],
   "source": []
  },
  {
   "cell_type": "code",
   "execution_count": null,
   "metadata": {
    "collapsed": true
   },
   "outputs": [],
   "source": []
  }
 ],
 "metadata": {
  "anaconda-cloud": {},
  "kernelspec": {
   "display_name": "Python [default]",
   "language": "python",
   "name": "python2"
  },
  "language_info": {
   "codemirror_mode": {
    "name": "ipython",
    "version": 2
   },
   "file_extension": ".py",
   "mimetype": "text/x-python",
   "name": "python",
   "nbconvert_exporter": "python",
   "pygments_lexer": "ipython2",
   "version": "2.7.12"
  }
 },
 "nbformat": 4,
 "nbformat_minor": 1
}
