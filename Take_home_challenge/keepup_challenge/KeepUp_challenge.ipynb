{
 "cells": [
  {
   "cell_type": "code",
   "execution_count": 32,
   "metadata": {
    "collapsed": true
   },
   "outputs": [],
   "source": [
    "import matplotlib.pyplot as plt\n",
    "import pandas as pd\n",
    "from pandas.io.json import json_normalize\n",
    "import numpy as np\n",
    "import seaborn as sns\n",
    "import matplotlib.dates as mdates\n",
    "%matplotlib inline"
   ]
  },
  {
   "cell_type": "markdown",
   "metadata": {},
   "source": [
    "### A: Exploratory analysis "
   ]
  },
  {
   "cell_type": "code",
   "execution_count": 35,
   "metadata": {},
   "outputs": [
    {
     "data": {
      "text/plain": [
       "<function close>"
      ]
     },
     "execution_count": 35,
     "metadata": {},
     "output_type": "execute_result"
    }
   ],
   "source": [
    "#import the text file and write it to another text file. \n",
    "import io\n",
    "i = 0\n",
    "with io.open('amazon.txt', 'w', encoding=\"utf8\") as file:\n",
    "    with io.open('amazon-meta.txt', 'r', encoding=\"utf8\") as f:\n",
    "        for line in f:\n",
    "            line = line.strip()\n",
    "            if line[:3] == 'Id:':\n",
    "                id = int(line[4:])\n",
    "                i += 1\n",
    "            if line[:5] == 'ASIN:':\n",
    "                asin = line[6:]\n",
    "            if line[:6] == 'title:':\n",
    "                title = line[7:].replace('\"','').replace(',','')\n",
    "            if line[:6] == 'group:':\n",
    "                group = line[7:]\n",
    "            if line[:8] == 'similar:':\n",
    "                similar = int(line[9:11])\n",
    "            if line[:11] == 'categories:':\n",
    "                categories = (line[12:])\n",
    "            if line[:8] == 'reviews:':\n",
    "                reviews = int(line[15:18])\n",
    "                avg_rating = float(line[-3:].replace(':',''))\n",
    "                strwrite = str(id) + ',' + asin + ',\"' + title + '\",' + group + ',' +  str(similar) + ',' +  categories + ',' +  str(reviews) + ',' +  str(avg_rating)\n",
    "                file.write(strwrite + '\\n')\n",
    "file.close"
   ]
  },
  {
   "cell_type": "code",
   "execution_count": 36,
   "metadata": {
    "collapsed": true
   },
   "outputs": [],
   "source": [
    "df = pd.read_csv('amazon.txt', header=None, \n",
    "                 names=['id', 'asin', 'title', 'group', 'similar', 'categories', 'reviews', 'avg_rating'])"
   ]
  },
  {
   "cell_type": "code",
   "execution_count": 38,
   "metadata": {},
   "outputs": [
    {
     "data": {
      "text/html": [
       "<div>\n",
       "<style>\n",
       "    .dataframe thead tr:only-child th {\n",
       "        text-align: right;\n",
       "    }\n",
       "\n",
       "    .dataframe thead th {\n",
       "        text-align: left;\n",
       "    }\n",
       "\n",
       "    .dataframe tbody tr th {\n",
       "        vertical-align: top;\n",
       "    }\n",
       "</style>\n",
       "<table border=\"1\" class=\"dataframe\">\n",
       "  <thead>\n",
       "    <tr style=\"text-align: right;\">\n",
       "      <th></th>\n",
       "      <th>id</th>\n",
       "      <th>asin</th>\n",
       "      <th>title</th>\n",
       "      <th>group</th>\n",
       "      <th>similar</th>\n",
       "      <th>categories</th>\n",
       "      <th>reviews</th>\n",
       "      <th>avg_rating</th>\n",
       "    </tr>\n",
       "  </thead>\n",
       "  <tbody>\n",
       "    <tr>\n",
       "      <th>0</th>\n",
       "      <td>1</td>\n",
       "      <td>0827229534</td>\n",
       "      <td>Patterns of Preaching: A Sermon Sampler</td>\n",
       "      <td>Book</td>\n",
       "      <td>5</td>\n",
       "      <td>2</td>\n",
       "      <td>2</td>\n",
       "      <td>5.0</td>\n",
       "    </tr>\n",
       "    <tr>\n",
       "      <th>1</th>\n",
       "      <td>2</td>\n",
       "      <td>0738700797</td>\n",
       "      <td>Candlemas: Feast of Flames</td>\n",
       "      <td>Book</td>\n",
       "      <td>5</td>\n",
       "      <td>2</td>\n",
       "      <td>12</td>\n",
       "      <td>4.5</td>\n",
       "    </tr>\n",
       "    <tr>\n",
       "      <th>2</th>\n",
       "      <td>3</td>\n",
       "      <td>0486287785</td>\n",
       "      <td>World War II Allied Fighter Planes Trading Cards</td>\n",
       "      <td>Book</td>\n",
       "      <td>0</td>\n",
       "      <td>1</td>\n",
       "      <td>1</td>\n",
       "      <td>5.0</td>\n",
       "    </tr>\n",
       "  </tbody>\n",
       "</table>\n",
       "</div>"
      ],
      "text/plain": [
       "   id        asin                                             title group  \\\n",
       "0   1  0827229534           Patterns of Preaching: A Sermon Sampler  Book   \n",
       "1   2  0738700797                        Candlemas: Feast of Flames  Book   \n",
       "2   3  0486287785  World War II Allied Fighter Planes Trading Cards  Book   \n",
       "\n",
       "   similar  categories  reviews  avg_rating  \n",
       "0        5           2        2         5.0  \n",
       "1        5           2       12         4.5  \n",
       "2        0           1        1         5.0  "
      ]
     },
     "execution_count": 38,
     "metadata": {},
     "output_type": "execute_result"
    }
   ],
   "source": [
    "df.head(3)"
   ]
  },
  {
   "cell_type": "code",
   "execution_count": 39,
   "metadata": {},
   "outputs": [
    {
     "name": "stdout",
     "output_type": "stream",
     "text": [
      "<class 'pandas.core.frame.DataFrame'>\n",
      "RangeIndex: 542684 entries, 0 to 542683\n",
      "Data columns (total 8 columns):\n",
      "id            542684 non-null int64\n",
      "asin          542684 non-null object\n",
      "title         542684 non-null object\n",
      "group         542684 non-null object\n",
      "similar       542684 non-null int64\n",
      "categories    542684 non-null int64\n",
      "reviews       542684 non-null int64\n",
      "avg_rating    542684 non-null float64\n",
      "dtypes: float64(1), int64(4), object(3)\n",
      "memory usage: 33.1+ MB\n"
     ]
    }
   ],
   "source": [
    "df.info()"
   ]
  },
  {
   "cell_type": "markdown",
   "metadata": {},
   "source": [
    "There is no missing values in this data set and the format is good to feed into a choosen model. "
   ]
  },
  {
   "cell_type": "code",
   "execution_count": 173,
   "metadata": {},
   "outputs": [
    {
     "data": {
      "image/png": "[encoded data removed]",
      "text/plain": [
       "<matplotlib.figure.Figure at 0x1d895fb10>"
      ]
     },
     "metadata": {},
     "output_type": "display_data"
    }
   ],
   "source": [
    "grouped = df.groupby('group').size().reset_index()\n",
    "grouped.columns=['group', 'qt']\n",
    "grouped= grouped.sort_values('qt')\n",
    "grouped.loc[:, 'group']\n",
    "\n",
    "s = sns.barplot(x=grouped.loc[:, 'group'], y=grouped.loc[:, 'qt'])"
   ]
  },
  {
   "cell_type": "markdown",
   "metadata": {},
   "source": [
    "The barplot above shows the number of products by each group. Clearly, amazon at that time has most of products in books followed by music. The third and forth place are videos and DVD, respectively. "
   ]
  },
  {
   "cell_type": "markdown",
   "metadata": {},
   "source": [
    "### 1: Trustworthiness of ratings\n",
    "The average_rating does show some inconsistency if we compare the reviews made on the product and the rating. In average, the rating will be very good even if the reviews is very small which makes the rating very unreliable. For example, at 75% quantile there is only 8 reviews but the rating is 5. "
   ]
  },
  {
   "cell_type": "code",
   "execution_count": 146,
   "metadata": {},
   "outputs": [
    {
     "data": {
      "text/html": [
       "<div>\n",
       "<style>\n",
       "    .dataframe thead tr:only-child th {\n",
       "        text-align: right;\n",
       "    }\n",
       "\n",
       "    .dataframe thead th {\n",
       "        text-align: left;\n",
       "    }\n",
       "\n",
       "    .dataframe tbody tr th {\n",
       "        vertical-align: top;\n",
       "    }\n",
       "</style>\n",
       "<table border=\"1\" class=\"dataframe\">\n",
       "  <thead>\n",
       "    <tr style=\"text-align: right;\">\n",
       "      <th></th>\n",
       "      <th>id</th>\n",
       "      <th>similar</th>\n",
       "      <th>categories</th>\n",
       "      <th>reviews</th>\n",
       "      <th>avg_rating</th>\n",
       "    </tr>\n",
       "  </thead>\n",
       "  <tbody>\n",
       "    <tr>\n",
       "      <th>count</th>\n",
       "      <td>542684.000000</td>\n",
       "      <td>542684.000000</td>\n",
       "      <td>542684.000000</td>\n",
       "      <td>542684.000000</td>\n",
       "      <td>542684.000000</td>\n",
       "    </tr>\n",
       "    <tr>\n",
       "      <th>mean</th>\n",
       "      <td>274414.212208</td>\n",
       "      <td>3.296071</td>\n",
       "      <td>4.624605</td>\n",
       "      <td>7.498229</td>\n",
       "      <td>3.209534</td>\n",
       "    </tr>\n",
       "    <tr>\n",
       "      <th>std</th>\n",
       "      <td>158454.479276</td>\n",
       "      <td>2.287289</td>\n",
       "      <td>4.450647</td>\n",
       "      <td>13.759132</td>\n",
       "      <td>1.996296</td>\n",
       "    </tr>\n",
       "    <tr>\n",
       "      <th>min</th>\n",
       "      <td>1.000000</td>\n",
       "      <td>0.000000</td>\n",
       "      <td>0.000000</td>\n",
       "      <td>0.000000</td>\n",
       "      <td>0.000000</td>\n",
       "    </tr>\n",
       "    <tr>\n",
       "      <th>25%</th>\n",
       "      <td>137161.750000</td>\n",
       "      <td>0.000000</td>\n",
       "      <td>2.000000</td>\n",
       "      <td>0.000000</td>\n",
       "      <td>0.000000</td>\n",
       "    </tr>\n",
       "    <tr>\n",
       "      <th>50%</th>\n",
       "      <td>274427.500000</td>\n",
       "      <td>5.000000</td>\n",
       "      <td>4.000000</td>\n",
       "      <td>2.000000</td>\n",
       "      <td>4.000000</td>\n",
       "    </tr>\n",
       "    <tr>\n",
       "      <th>75%</th>\n",
       "      <td>411674.250000</td>\n",
       "      <td>5.000000</td>\n",
       "      <td>6.000000</td>\n",
       "      <td>8.000000</td>\n",
       "      <td>5.000000</td>\n",
       "    </tr>\n",
       "    <tr>\n",
       "      <th>max</th>\n",
       "      <td>548551.000000</td>\n",
       "      <td>5.000000</td>\n",
       "      <td>116.000000</td>\n",
       "      <td>99.000000</td>\n",
       "      <td>5.000000</td>\n",
       "    </tr>\n",
       "  </tbody>\n",
       "</table>\n",
       "</div>"
      ],
      "text/plain": [
       "                  id        similar     categories        reviews  \\\n",
       "count  542684.000000  542684.000000  542684.000000  542684.000000   \n",
       "mean   274414.212208       3.296071       4.624605       7.498229   \n",
       "std    158454.479276       2.287289       4.450647      13.759132   \n",
       "min         1.000000       0.000000       0.000000       0.000000   \n",
       "25%    137161.750000       0.000000       2.000000       0.000000   \n",
       "50%    274427.500000       5.000000       4.000000       2.000000   \n",
       "75%    411674.250000       5.000000       6.000000       8.000000   \n",
       "max    548551.000000       5.000000     116.000000      99.000000   \n",
       "\n",
       "          avg_rating  \n",
       "count  542684.000000  \n",
       "mean        3.209534  \n",
       "std         1.996296  \n",
       "min         0.000000  \n",
       "25%         0.000000  \n",
       "50%         4.000000  \n",
       "75%         5.000000  \n",
       "max         5.000000  "
      ]
     },
     "execution_count": 146,
     "metadata": {},
     "output_type": "execute_result"
    }
   ],
   "source": [
    "df.describe()"
   ]
  },
  {
   "cell_type": "code",
   "execution_count": 179,
   "metadata": {},
   "outputs": [
    {
     "data": {
      "text/html": [
       "<div>\n",
       "<style>\n",
       "    .dataframe thead tr:only-child th {\n",
       "        text-align: right;\n",
       "    }\n",
       "\n",
       "    .dataframe thead th {\n",
       "        text-align: left;\n",
       "    }\n",
       "\n",
       "    .dataframe tbody tr th {\n",
       "        vertical-align: top;\n",
       "    }\n",
       "</style>\n",
       "<table border=\"1\" class=\"dataframe\">\n",
       "  <thead>\n",
       "    <tr style=\"text-align: right;\">\n",
       "      <th></th>\n",
       "      <th>reviews</th>\n",
       "      <th>avg_rating</th>\n",
       "    </tr>\n",
       "    <tr>\n",
       "      <th>group</th>\n",
       "      <th></th>\n",
       "      <th></th>\n",
       "    </tr>\n",
       "  </thead>\n",
       "  <tbody>\n",
       "    <tr>\n",
       "      <th>Baby Product</th>\n",
       "      <td>3.000000</td>\n",
       "      <td>4.500000</td>\n",
       "    </tr>\n",
       "    <tr>\n",
       "      <th>Book</th>\n",
       "      <td>6.347888</td>\n",
       "      <td>3.051148</td>\n",
       "    </tr>\n",
       "    <tr>\n",
       "      <th>CE</th>\n",
       "      <td>1.250000</td>\n",
       "      <td>1.750000</td>\n",
       "    </tr>\n",
       "    <tr>\n",
       "      <th>DVD</th>\n",
       "      <td>17.353994</td>\n",
       "      <td>3.670996</td>\n",
       "    </tr>\n",
       "    <tr>\n",
       "      <th>Music</th>\n",
       "      <td>8.411483</td>\n",
       "      <td>3.635529</td>\n",
       "    </tr>\n",
       "    <tr>\n",
       "      <th>Software</th>\n",
       "      <td>2.600000</td>\n",
       "      <td>4.500000</td>\n",
       "    </tr>\n",
       "    <tr>\n",
       "      <th>Sports</th>\n",
       "      <td>5.000000</td>\n",
       "      <td>4.000000</td>\n",
       "    </tr>\n",
       "    <tr>\n",
       "      <th>Toy</th>\n",
       "      <td>4.625000</td>\n",
       "      <td>3.812500</td>\n",
       "    </tr>\n",
       "    <tr>\n",
       "      <th>Video</th>\n",
       "      <td>13.743561</td>\n",
       "      <td>3.563105</td>\n",
       "    </tr>\n",
       "    <tr>\n",
       "      <th>Video Games</th>\n",
       "      <td>3.000000</td>\n",
       "      <td>2.500000</td>\n",
       "    </tr>\n",
       "  </tbody>\n",
       "</table>\n",
       "</div>"
      ],
      "text/plain": [
       "                reviews  avg_rating\n",
       "group                              \n",
       "Baby Product   3.000000    4.500000\n",
       "Book           6.347888    3.051148\n",
       "CE             1.250000    1.750000\n",
       "DVD           17.353994    3.670996\n",
       "Music          8.411483    3.635529\n",
       "Software       2.600000    4.500000\n",
       "Sports         5.000000    4.000000\n",
       "Toy            4.625000    3.812500\n",
       "Video         13.743561    3.563105\n",
       "Video Games    3.000000    2.500000"
      ]
     },
     "execution_count": 179,
     "metadata": {},
     "output_type": "execute_result"
    }
   ],
   "source": [
    "#reviews and average rating by group\n",
    "df.groupby('group').mean()[['reviews',\"avg_rating\"]]"
   ]
  },
  {
   "cell_type": "markdown",
   "metadata": {},
   "source": [
    "According to the result above, the avg_rating has mean of 3.2 which is not so bad; within this Music, DVD and Videos has the similar average rating whereas book has sightly lower average rating. We're not talking about other groups as they contributes very small number in this data set. DVD and Videos seems to have more average reviews than other group. "
   ]
  },
  {
   "cell_type": "code",
   "execution_count": 169,
   "metadata": {},
   "outputs": [
    {
     "data": {
      "text/html": [
       "<div>\n",
       "<style>\n",
       "    .dataframe thead tr:only-child th {\n",
       "        text-align: right;\n",
       "    }\n",
       "\n",
       "    .dataframe thead th {\n",
       "        text-align: left;\n",
       "    }\n",
       "\n",
       "    .dataframe tbody tr th {\n",
       "        vertical-align: top;\n",
       "    }\n",
       "</style>\n",
       "<table border=\"1\" class=\"dataframe\">\n",
       "  <thead>\n",
       "    <tr style=\"text-align: right;\">\n",
       "      <th></th>\n",
       "      <th>id</th>\n",
       "      <th>title</th>\n",
       "      <th>group</th>\n",
       "    </tr>\n",
       "  </thead>\n",
       "  <tbody>\n",
       "    <tr>\n",
       "      <th>35193</th>\n",
       "      <td>35596</td>\n",
       "      <td>Gentle Rogue (Malory Novels (Paperback))</td>\n",
       "      <td>Book</td>\n",
       "    </tr>\n",
       "    <tr>\n",
       "      <th>58125</th>\n",
       "      <td>58740</td>\n",
       "      <td>The China Garden</td>\n",
       "      <td>Book</td>\n",
       "    </tr>\n",
       "    <tr>\n",
       "      <th>326615</th>\n",
       "      <td>330380</td>\n",
       "      <td>Dice Angel</td>\n",
       "      <td>Book</td>\n",
       "    </tr>\n",
       "    <tr>\n",
       "      <th>60954</th>\n",
       "      <td>61614</td>\n",
       "      <td>Josh Groban</td>\n",
       "      <td>Music</td>\n",
       "    </tr>\n",
       "    <tr>\n",
       "      <th>80021</th>\n",
       "      <td>80871</td>\n",
       "      <td>Magazine</td>\n",
       "      <td>Music</td>\n",
       "    </tr>\n",
       "    <tr>\n",
       "      <th>263042</th>\n",
       "      <td>266042</td>\n",
       "      <td>The Shape of Punk to Come: A Chimerical Bombat...</td>\n",
       "      <td>Music</td>\n",
       "    </tr>\n",
       "    <tr>\n",
       "      <th>321975</th>\n",
       "      <td>325697</td>\n",
       "      <td>Let It Be</td>\n",
       "      <td>Music</td>\n",
       "    </tr>\n",
       "    <tr>\n",
       "      <th>498125</th>\n",
       "      <td>503823</td>\n",
       "      <td>Cool Relax</td>\n",
       "      <td>Music</td>\n",
       "    </tr>\n",
       "    <tr>\n",
       "      <th>498137</th>\n",
       "      <td>503835</td>\n",
       "      <td>Cool Relax</td>\n",
       "      <td>Music</td>\n",
       "    </tr>\n",
       "    <tr>\n",
       "      <th>508989</th>\n",
       "      <td>514817</td>\n",
       "      <td>Let It Be</td>\n",
       "      <td>Music</td>\n",
       "    </tr>\n",
       "    <tr>\n",
       "      <th>473601</th>\n",
       "      <td>479010</td>\n",
       "      <td>The Snowman</td>\n",
       "      <td>Video</td>\n",
       "    </tr>\n",
       "  </tbody>\n",
       "</table>\n",
       "</div>"
      ],
      "text/plain": [
       "            id                                              title  group\n",
       "35193    35596           Gentle Rogue (Malory Novels (Paperback))   Book\n",
       "58125    58740                                   The China Garden   Book\n",
       "326615  330380                                         Dice Angel   Book\n",
       "60954    61614                                        Josh Groban  Music\n",
       "80021    80871                                           Magazine  Music\n",
       "263042  266042  The Shape of Punk to Come: A Chimerical Bombat...  Music\n",
       "321975  325697                                          Let It Be  Music\n",
       "498125  503823                                         Cool Relax  Music\n",
       "498137  503835                                         Cool Relax  Music\n",
       "508989  514817                                          Let It Be  Music\n",
       "473601  479010                                        The Snowman  Video"
      ]
     },
     "execution_count": 169,
     "metadata": {},
     "output_type": "execute_result"
    }
   ],
   "source": [
    "#Find items which have a lot of reviews and good ratings\n",
    "df[(df.reviews>=99) & (df.avg_rating== 5.0)].sort_values('group')[['id','title', 'group']]"
   ]
  },
  {
   "cell_type": "code",
   "execution_count": 170,
   "metadata": {},
   "outputs": [
    {
     "data": {
      "text/html": [
       "<div>\n",
       "<style>\n",
       "    .dataframe thead tr:only-child th {\n",
       "        text-align: right;\n",
       "    }\n",
       "\n",
       "    .dataframe thead th {\n",
       "        text-align: left;\n",
       "    }\n",
       "\n",
       "    .dataframe tbody tr th {\n",
       "        vertical-align: top;\n",
       "    }\n",
       "</style>\n",
       "<table border=\"1\" class=\"dataframe\">\n",
       "  <thead>\n",
       "    <tr style=\"text-align: right;\">\n",
       "      <th></th>\n",
       "      <th>id</th>\n",
       "      <th>title</th>\n",
       "      <th>group</th>\n",
       "    </tr>\n",
       "  </thead>\n",
       "  <tbody>\n",
       "    <tr>\n",
       "      <th>190077</th>\n",
       "      <td>192156</td>\n",
       "      <td>The Elder Gods : Book One of the Dreamers (Dre...</td>\n",
       "      <td>Book</td>\n",
       "    </tr>\n",
       "    <tr>\n",
       "      <th>228560</th>\n",
       "      <td>231156</td>\n",
       "      <td>Full Tilt</td>\n",
       "      <td>Book</td>\n",
       "    </tr>\n",
       "    <tr>\n",
       "      <th>393821</th>\n",
       "      <td>398337</td>\n",
       "      <td>Full Tilt (Janet Evanovich's Full Series)</td>\n",
       "      <td>Book</td>\n",
       "    </tr>\n",
       "    <tr>\n",
       "      <th>527508</th>\n",
       "      <td>533366</td>\n",
       "      <td>Speed 2 - Cruise Control</td>\n",
       "      <td>DVD</td>\n",
       "    </tr>\n",
       "    <tr>\n",
       "      <th>536433</th>\n",
       "      <td>542301</td>\n",
       "      <td>Speed 2 - Cruise Control</td>\n",
       "      <td>DVD</td>\n",
       "    </tr>\n",
       "    <tr>\n",
       "      <th>269468</th>\n",
       "      <td>272539</td>\n",
       "      <td>Speed 2 - Cruise Control</td>\n",
       "      <td>Video</td>\n",
       "    </tr>\n",
       "  </tbody>\n",
       "</table>\n",
       "</div>"
      ],
      "text/plain": [
       "            id                                              title  group\n",
       "190077  192156  The Elder Gods : Book One of the Dreamers (Dre...   Book\n",
       "228560  231156                                          Full Tilt   Book\n",
       "393821  398337          Full Tilt (Janet Evanovich's Full Series)   Book\n",
       "527508  533366                           Speed 2 - Cruise Control    DVD\n",
       "536433  542301                           Speed 2 - Cruise Control    DVD\n",
       "269468  272539                           Speed 2 - Cruise Control  Video"
      ]
     },
     "execution_count": 170,
     "metadata": {},
     "output_type": "execute_result"
    }
   ],
   "source": [
    "#Find items which have a lot of reviews and bad ratings\n",
    "df[(df.reviews>=99) & (df.avg_rating<3.0)].sort_values('group')[['id','title', 'group']]"
   ]
  },
  {
   "cell_type": "code",
   "execution_count": 171,
   "metadata": {},
   "outputs": [
    {
     "name": "stdout",
     "output_type": "stream",
     "text": [
      "categories: 2\n",
      "|Books[283155]|Subjects[1000]|Religion & Spirituality[22]|Christianity[12290]|Clergy[12360]|Preaching[12368]\n",
      "|Books[283155]|Subjects[1000]|Religion & Spirituality[22]|Christianity[12290]|Clergy[12360]|Sermons[12370]\n",
      "categories: 2\n",
      "|Books[283155]|Subjects[1000]|Religion & Spirituality[22]|Earth-Based Religions[12472]|Wicca[12484]\n",
      "|Books[283155]|Subjects[1000]|Religion & Spirituality[22]|Earth-Based Religions[12472]|Witchcraft[12486]\n",
      "categories: 1\n",
      "|Books[283155]|Subjects[1000]|Home & Garden[48]|Crafts & Hobbies[5126]|General[5144]\n",
      "categories: 5\n",
      "|Books[283155]|Subjects[1000]|Religion & Spirituality[22]|Christianity[12290]|Reference[172810]|Commentaries[12155]|New Testament[12159]\n",
      "|Books[283155]|Subjects[1000]|Religion & Spirituality[22]|Christianity[12290]|Christian Living[12333]|Discipleship[12335]\n",
      "|Books[283155]|Subjects[1000]|Religion & Spirituality[22]|Christianity[12290]|Bibles[12059]|Translations[764432]|Life Application[572080]\n",
      "|Books[283155]|Subjects[1000]|Religion & Spirituality[22]|Bible & Other Sacred Texts[12056]|Bible[764430]|New Testament[572082]\n",
      "|Books[283155]|Subjects[1000]|Religion & Spirituality[22]|Christianity[12290]|Bibles[12059]|Study Guides, History & Reference[764438]|General[572094]\n",
      "categories: 2\n",
      "|Books[283155]|Subjects[1000]|Religion & Spirituality[22]|Christianity[12290]|Worship & Devotion[12465]|Prayerbooks[12470]\n",
      "|Books[283155]|Subjects[1000]|Religion & Spirituality[22]|Christianity[12290]|Christian Living[12333]|Business[297488]\n",
      "categories: 5\n",
      "|Books[283155]|Subjects[1000]|Arts & Photography[1]|Photography[2020]|Photo Essays[2082]\n",
      "|Books[283155]|Subjects[1000]|History[9]|Americas[4808]|United States[4853]|General[4870]\n",
      "|Books[283155]|Subjects[1000]|History[9]|Jewish[4992]|General[4993]\n",
      "|Books[283155]|Subjects[1000]|Nonfiction[53]|Social Sciences[11232]|Sociology[11288]|Urban[11296]\n",
      "|[172282]|Categories[493964]|Camera & Photo[502394]|Photography Books[733540]|Photo Essays[733676]\n",
      "categories: 4\n",
      "|Books[283155]|Subjects[1000]|Gay & Lesbian[301889]|Nonfiction[10703]|General[10716]\n",
      "|Books[283155]|Subjects[1000]|Nonfiction[53]|Crime & Criminals[11003]|Criminology[11005]\n",
      "|Books[283155]|Subjects[1000]|Nonfiction[53]|Politics[11079]|General[11083]\n",
      "|Books[283155]|Subjects[1000]|Nonfiction[53]|Politics[11079]|U.S.[11117]\n",
      "categories: 1\n",
      "|Books[283155]|Subjects[1000]|Cooking, Food & Wine[6]|Baking[4196]|Bread[4197]\n"
     ]
    },
    {
     "data": {
      "text/plain": [
       "<function close>"
      ]
     },
     "execution_count": 171,
     "metadata": {},
     "output_type": "execute_result"
    }
   ],
   "source": [
    "#Display and write the categories of sample products\n",
    "i, is_categories, is_group = 0, False, False\n",
    "with io.open('amazon_categories.txt', 'w', encoding=\"utf8\") as file:\n",
    "    with io.open('amazon-meta.txt', 'r', encoding=\"utf8\") as f:\n",
    "        for line in f:\n",
    "            line = line.strip()\n",
    "            if i == 10:\n",
    "                break\n",
    "            if line[:6] == 'group:':\n",
    "                #print ('group', (line[7:]))\n",
    "                is_group = line[7:] == 'Book'\n",
    "                j = 0\n",
    "                is_categories = False\n",
    "                i += 1\n",
    "                \n",
    "            if line[:11] == 'categories:' and group:\n",
    "                #print ('categories', (line[12:]))\n",
    "                num_categories = int(line[12:])\n",
    "                is_categories = True\n",
    "            \n",
    "            if (is_categories and is_group and j <= num_categories):\n",
    "                j += 1\n",
    "                print (line)\n",
    "                #strwrite = str(id) + ',' + asin + ',\"' + title + '\",' + group + ',' +  str(similar) + ',' +  categories + ',' +  str(reviews) + ',' +  str(avg_rating)\n",
    "                #file.write(strwrite + '\\n')\n",
    "file.close"
   ]
  },
  {
   "cell_type": "markdown",
   "metadata": {},
   "source": [
    "### 2: Category bloat\n",
    "According to the result above, there are many reduancies in the categories. We can filter out the similar categories and rebuilt a classifier or clustering so that the categories can be reduced to a smaller number like 10%. It can be done using ML algorithm like naive bayes and SVM etc."
   ]
  },
  {
   "cell_type": "markdown",
   "metadata": {},
   "source": [
    "## B: Thinking\n",
    "### 1. Algorithm thinking\n",
    "To build the product categorization from scratch, one has to build a clustering algorithm to classify the category based on the similar/co-purchased information presented. One the clustering is successfully completed, we can look into the statistics and compute the category based on that. \n",
    "\n",
    "### 2. Product thinking\n",
    " \n",
    " a. It's a good idea to show users  the categorization hierarchy, but too much of hierarchy also can cause confusion and overloading to the users's comprehension. \n",
    " \n",
    " b. It's a good idea to show users similar/co-purchased items. It can be like a recommendation system where users find its easier to purchase products that usually goes together. \n",
    " \n",
    " c. It's a must for users to see the review and ratings because it gives the users the creditability of the products and other experiences on the products. "
   ]
  },
  {
   "cell_type": "code",
   "execution_count": null,
   "metadata": {
    "collapsed": true
   },
   "outputs": [],
   "source": []
  }
 ],
 "metadata": {
  "anaconda-cloud": {},
  "kernelspec": {
   "display_name": "Python [conda root]",
   "language": "python",
   "name": "conda-root-py"
  },
  "language_info": {
   "codemirror_mode": {
    "name": "ipython",
    "version": 2
   },
   "file_extension": ".py",
   "mimetype": "text/x-python",
   "name": "python",
   "nbconvert_exporter": "python",
   "pygments_lexer": "ipython2",
   "version": "2.7.12"
  }
 },
 "nbformat": 4,
 "nbformat_minor": 1
}
