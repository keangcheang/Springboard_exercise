{
 "cells": [
  {
   "cell_type": "code",
   "execution_count": null,
   "metadata": {
    "collapsed": true
   },
   "outputs": [],
   "source": [
    "A=[1,2,3]\n",
    "#map function past the function from lambda to the list (if the function requires 2 argument then also 2 lists): \n",
    "#map(lambda t: t*2, A)\n",
    "\n",
    "#reduce function past function from lambda to the list but give out only one result: \n",
    "reduce(lambda x,y: x+y, A)\n",
    "\n",
    "#filter function filter out according to the lambda function: \n",
    "filter(lambda x: x%2==0, A)"
   ]
  }
 ],
 "metadata": {
  "kernelspec": {
   "display_name": "Python [default]",
   "language": "python",
   "name": "python2"
  },
  "language_info": {
   "codemirror_mode": {
    "name": "ipython",
    "version": 2
   },
   "file_extension": ".py",
   "mimetype": "text/x-python",
   "name": "python",
   "nbconvert_exporter": "python",
   "pygments_lexer": "ipython2",
   "version": "2.7.12"
  }
 },
 "nbformat": 4,
 "nbformat_minor": 1
}
