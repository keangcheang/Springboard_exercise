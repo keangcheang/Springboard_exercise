{
 "cells": [
  {
   "cell_type": "code",
   "execution_count": 1,
   "metadata": {
    "collapsed": true
   },
   "outputs": [],
   "source": [
    "import json\n",
    "import json.io."
   ]
  },
  {
   "cell_type": "code",
   "execution_count": 2,
   "metadata": {
    "collapsed": true
   },
   "outputs": [],
   "source": [
    "with open('data/world_bank_projects_less.json', 'r') as f: \n",
    "    data = json.load(f)"
   ]
  },
  {
   "cell_type": "code",
   "execution_count": 17,
   "metadata": {},
   "outputs": [
    {
     "data": {
      "text/plain": [
       "{u'_id': {u'$oid': u'52b213b38594d8a2be17c780'},\n",
       " u'approvalfy': 1999,\n",
       " u'board_approval_month': u'November',\n",
       " u'boardapprovaldate': u'2013-11-12T00:00:00Z',\n",
       " u'borrower': u'FEDERAL DEMOCRATIC REPUBLIC OF ETHIOPIA',\n",
       " u'closingdate': u'2018-07-07T00:00:00Z',\n",
       " u'country_namecode': u'Federal Democratic Republic of Ethiopia!$!ET',\n",
       " u'countrycode': u'ET',\n",
       " u'countryname': u'Federal Democratic Republic of Ethiopia',\n",
       " u'countryshortname': u'Ethiopia',\n",
       " u'docty': u'Project Information Document,Indigenous Peoples Plan,Project Information Document',\n",
       " u'envassesmentcategorycode': u'C',\n",
       " u'grantamt': 0,\n",
       " u'ibrdcommamt': 0,\n",
       " u'id': u'P129828',\n",
       " u'idacommamt': 130000000,\n",
       " u'impagency': u'MINISTRY OF EDUCATION',\n",
       " u'lendinginstr': u'Investment Project Financing',\n",
       " u'lendinginstrtype': u'IN',\n",
       " u'lendprojectcost': 550000000,\n",
       " u'majorsector_percent': [{u'Name': u'Education', u'Percent': 46},\n",
       "  {u'Name': u'Education', u'Percent': 26},\n",
       "  {u'Name': u'Public Administration, Law, and Justice', u'Percent': 16},\n",
       "  {u'Name': u'Education', u'Percent': 12}],\n",
       " u'mjsector_namecode': [{u'code': u'EX', u'name': u'Education'},\n",
       "  {u'code': u'EX', u'name': u'Education'},\n",
       "  {u'code': u'BX', u'name': u'Public Administration, Law, and Justice'},\n",
       "  {u'code': u'EX', u'name': u'Education'}],\n",
       " u'mjtheme': [u'Human development'],\n",
       " u'mjtheme_namecode': [{u'code': u'8', u'name': u'Human development'},\n",
       "  {u'code': u'11', u'name': u''}],\n",
       " u'mjthemecode': u'8,11',\n",
       " u'prodline': u'PE',\n",
       " u'prodlinetext': u'IBRD/IDA',\n",
       " u'productlinetype': u'L',\n",
       " u'project_abstract': {u'cdata': u'The development objective of the Second Phase of General Education Quality Improvement Project for Ethiopia is to improve learning conditions in primary and secondary schools and strengthen institutions at different levels of educational administration. The project has six components. The first component is curriculum, textbooks, assessment, examinations, and inspection. This component will support improvement of learning conditions in grades KG-12 by providing increased access to teaching and learning materials and through improvements to the curriculum by assessing the strengths and weaknesses of the current curriculum. This component has following four sub-components: (i) curriculum reform and implementation; (ii) teaching and learning materials; (iii) assessment and examinations; and (iv) inspection. The second component is teacher development program (TDP). This component will support improvements in learning conditions in both primary and secondary schools by advancing the quality of teaching in general education through: (a) enhancing the training of pre-service teachers in teacher education institutions; and (b) improving the quality of in-service teacher training. This component has following three sub-components: (i) pre-service teacher training; (ii) in-service teacher training; and (iii) licensing and relicensing of teachers and school leaders. The third component is school improvement plan. This component will support the strengthening of school planning in order to improve learning outcomes, and to partly fund the school improvement plans through school grants. It has following two sub-components: (i) school improvement plan; and (ii) school grants. The fourth component is management and capacity building, including education management information systems (EMIS). This component will support management and capacity building aspect of the project. This component has following three sub-components: (i) capacity building for education planning and management; (ii) capacity building for school planning and management; and (iii) EMIS. The fifth component is improving the quality of learning and teaching in secondary schools and universities through the use of information and communications technology (ICT). It has following five sub-components: (i) national policy and institution for ICT in general education; (ii) national ICT infrastructure improvement plan for general education; (iii) develop an integrated monitoring, evaluation, and learning system specifically for the ICT component; (iv) teacher professional development in the use of ICT; and (v) provision of limited number of e-Braille display readers with the possibility to scale up to all secondary education schools based on the successful implementation and usage of the readers. The sixth component is program coordination, monitoring and evaluation, and communication. It will support institutional strengthening by developing capacities in all aspects of program coordination, monitoring and evaluation; a new sub-component on communications will support information sharing for better management and accountability. It has following three sub-components: (i) program coordination; (ii) monitoring and evaluation (M and E); and (iii) communication.'},\n",
       " u'project_name': u'Ethiopia General Education Quality Improvement Project II',\n",
       " u'projectdocs': [{u'DocDate': u'28-AUG-2013',\n",
       "   u'DocType': u'PID',\n",
       "   u'DocTypeDesc': u'Project Information Document (PID),  Vol.',\n",
       "   u'DocURL': u'http://www-wds.worldbank.org/servlet/WDSServlet?pcont=details&eid=090224b081e545fb_1_0',\n",
       "   u'EntityID': u'090224b081e545fb_1_0'},\n",
       "  {u'DocDate': u'01-JUL-2013',\n",
       "   u'DocType': u'IP',\n",
       "   u'DocTypeDesc': u'Indigenous Peoples Plan (IP),  Vol.1 of 1',\n",
       "   u'DocURL': u'http://www-wds.worldbank.org/servlet/WDSServlet?pcont=details&eid=000442464_20130920111729',\n",
       "   u'EntityID': u'000442464_20130920111729'},\n",
       "  {u'DocDate': u'22-NOV-2012',\n",
       "   u'DocType': u'PID',\n",
       "   u'DocTypeDesc': u'Project Information Document (PID),  Vol.',\n",
       "   u'DocURL': u'http://www-wds.worldbank.org/servlet/WDSServlet?pcont=details&eid=090224b0817b19e2_1_0',\n",
       "   u'EntityID': u'090224b0817b19e2_1_0'}],\n",
       " u'projectfinancialtype': u'IDA',\n",
       " u'projectstatusdisplay': u'Active',\n",
       " u'regionname': u'Africa',\n",
       " u'sector': [{u'Name': u'Primary education'},\n",
       "  {u'Name': u'Secondary education'},\n",
       "  {u'Name': u'Public administration- Other social services'},\n",
       "  {u'Name': u'Tertiary education'}],\n",
       " u'sector1': {u'Name': u'Primary education', u'Percent': 46},\n",
       " u'sector2': {u'Name': u'Secondary education', u'Percent': 26},\n",
       " u'sector3': {u'Name': u'Public administration- Other social services',\n",
       "  u'Percent': 16},\n",
       " u'sector4': {u'Name': u'Tertiary education', u'Percent': 12},\n",
       " u'sector_namecode': [{u'code': u'EP', u'name': u'Primary education'},\n",
       "  {u'code': u'ES', u'name': u'Secondary education'},\n",
       "  {u'code': u'BS', u'name': u'Public administration- Other social services'},\n",
       "  {u'code': u'ET', u'name': u'Tertiary education'}],\n",
       " u'sectorcode': u'ET,BS,ES,EP',\n",
       " u'source': u'IBRD',\n",
       " u'status': u'Active',\n",
       " u'supplementprojectflg': u'N',\n",
       " u'theme1': {u'Name': u'Education for all', u'Percent': 100},\n",
       " u'theme_namecode': [{u'code': u'65', u'name': u'Education for all'}],\n",
       " u'themecode': u'65',\n",
       " u'totalamt': 130000000,\n",
       " u'totalcommamt': 130000000,\n",
       " u'url': u'http://www.worldbank.org/projects/P129828/ethiopia-general-education-quality-improvement-project-ii?lang=en'}"
      ]
     },
     "execution_count": 17,
     "metadata": {},
     "output_type": "execute_result"
    }
   ],
   "source": [
    "data[0]"
   ]
  },
  {
   "cell_type": "code",
   "execution_count": 18,
   "metadata": {},
   "outputs": [
    {
     "ename": "AttributeError",
     "evalue": "'list' object has no attribute 'keys'",
     "output_type": "error",
     "traceback": [
      "\u001b[0;31m---------------------------------------------------------------------------\u001b[0m",
      "\u001b[0;31mAttributeError\u001b[0m                            Traceback (most recent call last)",
      "\u001b[0;32m<ipython-input-18-f5e4d80650a6>\u001b[0m in \u001b[0;36m<module>\u001b[0;34m()\u001b[0m\n\u001b[0;32m----> 1\u001b[0;31m \u001b[0;32mfor\u001b[0m \u001b[0mi\u001b[0m \u001b[0;32min\u001b[0m \u001b[0mdata\u001b[0m\u001b[0;34m.\u001b[0m\u001b[0mkeys\u001b[0m\u001b[0;34m(\u001b[0m\u001b[0;34m)\u001b[0m\u001b[0;34m:\u001b[0m\u001b[0;34m\u001b[0m\u001b[0m\n\u001b[0m\u001b[1;32m      2\u001b[0m     \u001b[0;32mprint\u001b[0m \u001b[0;34m(\u001b[0m\u001b[0mi\u001b[0m \u001b[0;34m+\u001b[0m \u001b[0;34m': '\u001b[0m\u001b[0;34m,\u001b[0m \u001b[0mdata\u001b[0m\u001b[0;34m[\u001b[0m\u001b[0mk\u001b[0m\u001b[0;34m]\u001b[0m\u001b[0;34m)\u001b[0m\u001b[0;34m\u001b[0m\u001b[0m\n",
      "\u001b[0;31mAttributeError\u001b[0m: 'list' object has no attribute 'keys'"
     ]
    }
   ],
   "source": [
    "for i in data.: \n",
    "    print (i + ': ', data[k])"
   ]
  },
  {
   "cell_type": "code",
   "execution_count": null,
   "metadata": {
    "collapsed": true
   },
   "outputs": [],
   "source": []
  }
 ],
 "metadata": {
  "anaconda-cloud": {},
  "kernelspec": {
   "display_name": "Python [default]",
   "language": "python",
   "name": "python2"
  },
  "language_info": {
   "codemirror_mode": {
    "name": "ipython",
    "version": 2
   },
   "file_extension": ".py",
   "mimetype": "text/x-python",
   "name": "python",
   "nbconvert_exporter": "python",
   "pygments_lexer": "ipython2",
   "version": "2.7.12"
  }
 },
 "nbformat": 4,
 "nbformat_minor": 1
}
