{
 "cells": [
  {
   "cell_type": "markdown",
   "metadata": {},
   "source": [
    "# XML example and exercise\n",
    "****\n",
    "+ study examples of accessing nodes in XML tree structure  \n",
    "+ work on exercise to be completed and submitted\n",
    "****\n",
    "+ reference: https://docs.python.org/2.7/library/xml.etree.elementtree.html\n",
    "+ data source: http://www.dbis.informatik.uni-goettingen.de/Mondial\n",
    "****"
   ]
  },
  {
   "cell_type": "code",
   "execution_count": 61,
   "metadata": {
    "collapsed": true
   },
   "outputs": [],
   "source": [
    "from xml.etree import ElementTree as ET"
   ]
  },
  {
   "cell_type": "markdown",
   "metadata": {},
   "source": [
    "## XML example\n",
    "\n",
    "+ for details about tree traversal and iterators, see https://docs.python.org/2.7/library/xml.etree.elementtree.html"
   ]
  },
  {
   "cell_type": "code",
   "execution_count": 62,
   "metadata": {
    "collapsed": true
   },
   "outputs": [],
   "source": [
    "document_tree = ET.parse( './data/mondial_database_less.xml' )"
   ]
  },
  {
   "cell_type": "code",
   "execution_count": 63,
   "metadata": {},
   "outputs": [
    {
     "name": "stdout",
     "output_type": "stream",
     "text": [
      "Albania\n",
      "Greece\n",
      "Macedonia\n",
      "Serbia\n",
      "Montenegro\n",
      "Kosovo\n",
      "Andorra\n"
     ]
    }
   ],
   "source": [
    "# print names of all countries\n",
    "for child in document_tree.getroot():\n",
    "    print child.find('name').text"
   ]
  },
  {
   "cell_type": "code",
   "execution_count": 64,
   "metadata": {},
   "outputs": [
    {
     "name": "stdout",
     "output_type": "stream",
     "text": [
      "* Albania: Tirana, Shkodër, Durrës, Vlorë, Elbasan, Korçë\n",
      "* Greece: Komotini, Kavala, Athina, Peiraias, Peristeri, Acharnes, Patra, Kozani, Kerkyra, Ioannina, Thessaloniki, Iraklio, Chania, Ermoupoli, Rhodes, Tripoli, Lamia, Chalkida, Larissa, Volos, Mytilini, Karyes\n",
      "* Macedonia: Skopje, Kumanovo\n",
      "* Serbia: Beograd, Novi Sad, Niš\n",
      "* Montenegro: Podgorica\n",
      "* Kosovo: Prishtine\n",
      "* Andorra: Andorra la Vella\n"
     ]
    }
   ],
   "source": [
    "# print names of all countries and their cities\n",
    "for element in document_tree.iterfind('country'):\n",
    "    print '* ' + element.find('name').text + ':',\n",
    "    capitals_string = ''\n",
    "    for subelement in element.getiterator('city'):\n",
    "        capitals_string += subelement.find('name').text + ', '\n",
    "    print capitals_string[:-2]"
   ]
  },
  {
   "cell_type": "markdown",
   "metadata": {},
   "source": [
    "****\n",
    "## XML exercise\n",
    "\n",
    "Using data in 'data/mondial_database.xml', the examples above, and refering to https://docs.python.org/2.7/library/xml.etree.elementtree.html, find\n",
    "\n",
    "1. 10 countries with the lowest infant mortality rates\n",
    "2. 10 cities with the largest population\n",
    "3. 10 ethnic groups with the largest overall populations (sum of best/latest estimates over all countries)\n",
    "4. name and country of a) longest river, b) largest lake and c) airport at highest elevation"
   ]
  },
  {
   "cell_type": "code",
   "execution_count": 65,
   "metadata": {
    "collapsed": true
   },
   "outputs": [],
   "source": [
    "document = ET.parse( './data/mondial_database.xml' )"
   ]
  },
  {
   "cell_type": "code",
   "execution_count": 79,
   "metadata": {},
   "outputs": [],
   "source": [
    "for element in document.iterfind('infant_mortality'):\n",
    "    print"
   ]
  },
  {
   "cell_type": "code",
   "execution_count": 99,
   "metadata": {},
   "outputs": [
    {
     "name": "stdout",
     "output_type": "stream",
     "text": [
      "['__class__', '__delattr__', '__delitem__', '__dict__', '__doc__', '__format__', '__getattribute__', '__getitem__', '__hash__', '__init__', '__len__', '__module__', '__new__', '__nonzero__', '__reduce__', '__reduce_ex__', '__repr__', '__setattr__', '__setitem__', '__sizeof__', '__str__', '__subclasshook__', '__weakref__', '_children', 'append', 'attrib', 'clear', 'copy', 'extend', 'find', 'findall', 'findtext', 'get', 'getchildren', 'getiterator', 'insert', 'items', 'iter', 'iterfind', 'itertext', 'keys', 'makeelement', 'remove', 'set', 'tag', 'tail', 'text']\n"
     ]
    }
   ],
   "source": [
    "children = document.getroot()\n",
    "print dir(children)"
   ]
  },
  {
   "cell_type": "markdown",
   "metadata": {},
   "source": [
    "## Answer to Q1: "
   ]
  },
  {
   "cell_type": "code",
   "execution_count": 227,
   "metadata": {},
   "outputs": [],
   "source": [
    "#create a dataframe consisting country and infant mortality rate\n",
    "import pandas as pd\n",
    "\n",
    "rate=[]\n",
    "for element in children.iterfind('country'):\n",
    "    country=element.find('name')\n",
    "    infant_mort= element.find('infant_mortality')\n",
    "    if infant_mort != None:\n",
    "        rate.append([country.text,infant_mort.text])\n",
    "    #print rate\n",
    "    df = pd.DataFrame(rate, columns=(['country','rate']))"
   ]
  },
  {
   "cell_type": "code",
   "execution_count": 337,
   "metadata": {},
   "outputs": [
    {
     "data": {
      "text/html": [
       "<div>\n",
       "<style>\n",
       "    .dataframe thead tr:only-child th {\n",
       "        text-align: right;\n",
       "    }\n",
       "\n",
       "    .dataframe thead th {\n",
       "        text-align: left;\n",
       "    }\n",
       "\n",
       "    .dataframe tbody tr th {\n",
       "        vertical-align: top;\n",
       "    }\n",
       "</style>\n",
       "<table border=\"1\" class=\"dataframe\">\n",
       "  <thead>\n",
       "    <tr style=\"text-align: right;\">\n",
       "      <th></th>\n",
       "      <th>country</th>\n",
       "      <th>rate</th>\n",
       "    </tr>\n",
       "  </thead>\n",
       "  <tbody>\n",
       "    <tr>\n",
       "      <th>0</th>\n",
       "      <td>Monaco</td>\n",
       "      <td>1.81</td>\n",
       "    </tr>\n",
       "    <tr>\n",
       "      <th>1</th>\n",
       "      <td>Japan</td>\n",
       "      <td>2.13</td>\n",
       "    </tr>\n",
       "    <tr>\n",
       "      <th>2</th>\n",
       "      <td>Bermuda</td>\n",
       "      <td>2.48</td>\n",
       "    </tr>\n",
       "    <tr>\n",
       "      <th>3</th>\n",
       "      <td>Norway</td>\n",
       "      <td>2.48</td>\n",
       "    </tr>\n",
       "    <tr>\n",
       "      <th>4</th>\n",
       "      <td>Singapore</td>\n",
       "      <td>2.53</td>\n",
       "    </tr>\n",
       "    <tr>\n",
       "      <th>5</th>\n",
       "      <td>Sweden</td>\n",
       "      <td>2.60</td>\n",
       "    </tr>\n",
       "    <tr>\n",
       "      <th>6</th>\n",
       "      <td>Czech Republic</td>\n",
       "      <td>2.63</td>\n",
       "    </tr>\n",
       "    <tr>\n",
       "      <th>7</th>\n",
       "      <td>Hong Kong</td>\n",
       "      <td>2.73</td>\n",
       "    </tr>\n",
       "    <tr>\n",
       "      <th>8</th>\n",
       "      <td>Macao</td>\n",
       "      <td>3.13</td>\n",
       "    </tr>\n",
       "    <tr>\n",
       "      <th>9</th>\n",
       "      <td>Iceland</td>\n",
       "      <td>3.15</td>\n",
       "    </tr>\n",
       "  </tbody>\n",
       "</table>\n",
       "</div>"
      ],
      "text/plain": [
       "          country  rate\n",
       "0          Monaco  1.81\n",
       "1           Japan  2.13\n",
       "2         Bermuda  2.48\n",
       "3          Norway  2.48\n",
       "4       Singapore  2.53\n",
       "5          Sweden  2.60\n",
       "6  Czech Republic  2.63\n",
       "7       Hong Kong  2.73\n",
       "8           Macao  3.13\n",
       "9         Iceland  3.15"
      ]
     },
     "execution_count": 337,
     "metadata": {},
     "output_type": "execute_result"
    }
   ],
   "source": [
    "#the top 10 lowest infrant mortality rate countries\n",
    "df.rate=pd.to_numeric(df.rate)\n",
    "lowest_rate =df.sort_values(by='rate').head(10)\n",
    "lowest_rate =lowest_rate.reset_index()\n",
    "lowest_rate=lowest_rate.drop('index', axis=1)\n",
    "lowest_rate"
   ]
  },
  {
   "cell_type": "markdown",
   "metadata": {},
   "source": [
    "## Answer to Q2: "
   ]
  },
  {
   "cell_type": "code",
   "execution_count": 338,
   "metadata": {},
   "outputs": [],
   "source": [
    "# create a dataframe for city and population\n",
    "pop=[]\n",
    "for country in document.iterfind( 'country' ):\n",
    "    for c in country.iter('city'): #iter is the same as getiterator, give out same result\n",
    "        city = c.find('name').text\n",
    "        for p in c.iterfind('population'): \n",
    "            year = p.attrib['year'] \n",
    "            if p.attrib['year'] >= year: \n",
    "                population = int(p.text)\n",
    "       \n",
    "        pop.append([city, year,population])\n",
    "    pop_df= pd.DataFrame(pop,columns=(['city','year','population']))\n",
    "    pop_df.population=pd.to_numeric(pop_df['population'])"
   ]
  },
  {
   "cell_type": "code",
   "execution_count": 339,
   "metadata": {},
   "outputs": [
    {
     "data": {
      "text/html": [
       "<div>\n",
       "<style>\n",
       "    .dataframe thead tr:only-child th {\n",
       "        text-align: right;\n",
       "    }\n",
       "\n",
       "    .dataframe thead th {\n",
       "        text-align: left;\n",
       "    }\n",
       "\n",
       "    .dataframe tbody tr th {\n",
       "        vertical-align: top;\n",
       "    }\n",
       "</style>\n",
       "<table border=\"1\" class=\"dataframe\">\n",
       "  <thead>\n",
       "    <tr style=\"text-align: right;\">\n",
       "      <th></th>\n",
       "      <th>city</th>\n",
       "      <th>year</th>\n",
       "      <th>population</th>\n",
       "    </tr>\n",
       "  </thead>\n",
       "  <tbody>\n",
       "    <tr>\n",
       "      <th>0</th>\n",
       "      <td>Shanghai</td>\n",
       "      <td>2010</td>\n",
       "      <td>22315474</td>\n",
       "    </tr>\n",
       "    <tr>\n",
       "      <th>1</th>\n",
       "      <td>Istanbul</td>\n",
       "      <td>2012</td>\n",
       "      <td>13710512</td>\n",
       "    </tr>\n",
       "    <tr>\n",
       "      <th>2</th>\n",
       "      <td>Mumbai</td>\n",
       "      <td>2011</td>\n",
       "      <td>12442373</td>\n",
       "    </tr>\n",
       "    <tr>\n",
       "      <th>3</th>\n",
       "      <td>Moskva</td>\n",
       "      <td>2013</td>\n",
       "      <td>11979529</td>\n",
       "    </tr>\n",
       "    <tr>\n",
       "      <th>4</th>\n",
       "      <td>Beijing</td>\n",
       "      <td>2010</td>\n",
       "      <td>11716620</td>\n",
       "    </tr>\n",
       "    <tr>\n",
       "      <th>5</th>\n",
       "      <td>São Paulo</td>\n",
       "      <td>2010</td>\n",
       "      <td>11152344</td>\n",
       "    </tr>\n",
       "    <tr>\n",
       "      <th>6</th>\n",
       "      <td>Tianjin</td>\n",
       "      <td>2010</td>\n",
       "      <td>11090314</td>\n",
       "    </tr>\n",
       "    <tr>\n",
       "      <th>7</th>\n",
       "      <td>Guangzhou</td>\n",
       "      <td>2010</td>\n",
       "      <td>11071424</td>\n",
       "    </tr>\n",
       "    <tr>\n",
       "      <th>8</th>\n",
       "      <td>Delhi</td>\n",
       "      <td>2011</td>\n",
       "      <td>11034555</td>\n",
       "    </tr>\n",
       "    <tr>\n",
       "      <th>9</th>\n",
       "      <td>Shenzhen</td>\n",
       "      <td>2010</td>\n",
       "      <td>10358381</td>\n",
       "    </tr>\n",
       "  </tbody>\n",
       "</table>\n",
       "</div>"
      ],
      "text/plain": [
       "        city  year  population\n",
       "0   Shanghai  2010    22315474\n",
       "1   Istanbul  2012    13710512\n",
       "2     Mumbai  2011    12442373\n",
       "3     Moskva  2013    11979529\n",
       "4    Beijing  2010    11716620\n",
       "5  São Paulo  2010    11152344\n",
       "6    Tianjin  2010    11090314\n",
       "7  Guangzhou  2010    11071424\n",
       "8      Delhi  2011    11034555\n",
       "9   Shenzhen  2010    10358381"
      ]
     },
     "execution_count": 339,
     "metadata": {},
     "output_type": "execute_result"
    }
   ],
   "source": [
    "#the top 10 cities with largest population: \n",
    "largest_pop_city= pop_df.sort_values('population', ascending=False).head(10).reset_index()\n",
    "largest_pop_city.drop('index', axis=1)"
   ]
  },
  {
   "cell_type": "markdown",
   "metadata": {},
   "source": [
    "## Answer to Q3: \n",
    "10 ethnic groups with the largest overall populations (sum of best/latest estimates over all countries)"
   ]
  },
  {
   "cell_type": "code",
   "execution_count": 490,
   "metadata": {},
   "outputs": [],
   "source": [
    "# create a dataframe for city and population\n",
    "ethnic=[]\n",
    "for rode in document.iter( 'country' ):\n",
    "    #country\n",
    "    country = rode.find('name').text\n",
    "    \n",
    "    for p in rode.iterfind('population'): \n",
    "        #year\n",
    "        year = p.attrib['year'] \n",
    "    \n",
    "        if p.attrib['year'] >= year: \n",
    "            #population\n",
    "            population = p.text\n",
    "            \n",
    "    for e in rode.iterfind('ethnicgroup'): \n",
    "        #percent\n",
    "        percent =e.attrib['percentage'] \n",
    "        #if e.find('ethnicgroup') != None: \n",
    "            #ethnic_group\n",
    "        ethnic_group =e.text\n",
    "        ethnic.append([country, ethnic_group, population, year, percent])\n",
    "   \n",
    "    #create combined dataframes\n",
    "    ethnic_df= pd.DataFrame(ethnic,columns=(['country','ethnic_group','population','year', 'percent']))\n",
    "    ethnic_df.population=pd.to_numeric(ethnic_df['population'])\n",
    "    ethnic_df.year=pd.to_numeric(ethnic_df['year'])\n",
    "    ethnic_df.percent=pd.to_numeric(ethnic_df['percent'])\n",
    "    ethnic_df['et_group_pop'] = (ethnic_df.population * ethnic_df.percent)/100"
   ]
  },
  {
   "cell_type": "code",
   "execution_count": 492,
   "metadata": {},
   "outputs": [
    {
     "data": {
      "text/html": [
       "<div>\n",
       "<style>\n",
       "    .dataframe thead tr:only-child th {\n",
       "        text-align: right;\n",
       "    }\n",
       "\n",
       "    .dataframe thead th {\n",
       "        text-align: left;\n",
       "    }\n",
       "\n",
       "    .dataframe tbody tr th {\n",
       "        vertical-align: top;\n",
       "    }\n",
       "</style>\n",
       "<table border=\"1\" class=\"dataframe\">\n",
       "  <thead>\n",
       "    <tr style=\"text-align: right;\">\n",
       "      <th></th>\n",
       "      <th>et_group_pop</th>\n",
       "    </tr>\n",
       "    <tr>\n",
       "      <th>ethnic_group</th>\n",
       "      <th></th>\n",
       "    </tr>\n",
       "  </thead>\n",
       "  <tbody>\n",
       "    <tr>\n",
       "      <th>Han Chinese</th>\n",
       "      <td>1.24506e+09</td>\n",
       "    </tr>\n",
       "    <tr>\n",
       "      <th>Indo-Aryan</th>\n",
       "      <td>8.71816e+08</td>\n",
       "    </tr>\n",
       "    <tr>\n",
       "      <th>European</th>\n",
       "      <td>4.94872e+08</td>\n",
       "    </tr>\n",
       "    <tr>\n",
       "      <th>African</th>\n",
       "      <td>3.18325e+08</td>\n",
       "    </tr>\n",
       "    <tr>\n",
       "      <th>Dravidian</th>\n",
       "      <td>3.02714e+08</td>\n",
       "    </tr>\n",
       "    <tr>\n",
       "      <th>Mestizo</th>\n",
       "      <td>1.57734e+08</td>\n",
       "    </tr>\n",
       "    <tr>\n",
       "      <th>Bengali</th>\n",
       "      <td>1.46777e+08</td>\n",
       "    </tr>\n",
       "    <tr>\n",
       "      <th>Russian</th>\n",
       "      <td>1.31857e+08</td>\n",
       "    </tr>\n",
       "    <tr>\n",
       "      <th>Japanese</th>\n",
       "      <td>1.26534e+08</td>\n",
       "    </tr>\n",
       "    <tr>\n",
       "      <th>Malay</th>\n",
       "      <td>1.21994e+08</td>\n",
       "    </tr>\n",
       "  </tbody>\n",
       "</table>\n",
       "</div>"
      ],
      "text/plain": [
       "              et_group_pop\n",
       "ethnic_group              \n",
       "Han Chinese    1.24506e+09\n",
       "Indo-Aryan     8.71816e+08\n",
       "European       4.94872e+08\n",
       "African        3.18325e+08\n",
       "Dravidian      3.02714e+08\n",
       "Mestizo        1.57734e+08\n",
       "Bengali        1.46777e+08\n",
       "Russian        1.31857e+08\n",
       "Japanese       1.26534e+08\n",
       "Malay          1.21994e+08"
      ]
     },
     "execution_count": 492,
     "metadata": {},
     "output_type": "execute_result"
    }
   ],
   "source": [
    "#top 10 ethnic group with the largest population\n",
    "sum_ethnic =ethnic_df.groupby('ethnic_group').sum()\n",
    "top_10= sum_ethnic.drop(['population','year','percent'], axis=1)\n",
    "top_10.sort_values('et_group_pop', ascending=False).head(10)"
   ]
  },
  {
   "cell_type": "code",
   "execution_count": 480,
   "metadata": {},
   "outputs": [
    {
     "data": {
      "text/html": [
       "<div>\n",
       "<style>\n",
       "    .dataframe thead tr:only-child th {\n",
       "        text-align: right;\n",
       "    }\n",
       "\n",
       "    .dataframe thead th {\n",
       "        text-align: left;\n",
       "    }\n",
       "\n",
       "    .dataframe tbody tr th {\n",
       "        vertical-align: top;\n",
       "    }\n",
       "</style>\n",
       "<table border=\"1\" class=\"dataframe\">\n",
       "  <thead>\n",
       "    <tr style=\"text-align: right;\">\n",
       "      <th></th>\n",
       "      <th>population</th>\n",
       "      <th>year</th>\n",
       "      <th>percent</th>\n",
       "      <th>et_group_pop</th>\n",
       "    </tr>\n",
       "    <tr>\n",
       "      <th>ethnic_group</th>\n",
       "      <th></th>\n",
       "      <th></th>\n",
       "      <th></th>\n",
       "      <th></th>\n",
       "    </tr>\n",
       "  </thead>\n",
       "  <tbody>\n",
       "    <tr>\n",
       "      <th>Acholi</th>\n",
       "      <td>34856813</td>\n",
       "      <td>2014</td>\n",
       "      <td>4.00</td>\n",
       "      <td>1.394e+06</td>\n",
       "    </tr>\n",
       "    <tr>\n",
       "      <th>Afar</th>\n",
       "      <td>85155023</td>\n",
       "      <td>4022</td>\n",
       "      <td>36.70</td>\n",
       "      <td>1.725e+06</td>\n",
       "    </tr>\n",
       "    <tr>\n",
       "      <th>African</th>\n",
       "      <td>975352746</td>\n",
       "      <td>70393</td>\n",
       "      <td>1868.55</td>\n",
       "      <td>3.183e+08</td>\n",
       "    </tr>\n",
       "    <tr>\n",
       "      <th>African descent</th>\n",
       "      <td>5663</td>\n",
       "      <td>2014</td>\n",
       "      <td>50.00</td>\n",
       "      <td>2.832e+03</td>\n",
       "    </tr>\n",
       "    <tr>\n",
       "      <th>African-white-Indian</th>\n",
       "      <td>392291</td>\n",
       "      <td>2011</td>\n",
       "      <td>90.00</td>\n",
       "      <td>3.531e+05</td>\n",
       "    </tr>\n",
       "    <tr>\n",
       "      <th>Afro-Asian</th>\n",
       "      <td>27136977</td>\n",
       "      <td>2010</td>\n",
       "      <td>10.00</td>\n",
       "      <td>2.714e+06</td>\n",
       "    </tr>\n",
       "    <tr>\n",
       "      <th>Afro-Chinese</th>\n",
       "      <td>2697983</td>\n",
       "      <td>2011</td>\n",
       "      <td>1.20</td>\n",
       "      <td>3.238e+04</td>\n",
       "    </tr>\n",
       "    <tr>\n",
       "      <th>Afro-East Indian</th>\n",
       "      <td>2697983</td>\n",
       "      <td>2011</td>\n",
       "      <td>3.00</td>\n",
       "      <td>8.094e+04</td>\n",
       "    </tr>\n",
       "    <tr>\n",
       "      <th>Afro-European</th>\n",
       "      <td>2697983</td>\n",
       "      <td>2011</td>\n",
       "      <td>15.10</td>\n",
       "      <td>4.074e+05</td>\n",
       "    </tr>\n",
       "    <tr>\n",
       "      <th>Albanian</th>\n",
       "      <td>7213833</td>\n",
       "      <td>8044</td>\n",
       "      <td>217.20</td>\n",
       "      <td>4.805e+06</td>\n",
       "    </tr>\n",
       "  </tbody>\n",
       "</table>\n",
       "</div>"
      ],
      "text/plain": [
       "                      population   year  percent  et_group_pop\n",
       "ethnic_group                                                  \n",
       "Acholi                  34856813   2014     4.00     1.394e+06\n",
       "Afar                    85155023   4022    36.70     1.725e+06\n",
       "African                975352746  70393  1868.55     3.183e+08\n",
       "African descent             5663   2014    50.00     2.832e+03\n",
       "African-white-Indian      392291   2011    90.00     3.531e+05\n",
       "Afro-Asian              27136977   2010    10.00     2.714e+06\n",
       "Afro-Chinese             2697983   2011     1.20     3.238e+04\n",
       "Afro-East Indian         2697983   2011     3.00     8.094e+04\n",
       "Afro-European            2697983   2011    15.10     4.074e+05\n",
       "Albanian                 7213833   8044   217.20     4.805e+06"
      ]
     },
     "execution_count": 480,
     "metadata": {},
     "output_type": "execute_result"
    }
   ],
   "source": [
    "sum_ethnic.head(10)"
   ]
  },
  {
   "cell_type": "markdown",
   "metadata": {},
   "source": [
    "## Answer to Q4: \n",
    "- name and country of a) longest river, b) largest lake and c) airport at highest elevation"
   ]
  },
  {
   "cell_type": "code",
   "execution_count": null,
   "metadata": {
    "collapsed": true
   },
   "outputs": [],
   "source": [
    "#find the name and country of the longest river\n"
   ]
  },
  {
   "cell_type": "code",
   "execution_count": null,
   "metadata": {
    "collapsed": true
   },
   "outputs": [],
   "source": []
  }
 ],
 "metadata": {
  "anaconda-cloud": {},
  "kernelspec": {
   "display_name": "Python [default]",
   "language": "python",
   "name": "python2"
  },
  "language_info": {
   "codemirror_mode": {
    "name": "ipython",
    "version": 2
   },
   "file_extension": ".py",
   "mimetype": "text/x-python",
   "name": "python",
   "nbconvert_exporter": "python",
   "pygments_lexer": "ipython2",
   "version": "2.7.12"
  }
 },
 "nbformat": 4,
 "nbformat_minor": 1
}
