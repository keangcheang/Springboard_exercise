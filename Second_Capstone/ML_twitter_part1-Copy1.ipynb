{
 "cells": [
  {
   "cell_type": "markdown",
   "metadata": {},
   "source": [
    "### Tasks in part1: \n",
    "    1. collect the tweets data from crate.io\n",
    "    2. prepare the data for sentiment analysis\n",
    "    3. using naive bayes analyzer for the sentiment analysis\n",
    "    \n",
    "**- proposal for next step: **\n",
    "    1. mining the tweets with frequency of term along with visualization\n",
    "    2. put the tweet into geolocation and interactive maps\n",
    "    3. search for specific keyword and filter out for the topic I want to explore more"
   ]
  },
  {
   "cell_type": "code",
   "execution_count": 1,
   "metadata": {
    "collapsed": true
   },
   "outputs": [],
   "source": [
    "import pandas as pd\n",
    "import json\n",
    "import numpy as np\n",
    "from textblob import TextBlob"
   ]
  },
  {
   "cell_type": "code",
   "execution_count": 2,
   "metadata": {},
   "outputs": [
    {
     "data": {
      "text/html": [
       "<div>\n",
       "<style>\n",
       "    .dataframe thead tr:only-child th {\n",
       "        text-align: right;\n",
       "    }\n",
       "\n",
       "    .dataframe thead th {\n",
       "        text-align: left;\n",
       "    }\n",
       "\n",
       "    .dataframe tbody tr th {\n",
       "        vertical-align: top;\n",
       "    }\n",
       "</style>\n",
       "<table border=\"1\" class=\"dataframe\">\n",
       "  <thead>\n",
       "    <tr style=\"text-align: right;\">\n",
       "      <th></th>\n",
       "      <th>created_at</th>\n",
       "      <th>id</th>\n",
       "      <th>retweeted</th>\n",
       "      <th>source</th>\n",
       "      <th>text</th>\n",
       "      <th>user</th>\n",
       "    </tr>\n",
       "  </thead>\n",
       "  <tbody>\n",
       "    <tr>\n",
       "      <th>0</th>\n",
       "      <td>2017-08-01 00:46:11</td>\n",
       "      <td>892184651892224000</td>\n",
       "      <td>False</td>\n",
       "      <td>&lt;a href=\"http://www.facebook.com/twitter\" rel=...</td>\n",
       "      <td>https://t.co/yb7EZLUdCf</td>\n",
       "      <td>{u'verified': False, u'description': u'desde 1...</td>\n",
       "    </tr>\n",
       "    <tr>\n",
       "      <th>1</th>\n",
       "      <td>2017-08-01 00:46:11</td>\n",
       "      <td>892184651896410112</td>\n",
       "      <td>False</td>\n",
       "      <td>&lt;a href=\"http://twitter.com/download/iphone\" r...</td>\n",
       "      <td>RT @horrorcuIt: infernoooooo que horas vai lib...</td>\n",
       "      <td>{u'verified': False, u'description': u'entrei ...</td>\n",
       "    </tr>\n",
       "    <tr>\n",
       "      <th>2</th>\n",
       "      <td>2017-08-01 00:46:11</td>\n",
       "      <td>892184651929796608</td>\n",
       "      <td>False</td>\n",
       "      <td>&lt;a href=\"https://about.twitter.com/products/tw...</td>\n",
       "      <td>RT @Sammyy02K: Urban jungle🏙🌴👑 https://t.co...</td>\n",
       "      <td>{u'verified': False, u'description': u'🅰️pple...</td>\n",
       "    </tr>\n",
       "  </tbody>\n",
       "</table>\n",
       "</div>"
      ],
      "text/plain": [
       "           created_at                  id  retweeted  \\\n",
       "0 2017-08-01 00:46:11  892184651892224000      False   \n",
       "1 2017-08-01 00:46:11  892184651896410112      False   \n",
       "2 2017-08-01 00:46:11  892184651929796608      False   \n",
       "\n",
       "                                              source  \\\n",
       "0  <a href=\"http://www.facebook.com/twitter\" rel=...   \n",
       "1  <a href=\"http://twitter.com/download/iphone\" r...   \n",
       "2  <a href=\"https://about.twitter.com/products/tw...   \n",
       "\n",
       "                                                text  \\\n",
       "0                            https://t.co/yb7EZLUdCf   \n",
       "1  RT @horrorcuIt: infernoooooo que horas vai lib...   \n",
       "2  RT @Sammyy02K: Urban jungle🏙🌴👑 https://t.co...   \n",
       "\n",
       "                                                user  \n",
       "0  {u'verified': False, u'description': u'desde 1...  \n",
       "1  {u'verified': False, u'description': u'entrei ...  \n",
       "2  {u'verified': False, u'description': u'🅰️pple...  "
      ]
     },
     "execution_count": 2,
     "metadata": {},
     "output_type": "execute_result"
    }
   ],
   "source": [
    "rawdata = pd.read_json('tweets_0_.json', lines=True)\n",
    "rawdata.head(3)"
   ]
  },
  {
   "cell_type": "markdown",
   "metadata": {},
   "source": [
    "### Most of the tweets consist of different languages, thus I need to filter out only English tweets. I use TextBlob functionality to solve this problem. "
   ]
  },
  {
   "cell_type": "code",
   "execution_count": 3,
   "metadata": {
    "collapsed": true
   },
   "outputs": [],
   "source": [
    "def find_lang(doc): \n",
    "    tb = TextBlob(doc)\n",
    "    if len(tb.words)>5 and type(tb): \n",
    "        return tb.detect_language()\n",
    "    else: \n",
    "        return 'none'\n",
    "\n",
    "def doc_polarity(doc): \n",
    "    tb = TextBlob(doc) \n",
    "    return tb.sentiment.polarity\n",
    "\n",
    "def doc_sub(doc): \n",
    "    tb  = TextBlob(doc)\n",
    "    return tb.sentiment.subjectivity"
   ]
  },
  {
   "cell_type": "markdown",
   "metadata": {},
   "source": [
    "### Due to lack of computation power, I use only 200 observations for now just to test the code. "
   ]
  },
  {
   "cell_type": "code",
   "execution_count": 4,
   "metadata": {},
   "outputs": [
    {
     "data": {
      "text/plain": [
       "0    none\n",
       "1      pt\n",
       "2      en\n",
       "Name: lang, dtype: object"
      ]
     },
     "execution_count": 4,
     "metadata": {},
     "output_type": "execute_result"
    }
   ],
   "source": [
    "rawdata['lang']=rawdata['text'][:200].apply(find_lang)\n",
    "rawdata['lang'].head(3)"
   ]
  },
  {
   "cell_type": "code",
   "execution_count": 5,
   "metadata": {},
   "outputs": [
    {
     "name": "stdout",
     "output_type": "stream",
     "text": [
      "English Tweets have 70 out of 200.\n"
     ]
    },
    {
     "data": {
      "text/html": [
       "<div>\n",
       "<style>\n",
       "    .dataframe thead tr:only-child th {\n",
       "        text-align: right;\n",
       "    }\n",
       "\n",
       "    .dataframe thead th {\n",
       "        text-align: left;\n",
       "    }\n",
       "\n",
       "    .dataframe tbody tr th {\n",
       "        vertical-align: top;\n",
       "    }\n",
       "</style>\n",
       "<table border=\"1\" class=\"dataframe\">\n",
       "  <thead>\n",
       "    <tr style=\"text-align: right;\">\n",
       "      <th></th>\n",
       "      <th>text</th>\n",
       "      <th>retweeted</th>\n",
       "      <th>user</th>\n",
       "      <th>source</th>\n",
       "    </tr>\n",
       "  </thead>\n",
       "  <tbody>\n",
       "    <tr>\n",
       "      <th>0</th>\n",
       "      <td>RT @Sammyy02K: Urban jungle🏙🌴👑 https://t.co...</td>\n",
       "      <td>False</td>\n",
       "      <td>{u'verified': False, u'description': u'🅰️pple...</td>\n",
       "      <td>&lt;a href=\"https://about.twitter.com/products/tw...</td>\n",
       "    </tr>\n",
       "    <tr>\n",
       "      <th>1</th>\n",
       "      <td>@vinsmokesanjis I'm so tempted to look but I'm...</td>\n",
       "      <td>False</td>\n",
       "      <td>{u'verified': False, u'description': u'One tim...</td>\n",
       "      <td>&lt;a href=\"http://twitter.com/download/iphone\" r...</td>\n",
       "    </tr>\n",
       "    <tr>\n",
       "      <th>2</th>\n",
       "      <td>Devers is 3-3 tonight. Pretty good but also ma...</td>\n",
       "      <td>False</td>\n",
       "      <td>{u'verified': False, u'description': u'IG @sta...</td>\n",
       "      <td>&lt;a href=\"http://twitter.com/download/iphone\" r...</td>\n",
       "    </tr>\n",
       "  </tbody>\n",
       "</table>\n",
       "</div>"
      ],
      "text/plain": [
       "                                                text  retweeted  \\\n",
       "0  RT @Sammyy02K: Urban jungle🏙🌴👑 https://t.co...      False   \n",
       "1  @vinsmokesanjis I'm so tempted to look but I'm...      False   \n",
       "2  Devers is 3-3 tonight. Pretty good but also ma...      False   \n",
       "\n",
       "                                                user  \\\n",
       "0  {u'verified': False, u'description': u'🅰️pple...   \n",
       "1  {u'verified': False, u'description': u'One tim...   \n",
       "2  {u'verified': False, u'description': u'IG @sta...   \n",
       "\n",
       "                                              source  \n",
       "0  <a href=\"https://about.twitter.com/products/tw...  \n",
       "1  <a href=\"http://twitter.com/download/iphone\" r...  \n",
       "2  <a href=\"http://twitter.com/download/iphone\" r...  "
      ]
     },
     "execution_count": 5,
     "metadata": {},
     "output_type": "execute_result"
    }
   ],
   "source": [
    "df= rawdata[rawdata['lang']=='en']\n",
    "size= str(len(rawdata[rawdata['lang']=='en']))\n",
    "print (\"English Tweets have \" + size + \" out of 200.\")\n",
    "df = df.reset_index()\n",
    "df = df[['text', \"retweeted\",'user', 'source']]\n",
    "df.head(3)"
   ]
  },
  {
   "cell_type": "code",
   "execution_count": 6,
   "metadata": {
    "collapsed": true
   },
   "outputs": [],
   "source": [
    "# the encode_doc give out the same text as pd.read_json\n",
    "# it might solve issue with windows\n",
    "import codecs\n",
    "\n",
    "def encode_doc(doc): \n",
    "    encoded_doc = doc.encode('utf-8', 'ignore')\n",
    "    return encoded_doc\n",
    "\n",
    "def decode_doc(doc): \n",
    "    decoded_doc = doc.decode('utf-8', 'ignore')\n",
    "    return decoded_doc"
   ]
  },
  {
   "cell_type": "code",
   "execution_count": 7,
   "metadata": {},
   "outputs": [
    {
     "data": {
      "text/html": [
       "<div>\n",
       "<style>\n",
       "    .dataframe thead tr:only-child th {\n",
       "        text-align: right;\n",
       "    }\n",
       "\n",
       "    .dataframe thead th {\n",
       "        text-align: left;\n",
       "    }\n",
       "\n",
       "    .dataframe tbody tr th {\n",
       "        vertical-align: top;\n",
       "    }\n",
       "</style>\n",
       "<table border=\"1\" class=\"dataframe\">\n",
       "  <thead>\n",
       "    <tr style=\"text-align: right;\">\n",
       "      <th></th>\n",
       "      <th>text</th>\n",
       "      <th>retweeted</th>\n",
       "      <th>user</th>\n",
       "      <th>source</th>\n",
       "      <th>polarity</th>\n",
       "      <th>sub</th>\n",
       "    </tr>\n",
       "  </thead>\n",
       "  <tbody>\n",
       "    <tr>\n",
       "      <th>0</th>\n",
       "      <td>RT @Sammyy02K: Urban jungle🏙🌴👑 https://t.co...</td>\n",
       "      <td>False</td>\n",
       "      <td>{u'verified': False, u'description': u'🅰️pple...</td>\n",
       "      <td>&lt;a href=\"https://about.twitter.com/products/tw...</td>\n",
       "      <td>0.000000</td>\n",
       "      <td>0.000000</td>\n",
       "    </tr>\n",
       "    <tr>\n",
       "      <th>1</th>\n",
       "      <td>@vinsmokesanjis I'm so tempted to look but I'm...</td>\n",
       "      <td>False</td>\n",
       "      <td>{u'verified': False, u'description': u'One tim...</td>\n",
       "      <td>&lt;a href=\"http://twitter.com/download/iphone\" r...</td>\n",
       "      <td>0.000000</td>\n",
       "      <td>0.000000</td>\n",
       "    </tr>\n",
       "    <tr>\n",
       "      <th>2</th>\n",
       "      <td>Devers is 3-3 tonight. Pretty good but also ma...</td>\n",
       "      <td>False</td>\n",
       "      <td>{u'verified': False, u'description': u'IG @sta...</td>\n",
       "      <td>&lt;a href=\"http://twitter.com/download/iphone\" r...</td>\n",
       "      <td>0.316667</td>\n",
       "      <td>0.566667</td>\n",
       "    </tr>\n",
       "  </tbody>\n",
       "</table>\n",
       "</div>"
      ],
      "text/plain": [
       "                                                text  retweeted  \\\n",
       "0  RT @Sammyy02K: Urban jungle🏙🌴👑 https://t.co...      False   \n",
       "1  @vinsmokesanjis I'm so tempted to look but I'm...      False   \n",
       "2  Devers is 3-3 tonight. Pretty good but also ma...      False   \n",
       "\n",
       "                                                user  \\\n",
       "0  {u'verified': False, u'description': u'🅰️pple...   \n",
       "1  {u'verified': False, u'description': u'One tim...   \n",
       "2  {u'verified': False, u'description': u'IG @sta...   \n",
       "\n",
       "                                              source  polarity       sub  \n",
       "0  <a href=\"https://about.twitter.com/products/tw...  0.000000  0.000000  \n",
       "1  <a href=\"http://twitter.com/download/iphone\" r...  0.000000  0.000000  \n",
       "2  <a href=\"http://twitter.com/download/iphone\" r...  0.316667  0.566667  "
      ]
     },
     "execution_count": 7,
     "metadata": {},
     "output_type": "execute_result"
    }
   ],
   "source": [
    "#Return the polarity score as a float within the range [-1.0, 1.0]\n",
    "df['polarity']= df['text'].apply(doc_polarity)\n",
    "\n",
    "#Return the subjectivity score as a float within the range [0.0, 1.0] where 0.0 is very objective and 1.0 is very subjective.\n",
    "df['sub']= df['text'].apply(doc_sub)\n",
    "df.head(3)"
   ]
  },
  {
   "cell_type": "code",
   "execution_count": 8,
   "metadata": {
    "collapsed": true
   },
   "outputs": [],
   "source": [
    "#categorizing the range to subjectivity or objectivity\n",
    "def categorize_sub(doc): \n",
    "    if doc == 1: \n",
    "        return \"sub\"\n",
    "    elif doc <=0.99 and doc >=0.51: \n",
    "        return \"highly_sub\"\n",
    "    elif doc == 0.5: \n",
    "        return \"Sub&Obj\"\n",
    "    elif doc <= 0.49 and doc >= 0.1: \n",
    "        return \"highly_obj\"\n",
    "    elif doc ==0: \n",
    "        return \"obj\"\n",
    "    else: \n",
    "        return \"none\"\n",
    "\n",
    "#categorizing the range to sentiment opinion\n",
    "def categorize_polarity(doc): \n",
    "    if doc <= 1 and doc >=0.75: \n",
    "        return \"positive\"\n",
    "    elif doc <=0.74 and doc >=0.10: \n",
    "        return \"sightly_positive\"\n",
    "    elif doc == 0: \n",
    "        return \"neutral\"\n",
    "    elif doc <= -0.1 and doc >= -0.74: \n",
    "        return \"sightly_negative\"\n",
    "    elif doc <= -0.75 and doc >=-1: \n",
    "        return \"negative\"\n",
    "    else: \n",
    "        return \"none\""
   ]
  },
  {
   "cell_type": "code",
   "execution_count": 9,
   "metadata": {
    "collapsed": true
   },
   "outputs": [],
   "source": [
    "df['sentiment']= df['polarity'].apply(categorize_polarity)\n",
    "df['subjectivity']= df['sub'].apply(categorize_sub)"
   ]
  },
  {
   "cell_type": "code",
   "execution_count": 10,
   "metadata": {},
   "outputs": [
    {
     "data": {
      "text/html": [
       "<div>\n",
       "<style>\n",
       "    .dataframe thead tr:only-child th {\n",
       "        text-align: right;\n",
       "    }\n",
       "\n",
       "    .dataframe thead th {\n",
       "        text-align: left;\n",
       "    }\n",
       "\n",
       "    .dataframe tbody tr th {\n",
       "        vertical-align: top;\n",
       "    }\n",
       "</style>\n",
       "<table border=\"1\" class=\"dataframe\">\n",
       "  <thead>\n",
       "    <tr style=\"text-align: right;\">\n",
       "      <th></th>\n",
       "      <th>text</th>\n",
       "      <th>retweeted</th>\n",
       "      <th>user</th>\n",
       "      <th>source</th>\n",
       "      <th>polarity</th>\n",
       "      <th>sub</th>\n",
       "      <th>sentiment</th>\n",
       "      <th>subjectivity</th>\n",
       "    </tr>\n",
       "  </thead>\n",
       "  <tbody>\n",
       "    <tr>\n",
       "      <th>0</th>\n",
       "      <td>RT @Sammyy02K: Urban jungle🏙🌴👑 https://t.co...</td>\n",
       "      <td>False</td>\n",
       "      <td>{u'verified': False, u'description': u'🅰️pple...</td>\n",
       "      <td>&lt;a href=\"https://about.twitter.com/products/tw...</td>\n",
       "      <td>0.000000</td>\n",
       "      <td>0.000000</td>\n",
       "      <td>neutral</td>\n",
       "      <td>obj</td>\n",
       "    </tr>\n",
       "    <tr>\n",
       "      <th>1</th>\n",
       "      <td>@vinsmokesanjis I'm so tempted to look but I'm...</td>\n",
       "      <td>False</td>\n",
       "      <td>{u'verified': False, u'description': u'One tim...</td>\n",
       "      <td>&lt;a href=\"http://twitter.com/download/iphone\" r...</td>\n",
       "      <td>0.000000</td>\n",
       "      <td>0.000000</td>\n",
       "      <td>neutral</td>\n",
       "      <td>obj</td>\n",
       "    </tr>\n",
       "    <tr>\n",
       "      <th>2</th>\n",
       "      <td>Devers is 3-3 tonight. Pretty good but also ma...</td>\n",
       "      <td>False</td>\n",
       "      <td>{u'verified': False, u'description': u'IG @sta...</td>\n",
       "      <td>&lt;a href=\"http://twitter.com/download/iphone\" r...</td>\n",
       "      <td>0.316667</td>\n",
       "      <td>0.566667</td>\n",
       "      <td>sightly_positive</td>\n",
       "      <td>highly_sub</td>\n",
       "    </tr>\n",
       "  </tbody>\n",
       "</table>\n",
       "</div>"
      ],
      "text/plain": [
       "                                                text  retweeted  \\\n",
       "0  RT @Sammyy02K: Urban jungle🏙🌴👑 https://t.co...      False   \n",
       "1  @vinsmokesanjis I'm so tempted to look but I'm...      False   \n",
       "2  Devers is 3-3 tonight. Pretty good but also ma...      False   \n",
       "\n",
       "                                                user  \\\n",
       "0  {u'verified': False, u'description': u'🅰️pple...   \n",
       "1  {u'verified': False, u'description': u'One tim...   \n",
       "2  {u'verified': False, u'description': u'IG @sta...   \n",
       "\n",
       "                                              source  polarity       sub  \\\n",
       "0  <a href=\"https://about.twitter.com/products/tw...  0.000000  0.000000   \n",
       "1  <a href=\"http://twitter.com/download/iphone\" r...  0.000000  0.000000   \n",
       "2  <a href=\"http://twitter.com/download/iphone\" r...  0.316667  0.566667   \n",
       "\n",
       "          sentiment subjectivity  \n",
       "0           neutral          obj  \n",
       "1           neutral          obj  \n",
       "2  sightly_positive   highly_sub  "
      ]
     },
     "execution_count": 10,
     "metadata": {},
     "output_type": "execute_result"
    }
   ],
   "source": [
    "df.head(3)"
   ]
  },
  {
   "cell_type": "code",
   "execution_count": 65,
   "metadata": {
    "collapsed": true
   },
   "outputs": [],
   "source": [
    "def encoding(text):   \n",
    "    t = text.encode('utf-8')\n",
    "    return t\n",
    "\n",
    "def decoding(text):   \n",
    "    t = text.decode('utf-8')\n",
    "    return t\n",
    "\n",
    "df['textline'] = df.text.apply(encoding)"
   ]
  },
  {
   "cell_type": "code",
   "execution_count": 12,
   "metadata": {},
   "outputs": [
    {
     "data": {
      "text/html": [
       "<div>\n",
       "<style>\n",
       "    .dataframe thead tr:only-child th {\n",
       "        text-align: right;\n",
       "    }\n",
       "\n",
       "    .dataframe thead th {\n",
       "        text-align: left;\n",
       "    }\n",
       "\n",
       "    .dataframe tbody tr th {\n",
       "        vertical-align: top;\n",
       "    }\n",
       "</style>\n",
       "<table border=\"1\" class=\"dataframe\">\n",
       "  <thead>\n",
       "    <tr style=\"text-align: right;\">\n",
       "      <th></th>\n",
       "      <th>text</th>\n",
       "      <th>retweeted</th>\n",
       "      <th>user</th>\n",
       "      <th>source</th>\n",
       "      <th>polarity</th>\n",
       "      <th>sub</th>\n",
       "      <th>sentiment</th>\n",
       "      <th>subjectivity</th>\n",
       "      <th>textline</th>\n",
       "      <th>naive</th>\n",
       "    </tr>\n",
       "  </thead>\n",
       "  <tbody>\n",
       "    <tr>\n",
       "      <th>0</th>\n",
       "      <td>RT @Sammyy02K: Urban jungle🏙🌴👑 https://t.co...</td>\n",
       "      <td>False</td>\n",
       "      <td>{u'verified': False, u'description': u'🅰️pple...</td>\n",
       "      <td>&lt;a href=\"https://about.twitter.com/products/tw...</td>\n",
       "      <td>0.000000</td>\n",
       "      <td>0.000000</td>\n",
       "      <td>neutral</td>\n",
       "      <td>obj</td>\n",
       "      <td>RT @Sammyy02K: Urban jungle🏙🌴👑 https://t.co...</td>\n",
       "      <td>(pos, 0.5, 0.5)</td>\n",
       "    </tr>\n",
       "    <tr>\n",
       "      <th>1</th>\n",
       "      <td>@vinsmokesanjis I'm so tempted to look but I'm...</td>\n",
       "      <td>False</td>\n",
       "      <td>{u'verified': False, u'description': u'One tim...</td>\n",
       "      <td>&lt;a href=\"http://twitter.com/download/iphone\" r...</td>\n",
       "      <td>0.000000</td>\n",
       "      <td>0.000000</td>\n",
       "      <td>neutral</td>\n",
       "      <td>obj</td>\n",
       "      <td>@vinsmokesanjis I'm so tempted to look but I'm...</td>\n",
       "      <td>(neg, 0.305610938099, 0.694389061901)</td>\n",
       "    </tr>\n",
       "    <tr>\n",
       "      <th>2</th>\n",
       "      <td>Devers is 3-3 tonight. Pretty good but also ma...</td>\n",
       "      <td>False</td>\n",
       "      <td>{u'verified': False, u'description': u'IG @sta...</td>\n",
       "      <td>&lt;a href=\"http://twitter.com/download/iphone\" r...</td>\n",
       "      <td>0.316667</td>\n",
       "      <td>0.566667</td>\n",
       "      <td>sightly_positive</td>\n",
       "      <td>highly_sub</td>\n",
       "      <td>Devers is 3-3 tonight. Pretty good but also ma...</td>\n",
       "      <td>(neg, 0.224207937713, 0.775792062287)</td>\n",
       "    </tr>\n",
       "    <tr>\n",
       "      <th>3</th>\n",
       "      <td>RT @Sammyy02K: Urban jungle🏙🌴👑 https://t.co...</td>\n",
       "      <td>False</td>\n",
       "      <td>{u'verified': False, u'description': u'20| Lov...</td>\n",
       "      <td>&lt;a href=\"https://about.twitter.com/products/tw...</td>\n",
       "      <td>0.000000</td>\n",
       "      <td>0.000000</td>\n",
       "      <td>neutral</td>\n",
       "      <td>obj</td>\n",
       "      <td>RT @Sammyy02K: Urban jungle🏙🌴👑 https://t.co...</td>\n",
       "      <td>(pos, 0.5, 0.5)</td>\n",
       "    </tr>\n",
       "  </tbody>\n",
       "</table>\n",
       "</div>"
      ],
      "text/plain": [
       "                                                text  retweeted  \\\n",
       "0  RT @Sammyy02K: Urban jungle🏙🌴👑 https://t.co...      False   \n",
       "1  @vinsmokesanjis I'm so tempted to look but I'm...      False   \n",
       "2  Devers is 3-3 tonight. Pretty good but also ma...      False   \n",
       "3  RT @Sammyy02K: Urban jungle🏙🌴👑 https://t.co...      False   \n",
       "\n",
       "                                                user  \\\n",
       "0  {u'verified': False, u'description': u'🅰️pple...   \n",
       "1  {u'verified': False, u'description': u'One tim...   \n",
       "2  {u'verified': False, u'description': u'IG @sta...   \n",
       "3  {u'verified': False, u'description': u'20| Lov...   \n",
       "\n",
       "                                              source  polarity       sub  \\\n",
       "0  <a href=\"https://about.twitter.com/products/tw...  0.000000  0.000000   \n",
       "1  <a href=\"http://twitter.com/download/iphone\" r...  0.000000  0.000000   \n",
       "2  <a href=\"http://twitter.com/download/iphone\" r...  0.316667  0.566667   \n",
       "3  <a href=\"https://about.twitter.com/products/tw...  0.000000  0.000000   \n",
       "\n",
       "          sentiment subjectivity  \\\n",
       "0           neutral          obj   \n",
       "1           neutral          obj   \n",
       "2  sightly_positive   highly_sub   \n",
       "3           neutral          obj   \n",
       "\n",
       "                                            textline  \\\n",
       "0  RT @Sammyy02K: Urban jungle🏙🌴👑 https://t.co...   \n",
       "1  @vinsmokesanjis I'm so tempted to look but I'm...   \n",
       "2  Devers is 3-3 tonight. Pretty good but also ma...   \n",
       "3  RT @Sammyy02K: Urban jungle🏙🌴👑 https://t.co...   \n",
       "\n",
       "                                   naive  \n",
       "0                        (pos, 0.5, 0.5)  \n",
       "1  (neg, 0.305610938099, 0.694389061901)  \n",
       "2  (neg, 0.224207937713, 0.775792062287)  \n",
       "3                        (pos, 0.5, 0.5)  "
      ]
     },
     "execution_count": 12,
     "metadata": {},
     "output_type": "execute_result"
    }
   ],
   "source": [
    "from textblob.sentiments import NaiveBayesAnalyzer\n",
    "\n",
    "def naive(doc): \n",
    "    tb = TextBlob(doc, analyzer=NaiveBayesAnalyzer())\n",
    "    return tb.sentiment\n",
    "\n",
    "#runing naive bayes analyzer on the tweets\n",
    "#caution: this will take awhile to finish running\n",
    "df[\"naive\"]= df['textline'].apply(naive)\n",
    "df.head(4)"
   ]
  },
  {
   "cell_type": "code",
   "execution_count": 13,
   "metadata": {
    "collapsed": true
   },
   "outputs": [],
   "source": [
    "#getting naive results to three columns of data frames\n",
    "df['naive_sentiment']=df['naive'].str[0]\n",
    "df['naive_ppos']= df['naive'].str[1].astype(float).round(2)\n",
    "df['naive_pneg']= df['naive'].str[2].astype(float).round(2)"
   ]
  },
  {
   "cell_type": "code",
   "execution_count": 14,
   "metadata": {},
   "outputs": [
    {
     "data": {
      "text/html": [
       "<div>\n",
       "<style>\n",
       "    .dataframe thead tr:only-child th {\n",
       "        text-align: right;\n",
       "    }\n",
       "\n",
       "    .dataframe thead th {\n",
       "        text-align: left;\n",
       "    }\n",
       "\n",
       "    .dataframe tbody tr th {\n",
       "        vertical-align: top;\n",
       "    }\n",
       "</style>\n",
       "<table border=\"1\" class=\"dataframe\">\n",
       "  <thead>\n",
       "    <tr style=\"text-align: right;\">\n",
       "      <th></th>\n",
       "      <th>text</th>\n",
       "      <th>retweeted</th>\n",
       "      <th>user</th>\n",
       "      <th>source</th>\n",
       "      <th>polarity</th>\n",
       "      <th>sub</th>\n",
       "      <th>sentiment</th>\n",
       "      <th>subjectivity</th>\n",
       "      <th>textline</th>\n",
       "      <th>naive</th>\n",
       "      <th>naive_sentiment</th>\n",
       "      <th>naive_ppos</th>\n",
       "      <th>naive_pneg</th>\n",
       "    </tr>\n",
       "  </thead>\n",
       "  <tbody>\n",
       "    <tr>\n",
       "      <th>0</th>\n",
       "      <td>RT @Sammyy02K: Urban jungle🏙🌴👑 https://t.co...</td>\n",
       "      <td>False</td>\n",
       "      <td>{u'verified': False, u'description': u'🅰️pple...</td>\n",
       "      <td>&lt;a href=\"https://about.twitter.com/products/tw...</td>\n",
       "      <td>0.000000</td>\n",
       "      <td>0.000000</td>\n",
       "      <td>neutral</td>\n",
       "      <td>obj</td>\n",
       "      <td>RT @Sammyy02K: Urban jungle🏙🌴👑 https://t.co...</td>\n",
       "      <td>(pos, 0.5, 0.5)</td>\n",
       "      <td>pos</td>\n",
       "      <td>0.50</td>\n",
       "      <td>0.50</td>\n",
       "    </tr>\n",
       "    <tr>\n",
       "      <th>1</th>\n",
       "      <td>@vinsmokesanjis I'm so tempted to look but I'm...</td>\n",
       "      <td>False</td>\n",
       "      <td>{u'verified': False, u'description': u'One tim...</td>\n",
       "      <td>&lt;a href=\"http://twitter.com/download/iphone\" r...</td>\n",
       "      <td>0.000000</td>\n",
       "      <td>0.000000</td>\n",
       "      <td>neutral</td>\n",
       "      <td>obj</td>\n",
       "      <td>@vinsmokesanjis I'm so tempted to look but I'm...</td>\n",
       "      <td>(neg, 0.305610938099, 0.694389061901)</td>\n",
       "      <td>neg</td>\n",
       "      <td>0.31</td>\n",
       "      <td>0.69</td>\n",
       "    </tr>\n",
       "    <tr>\n",
       "      <th>2</th>\n",
       "      <td>Devers is 3-3 tonight. Pretty good but also ma...</td>\n",
       "      <td>False</td>\n",
       "      <td>{u'verified': False, u'description': u'IG @sta...</td>\n",
       "      <td>&lt;a href=\"http://twitter.com/download/iphone\" r...</td>\n",
       "      <td>0.316667</td>\n",
       "      <td>0.566667</td>\n",
       "      <td>sightly_positive</td>\n",
       "      <td>highly_sub</td>\n",
       "      <td>Devers is 3-3 tonight. Pretty good but also ma...</td>\n",
       "      <td>(neg, 0.224207937713, 0.775792062287)</td>\n",
       "      <td>neg</td>\n",
       "      <td>0.22</td>\n",
       "      <td>0.78</td>\n",
       "    </tr>\n",
       "  </tbody>\n",
       "</table>\n",
       "</div>"
      ],
      "text/plain": [
       "                                                text  retweeted  \\\n",
       "0  RT @Sammyy02K: Urban jungle🏙🌴👑 https://t.co...      False   \n",
       "1  @vinsmokesanjis I'm so tempted to look but I'm...      False   \n",
       "2  Devers is 3-3 tonight. Pretty good but also ma...      False   \n",
       "\n",
       "                                                user  \\\n",
       "0  {u'verified': False, u'description': u'🅰️pple...   \n",
       "1  {u'verified': False, u'description': u'One tim...   \n",
       "2  {u'verified': False, u'description': u'IG @sta...   \n",
       "\n",
       "                                              source  polarity       sub  \\\n",
       "0  <a href=\"https://about.twitter.com/products/tw...  0.000000  0.000000   \n",
       "1  <a href=\"http://twitter.com/download/iphone\" r...  0.000000  0.000000   \n",
       "2  <a href=\"http://twitter.com/download/iphone\" r...  0.316667  0.566667   \n",
       "\n",
       "          sentiment subjectivity  \\\n",
       "0           neutral          obj   \n",
       "1           neutral          obj   \n",
       "2  sightly_positive   highly_sub   \n",
       "\n",
       "                                            textline  \\\n",
       "0  RT @Sammyy02K: Urban jungle🏙🌴👑 https://t.co...   \n",
       "1  @vinsmokesanjis I'm so tempted to look but I'm...   \n",
       "2  Devers is 3-3 tonight. Pretty good but also ma...   \n",
       "\n",
       "                                   naive naive_sentiment  naive_ppos  \\\n",
       "0                        (pos, 0.5, 0.5)             pos        0.50   \n",
       "1  (neg, 0.305610938099, 0.694389061901)             neg        0.31   \n",
       "2  (neg, 0.224207937713, 0.775792062287)             neg        0.22   \n",
       "\n",
       "   naive_pneg  \n",
       "0        0.50  \n",
       "1        0.69  \n",
       "2        0.78  "
      ]
     },
     "execution_count": 14,
     "metadata": {},
     "output_type": "execute_result"
    }
   ],
   "source": [
    "df.head(3)"
   ]
  },
  {
   "cell_type": "code",
   "execution_count": 15,
   "metadata": {},
   "outputs": [
    {
     "data": {
      "text/plain": [
       "Index([           u'text',       u'retweeted',            u'user',\n",
       "                u'source',        u'polarity',             u'sub',\n",
       "             u'sentiment',    u'subjectivity',        u'textline',\n",
       "                 u'naive', u'naive_sentiment',      u'naive_ppos',\n",
       "            u'naive_pneg'],\n",
       "      dtype='object')"
      ]
     },
     "execution_count": 15,
     "metadata": {},
     "output_type": "execute_result"
    }
   ],
   "source": [
    "df.columns"
   ]
  },
  {
   "cell_type": "code",
   "execution_count": 16,
   "metadata": {
    "collapsed": true
   },
   "outputs": [],
   "source": [
    "#create a new dataframe that contains only necessary features\n",
    "new_df = df[['textline','retweeted','user','source', 'sentiment', 'subjectivity', 'naive_sentiment', 'naive_ppos', 'naive_pneg']]"
   ]
  },
  {
   "cell_type": "code",
   "execution_count": 17,
   "metadata": {},
   "outputs": [
    {
     "data": {
      "text/html": [
       "<div>\n",
       "<style>\n",
       "    .dataframe thead tr:only-child th {\n",
       "        text-align: right;\n",
       "    }\n",
       "\n",
       "    .dataframe thead th {\n",
       "        text-align: left;\n",
       "    }\n",
       "\n",
       "    .dataframe tbody tr th {\n",
       "        vertical-align: top;\n",
       "    }\n",
       "</style>\n",
       "<table border=\"1\" class=\"dataframe\">\n",
       "  <thead>\n",
       "    <tr style=\"text-align: right;\">\n",
       "      <th></th>\n",
       "      <th>textline</th>\n",
       "      <th>retweeted</th>\n",
       "      <th>user</th>\n",
       "      <th>source</th>\n",
       "      <th>sentiment</th>\n",
       "      <th>subjectivity</th>\n",
       "      <th>naive_sentiment</th>\n",
       "      <th>naive_ppos</th>\n",
       "      <th>naive_pneg</th>\n",
       "    </tr>\n",
       "  </thead>\n",
       "  <tbody>\n",
       "    <tr>\n",
       "      <th>0</th>\n",
       "      <td>RT @Sammyy02K: Urban jungle🏙🌴👑 https://t.co...</td>\n",
       "      <td>False</td>\n",
       "      <td>{u'verified': False, u'description': u'🅰️pple...</td>\n",
       "      <td>&lt;a href=\"https://about.twitter.com/products/tw...</td>\n",
       "      <td>neutral</td>\n",
       "      <td>obj</td>\n",
       "      <td>pos</td>\n",
       "      <td>0.50</td>\n",
       "      <td>0.50</td>\n",
       "    </tr>\n",
       "    <tr>\n",
       "      <th>1</th>\n",
       "      <td>@vinsmokesanjis I'm so tempted to look but I'm...</td>\n",
       "      <td>False</td>\n",
       "      <td>{u'verified': False, u'description': u'One tim...</td>\n",
       "      <td>&lt;a href=\"http://twitter.com/download/iphone\" r...</td>\n",
       "      <td>neutral</td>\n",
       "      <td>obj</td>\n",
       "      <td>neg</td>\n",
       "      <td>0.31</td>\n",
       "      <td>0.69</td>\n",
       "    </tr>\n",
       "    <tr>\n",
       "      <th>2</th>\n",
       "      <td>Devers is 3-3 tonight. Pretty good but also ma...</td>\n",
       "      <td>False</td>\n",
       "      <td>{u'verified': False, u'description': u'IG @sta...</td>\n",
       "      <td>&lt;a href=\"http://twitter.com/download/iphone\" r...</td>\n",
       "      <td>sightly_positive</td>\n",
       "      <td>highly_sub</td>\n",
       "      <td>neg</td>\n",
       "      <td>0.22</td>\n",
       "      <td>0.78</td>\n",
       "    </tr>\n",
       "  </tbody>\n",
       "</table>\n",
       "</div>"
      ],
      "text/plain": [
       "                                            textline  retweeted  \\\n",
       "0  RT @Sammyy02K: Urban jungle🏙🌴👑 https://t.co...      False   \n",
       "1  @vinsmokesanjis I'm so tempted to look but I'm...      False   \n",
       "2  Devers is 3-3 tonight. Pretty good but also ma...      False   \n",
       "\n",
       "                                                user  \\\n",
       "0  {u'verified': False, u'description': u'🅰️pple...   \n",
       "1  {u'verified': False, u'description': u'One tim...   \n",
       "2  {u'verified': False, u'description': u'IG @sta...   \n",
       "\n",
       "                                              source         sentiment  \\\n",
       "0  <a href=\"https://about.twitter.com/products/tw...           neutral   \n",
       "1  <a href=\"http://twitter.com/download/iphone\" r...           neutral   \n",
       "2  <a href=\"http://twitter.com/download/iphone\" r...  sightly_positive   \n",
       "\n",
       "  subjectivity naive_sentiment  naive_ppos  naive_pneg  \n",
       "0          obj             pos        0.50        0.50  \n",
       "1          obj             neg        0.31        0.69  \n",
       "2   highly_sub             neg        0.22        0.78  "
      ]
     },
     "execution_count": 17,
     "metadata": {},
     "output_type": "execute_result"
    }
   ],
   "source": [
    "new_df.head(3)"
   ]
  },
  {
   "cell_type": "code",
   "execution_count": 18,
   "metadata": {},
   "outputs": [
    {
     "data": {
      "text/plain": [
       "0    [RT, @, Sammyy02K, :, Urban, jungle🏙🌴👑, htt...\n",
       "1    [@, vinsmokesanjis, I, 'm, so, tempted, to, lo...\n",
       "2    [Devers, is, 3-3, tonight, ., Pretty, good, bu...\n",
       "Name: textline, dtype: object"
      ]
     },
     "execution_count": 18,
     "metadata": {},
     "output_type": "execute_result"
    }
   ],
   "source": [
    "#split the text into tokens\n",
    "from nltk.tokenize import word_tokenize\n",
    "\n",
    "def tokenize_text(text): \n",
    "    token = word_tokenize(text)\n",
    "    return token\n",
    "\n",
    "list_token = new_df.textline.apply(tokenize_text)\n",
    "list_token[:3]"
   ]
  },
  {
   "cell_type": "code",
   "execution_count": 22,
   "metadata": {
    "collapsed": true
   },
   "outputs": [],
   "source": [
    "#remove emoticon, URL, hash-tag from the text\n",
    "import re\n",
    " \n",
    "emoticons_str = r\"\"\"\n",
    "    (?:\n",
    "        [:=;] # Eyes\n",
    "        [oO\\-]? # Nose (optional)\n",
    "        [D\\)\\]\\(\\]/\\\\OpP] # Mouth\n",
    "    )\"\"\"\n",
    " \n",
    "regex_str = [\n",
    "    emoticons_str,\n",
    "    r'<[^>]+>', # HTML tags\n",
    "    r'(?:@[\\w_]+)', # @-mentions\n",
    "    r\"(?:\\#+[\\w_]+[\\w\\'_\\-]*[\\w_]+)\", # hash-tags\n",
    "    r'http[s]?://(?:[a-z]|[0-9]|[$-_@.&amp;+]|[!*\\(\\),]|(?:%[0-9a-f][0-9a-f]))+', # URLs\n",
    " \n",
    "    r'(?:(?:\\d+,?)+(?:\\.?\\d+)?)', # numbers\n",
    "    r\"(?:[a-z][a-z'\\-_]+[a-z])\", # words with - and '\n",
    "    r'(?:[\\w_]+)', # other words\n",
    "    r'(?:\\S)' # anything else\n",
    "]\n",
    "    \n",
    "tokens_re = re.compile(r'('+'|'.join(regex_str)+')', re.VERBOSE | re.IGNORECASE)\n",
    "emoticon_re = re.compile(r'^'+emoticons_str+'$', re.VERBOSE | re.IGNORECASE)\n",
    " \n",
    "def tokenize(s):\n",
    "    return tokens_re.findall(s)    \n",
    "    \n",
    "def preprocess(s, lowercase=False):\n",
    "    tokens = tokenize(s)\n",
    "    if lowercase:\n",
    "        tokens = [token if emoticon_re.search(token) else token.lower() for token in tokens]\n",
    "    return tokens"
   ]
  },
  {
   "cell_type": "code",
   "execution_count": 23,
   "metadata": {},
   "outputs": [
    {
     "data": {
      "text/plain": [
       "0    [RT, @Sammyy02K, :, Urban, jungle, �, �, �, �,...\n",
       "1    [@vinsmokesanjis, I'm, so, tempted, to, look, ...\n",
       "2    [Devers, is, 3, -, 3, tonight, ., Pretty, good...\n",
       "Name: textline, dtype: object"
      ]
     },
     "execution_count": 23,
     "metadata": {},
     "output_type": "execute_result"
    }
   ],
   "source": [
    "list_token = new_df.textline.apply(preprocess)\n",
    "list_token[:3]"
   ]
  },
  {
   "cell_type": "code",
   "execution_count": 24,
   "metadata": {
    "collapsed": true
   },
   "outputs": [],
   "source": [
    "from nltk.corpus import stopwords\n",
    "import string\n",
    " \n",
    "punctuation = list(string.punctuation)\n",
    "stop = stopwords.words('english') + punctuation + ['rt', 'via', 'RT']"
   ]
  },
  {
   "cell_type": "code",
   "execution_count": 25,
   "metadata": {
    "collapsed": true
   },
   "outputs": [],
   "source": [
    "from collections import Counter\n",
    "from nltk.stem.porter import PorterStemmer\n",
    "p_stemmer = PorterStemmer()\n",
    "\n",
    "def term_stop(text): \n",
    "    for term in text: \n",
    "        if term not in stop:\n",
    "            return term\n",
    "        \n",
    "#Doesn't work\n",
    "def hastag(text): \n",
    "    for term in text: \n",
    "        if term.startWith('#', '@'): \n",
    "            Counter(text)"
   ]
  },
  {
   "cell_type": "code",
   "execution_count": 26,
   "metadata": {},
   "outputs": [
    {
     "name": "stdout",
     "output_type": "stream",
     "text": [
      "Counter({'@Sammyy02K': 6, '@becoupIes': 4, '@spacerelapse': 2, 'Even': 1, 'Everybody': 1, '@MoeenAli': 1, '@KatrinaPierson': 1, '@FemaleKnows': 1, 'Please': 1, '@ubiquitousurn': 1, '@Iwtpoison': 1, '@tjchambersLA': 1, '@stagmetanoia': 1, '@kengarex': 1, '@PoIoOverHoes': 1, '@walidffs': 1, '@rembert': 1, '@wakandaho': 1, 'Recently': 1, '@kxxxyxng_': 1, '@ReliableSources': 1, '@vanessaxtran': 1, 'Omoooo': 1, '@bitchxiety': 1, '@Hita_eighthsun': 1, 'https://t.co/n8QbWxrASU': 1, '@qweenpush': 1, '@DearAuntCrabby': 1, '@Jeremy_Hunt': 1, 'exgirl': 1, '@Mendu_mza': 1, '@Biapmad': 1, '@kaiyah_baiyah': 1, '@theartfulman': 1, '@malik12_styles': 1, 'someone': 1, '#MTVHottest': 1, 'Secrets': 1, '@ChloeAngyal': 1, '@HXRLEEN': 1, '@Zendaya': 1, '@TheSoneSource': 1, '@avega7077': 1, '@realDonaldTrump': 1, 'Can': 1, '@neilpatel': 1, 'The': 1, '@BleepThePolice': 1, '@luxurydolans': 1, '@MikeKellyofEM': 1, 'Devers': 1, '@SourDiesBabe': 1, '@planetepics': 1, '@RealJheneAiko_': 1, 'ONLY': 1, '@vinsmokesanjis': 1, 'pinay': 1, '@fernandoluisvv': 1, '@realmadriden': 1, '@grace_march': 1, '@elizamunoz1956': 1})\n"
     ]
    }
   ],
   "source": [
    "termstop_list_token = list_token.apply(term_stop)\n",
    "print Counter(termstop_list_token)"
   ]
  },
  {
   "cell_type": "code",
   "execution_count": 70,
   "metadata": {
    "collapsed": true
   },
   "outputs": [],
   "source": [
    "from nltk.tokenize import RegexpTokenizer\n",
    "from stop_words import get_stop_words\n",
    "from nltk.stem.porter import PorterStemmer\n",
    "from gensim import corpora, models\n",
    "import gensim\n",
    "\n",
    "tokenizer = RegexpTokenizer(r'\\w+')\n",
    "\n",
    "# create English stop words list\n",
    "en_stop = get_stop_words('en')\n",
    "\n",
    "# Create p_stemmer of class PorterStemmer\n",
    "p_stemmer = PorterStemmer()"
   ]
  },
  {
   "cell_type": "code",
   "execution_count": 1,
   "metadata": {},
   "outputs": [
    {
     "ename": "NameError",
     "evalue": "name 'new_df' is not defined",
     "output_type": "error",
     "traceback": [
      "\u001b[0;31m---------------------------------------------------------------------------\u001b[0m",
      "\u001b[0;31mNameError\u001b[0m                                 Traceback (most recent call last)",
      "\u001b[0;32m<ipython-input-1-07130fc2d4d1>\u001b[0m in \u001b[0;36m<module>\u001b[0;34m()\u001b[0m\n\u001b[1;32m      3\u001b[0m \u001b[0;34m\u001b[0m\u001b[0m\n\u001b[1;32m      4\u001b[0m \u001b[0;31m# loop through document list\u001b[0m\u001b[0;34m\u001b[0m\u001b[0;34m\u001b[0m\u001b[0m\n\u001b[0;32m----> 5\u001b[0;31m \u001b[0;32mfor\u001b[0m \u001b[0mi\u001b[0m \u001b[0;32min\u001b[0m \u001b[0mnew_df\u001b[0m\u001b[0;34m[\u001b[0m\u001b[0;34m'textline'\u001b[0m\u001b[0;34m]\u001b[0m\u001b[0;34m:\u001b[0m\u001b[0;34m\u001b[0m\u001b[0m\n\u001b[0m\u001b[1;32m      6\u001b[0m \u001b[0;34m\u001b[0m\u001b[0m\n\u001b[1;32m      7\u001b[0m     \u001b[0;31m# clean and tokenize document string\u001b[0m\u001b[0;34m\u001b[0m\u001b[0;34m\u001b[0m\u001b[0m\n",
      "\u001b[0;31mNameError\u001b[0m: name 'new_df' is not defined"
     ]
    }
   ],
   "source": [
    "# list for tokenized documents in loop\n",
    "texts = []\n",
    "\n",
    "# loop through document list\n",
    "for i in new_df['textline']:\n",
    "    \n",
    "    # clean and tokenize document string\n",
    "    raw = i.lower()\n",
    "    tokens = tokenizer.tokenize(raw)\n",
    "    \n",
    "    # remove stop words from tokens\n",
    "    stopped_tokens = [i for i in tokens if not i in en_stop]\n",
    "    stopped_tokens = [i.decode(\"utf8\",\"ignore\") for i in stopped_tokens]\n",
    "    \n",
    "    # stem tokens\n",
    "    stemmed_tokens = [p_stemmer.stem(i) for i in stopped_tokens]\n",
    "    \n",
    "    # add tokens to list\n",
    "    texts.append(stemmed_tokens)"
   ]
  },
  {
   "cell_type": "code",
   "execution_count": 90,
   "metadata": {
    "collapsed": true
   },
   "outputs": [],
   "source": [
    "dictionary = corpora.Dictionary(texts)"
   ]
  },
  {
   "cell_type": "code",
   "execution_count": 91,
   "metadata": {
    "collapsed": true
   },
   "outputs": [],
   "source": [
    "# convert tokenized documents into a document-term matrix\n",
    "corpus = [dictionary.doc2bow(text) for text in texts]"
   ]
  },
  {
   "cell_type": "code",
   "execution_count": 92,
   "metadata": {
    "collapsed": true
   },
   "outputs": [],
   "source": [
    "# generate LDA model\n",
    "ldamodel = gensim.models.ldamodel.LdaModel(corpus, num_topics=3, id2word = dictionary, passes=20)"
   ]
  },
  {
   "cell_type": "code",
   "execution_count": 97,
   "metadata": {
    "collapsed": true
   },
   "outputs": [],
   "source": [
    "print(ldamodel.print_topics(num_topics=2, num_words=3))"
   ]
  },
  {
   "cell_type": "code",
   "execution_count": 103,
   "metadata": {},
   "outputs": [
    {
     "data": {
      "text/plain": [
       "[(0,\n",
       "  u'0.029*\"rt\" + 0.011*\"like\" + 0.008*\"back\" + 0.008*\"peopl\" + 0.008*\"vision\" + 0.008*\"get\" + 0.004*\"look\" + 0.004*\"high\" + 0.004*\"gonna\" + 0.004*\"time\"'),\n",
       " (1,\n",
       "  u'0.051*\"t\" + 0.043*\"http\" + 0.043*\"co\" + 0.033*\"rt\" + 0.011*\"want\" + 0.009*\"s\" + 0.006*\"time\" + 0.006*\"sex\" + 0.006*\"girl\" + 0.006*\"get\"'),\n",
       " (2,\n",
       "  u'0.188*\"\" + 0.058*\"t\" + 0.054*\"http\" + 0.052*\"co\" + 0.036*\"rt\" + 0.009*\"sammyy02k\" + 0.009*\"jungl\" + 0.009*\"68oaa7uit2\" + 0.009*\"urban\" + 0.007*\"m\"')]"
      ]
     },
     "execution_count": 103,
     "metadata": {},
     "output_type": "execute_result"
    }
   ],
   "source": [
    "ldamodel.print_topics(num_topics=5)"
   ]
  },
  {
   "cell_type": "code",
   "execution_count": null,
   "metadata": {
    "collapsed": true
   },
   "outputs": [],
   "source": []
  },
  {
   "cell_type": "code",
   "execution_count": null,
   "metadata": {
    "collapsed": true
   },
   "outputs": [],
   "source": []
  },
  {
   "cell_type": "code",
   "execution_count": null,
   "metadata": {
    "collapsed": true
   },
   "outputs": [],
   "source": []
  },
  {
   "cell_type": "code",
   "execution_count": null,
   "metadata": {
    "collapsed": true
   },
   "outputs": [],
   "source": []
  },
  {
   "cell_type": "code",
   "execution_count": null,
   "metadata": {
    "collapsed": true
   },
   "outputs": [],
   "source": []
  }
 ],
 "metadata": {
  "anaconda-cloud": {},
  "kernelspec": {
   "display_name": "Python [conda root]",
   "language": "python",
   "name": "conda-root-py"
  },
  "language_info": {
   "codemirror_mode": {
    "name": "ipython",
    "version": 2
   },
   "file_extension": ".py",
   "mimetype": "text/x-python",
   "name": "python",
   "nbconvert_exporter": "python",
   "pygments_lexer": "ipython2",
   "version": "2.7.12"
  }
 },
 "nbformat": 4,
 "nbformat_minor": 1
}
