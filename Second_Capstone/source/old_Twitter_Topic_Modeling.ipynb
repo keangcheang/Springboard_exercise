{
 "cells": [
  {
   "cell_type": "markdown",
   "metadata": {},
   "source": [
    "### Tasks in part1: \n",
    "    1. collect the tweets data from crate.io\n",
    "    2. prepare the data for sentiment analysis\n",
    "    3. using naive bayes analyzer for the sentiment analysis\n",
    "    \n",
    "**- proposal for next step: **\n",
    "    1. mining the tweets with frequency of term along with visualization\n",
    "    2. put the tweet into geolocation and interactive maps\n",
    "    3. search for specific keyword and filter out for the topic I want to explore more"
   ]
  },
  {
   "cell_type": "code",
   "execution_count": 105,
   "metadata": {
    "collapsed": true
   },
   "outputs": [],
   "source": [
    "import pandas as pd\n",
    "import json\n",
    "import numpy as np\n",
    "from textblob import TextBlob"
   ]
  },
  {
   "cell_type": "code",
   "execution_count": 106,
   "metadata": {},
   "outputs": [
    {
     "data": {
      "text/html": [
       "<div>\n",
       "<style>\n",
       "    .dataframe thead tr:only-child th {\n",
       "        text-align: right;\n",
       "    }\n",
       "\n",
       "    .dataframe thead th {\n",
       "        text-align: left;\n",
       "    }\n",
       "\n",
       "    .dataframe tbody tr th {\n",
       "        vertical-align: top;\n",
       "    }\n",
       "</style>\n",
       "<table border=\"1\" class=\"dataframe\">\n",
       "  <thead>\n",
       "    <tr style=\"text-align: right;\">\n",
       "      <th></th>\n",
       "      <th>created_at</th>\n",
       "      <th>id</th>\n",
       "      <th>retweeted</th>\n",
       "      <th>source</th>\n",
       "      <th>text</th>\n",
       "      <th>user</th>\n",
       "    </tr>\n",
       "  </thead>\n",
       "  <tbody>\n",
       "    <tr>\n",
       "      <th>0</th>\n",
       "      <td>2017-08-01 00:46:11</td>\n",
       "      <td>892184651892224000</td>\n",
       "      <td>False</td>\n",
       "      <td>&lt;a href=\"http://www.facebook.com/twitter\" rel=...</td>\n",
       "      <td>https://t.co/yb7EZLUdCf</td>\n",
       "      <td>{u'verified': False, u'description': u'desde 1...</td>\n",
       "    </tr>\n",
       "    <tr>\n",
       "      <th>1</th>\n",
       "      <td>2017-08-01 00:46:11</td>\n",
       "      <td>892184651896410112</td>\n",
       "      <td>False</td>\n",
       "      <td>&lt;a href=\"http://twitter.com/download/iphone\" r...</td>\n",
       "      <td>RT @horrorcuIt: infernoooooo que horas vai lib...</td>\n",
       "      <td>{u'verified': False, u'description': u'entrei ...</td>\n",
       "    </tr>\n",
       "    <tr>\n",
       "      <th>2</th>\n",
       "      <td>2017-08-01 00:46:11</td>\n",
       "      <td>892184651929796608</td>\n",
       "      <td>False</td>\n",
       "      <td>&lt;a href=\"https://about.twitter.com/products/tw...</td>\n",
       "      <td>RT @Sammyy02K: Urban jungle🏙🌴👑 https://t.co...</td>\n",
       "      <td>{u'verified': False, u'description': u'🅰️pple...</td>\n",
       "    </tr>\n",
       "  </tbody>\n",
       "</table>\n",
       "</div>"
      ],
      "text/plain": [
       "           created_at                  id  retweeted  \\\n",
       "0 2017-08-01 00:46:11  892184651892224000      False   \n",
       "1 2017-08-01 00:46:11  892184651896410112      False   \n",
       "2 2017-08-01 00:46:11  892184651929796608      False   \n",
       "\n",
       "                                              source  \\\n",
       "0  <a href=\"http://www.facebook.com/twitter\" rel=...   \n",
       "1  <a href=\"http://twitter.com/download/iphone\" r...   \n",
       "2  <a href=\"https://about.twitter.com/products/tw...   \n",
       "\n",
       "                                                text  \\\n",
       "0                            https://t.co/yb7EZLUdCf   \n",
       "1  RT @horrorcuIt: infernoooooo que horas vai lib...   \n",
       "2  RT @Sammyy02K: Urban jungle🏙🌴👑 https://t.co...   \n",
       "\n",
       "                                                user  \n",
       "0  {u'verified': False, u'description': u'desde 1...  \n",
       "1  {u'verified': False, u'description': u'entrei ...  \n",
       "2  {u'verified': False, u'description': u'🅰️pple...  "
      ]
     },
     "execution_count": 106,
     "metadata": {},
     "output_type": "execute_result"
    }
   ],
   "source": [
    "rawdata = pd.read_json(['tweets_0_.json', 'tweets_0_.json', 'tweets_0_.json', 'tweets_0_.json'], lines=True)\n",
    "rawdata.head(3)"
   ]
  },
  {
   "cell_type": "markdown",
   "metadata": {},
   "source": [
    "### Most of the tweets consist of different languages, thus I need to filter out only English tweets. I use TextBlob functionality to solve this problem. "
   ]
  },
  {
   "cell_type": "code",
   "execution_count": 107,
   "metadata": {
    "collapsed": true
   },
   "outputs": [],
   "source": [
    "def find_lang(doc): \n",
    "    tb = TextBlob(doc)\n",
    "    if len(tb.words)>5 and type(tb): \n",
    "        return tb.detect_language()\n",
    "    else: \n",
    "        return 'none'\n",
    "\n",
    "def doc_polarity(doc): \n",
    "    tb = TextBlob(doc) \n",
    "    return tb.sentiment.polarity\n",
    "\n",
    "def doc_sub(doc): \n",
    "    tb  = TextBlob(doc)\n",
    "    return tb.sentiment.subjectivity"
   ]
  },
  {
   "cell_type": "markdown",
   "metadata": {},
   "source": [
    "### Due to lack of computation power, I use only 200 observations for now just to test the code. "
   ]
  },
  {
   "cell_type": "code",
   "execution_count": 108,
   "metadata": {},
   "outputs": [
    {
     "data": {
      "text/plain": [
       "0    none\n",
       "1      pt\n",
       "2      en\n",
       "Name: lang, dtype: object"
      ]
     },
     "execution_count": 108,
     "metadata": {},
     "output_type": "execute_result"
    }
   ],
   "source": [
    "rawdata['lang']=rawdata['text'][:200].apply(find_lang)\n",
    "rawdata['lang'].head(3)"
   ]
  },
  {
   "cell_type": "code",
   "execution_count": 145,
   "metadata": {},
   "outputs": [
    {
     "data": {
      "text/html": [
       "<div>\n",
       "<style>\n",
       "    .dataframe thead tr:only-child th {\n",
       "        text-align: right;\n",
       "    }\n",
       "\n",
       "    .dataframe thead th {\n",
       "        text-align: left;\n",
       "    }\n",
       "\n",
       "    .dataframe tbody tr th {\n",
       "        vertical-align: top;\n",
       "    }\n",
       "</style>\n",
       "<table border=\"1\" class=\"dataframe\">\n",
       "  <thead>\n",
       "    <tr style=\"text-align: right;\">\n",
       "      <th></th>\n",
       "      <th>text</th>\n",
       "      <th>retweeted</th>\n",
       "      <th>user</th>\n",
       "      <th>source</th>\n",
       "    </tr>\n",
       "  </thead>\n",
       "  <tbody>\n",
       "    <tr>\n",
       "      <th>0</th>\n",
       "      <td>RT @Sammyy02K: Urban jungle🏙🌴👑 https://t.co...</td>\n",
       "      <td>False</td>\n",
       "      <td>{u'verified': False, u'description': u'🅰️pple...</td>\n",
       "      <td>&lt;a href=\"https://about.twitter.com/products/tw...</td>\n",
       "    </tr>\n",
       "    <tr>\n",
       "      <th>1</th>\n",
       "      <td>@vinsmokesanjis I'm so tempted to look but I'm...</td>\n",
       "      <td>False</td>\n",
       "      <td>{u'verified': False, u'description': u'One tim...</td>\n",
       "      <td>&lt;a href=\"http://twitter.com/download/iphone\" r...</td>\n",
       "    </tr>\n",
       "    <tr>\n",
       "      <th>2</th>\n",
       "      <td>Devers is 3-3 tonight. Pretty good but also ma...</td>\n",
       "      <td>False</td>\n",
       "      <td>{u'verified': False, u'description': u'IG @sta...</td>\n",
       "      <td>&lt;a href=\"http://twitter.com/download/iphone\" r...</td>\n",
       "    </tr>\n",
       "  </tbody>\n",
       "</table>\n",
       "</div>"
      ],
      "text/plain": [
       "                                                text  retweeted  \\\n",
       "0  RT @Sammyy02K: Urban jungle🏙🌴👑 https://t.co...      False   \n",
       "1  @vinsmokesanjis I'm so tempted to look but I'm...      False   \n",
       "2  Devers is 3-3 tonight. Pretty good but also ma...      False   \n",
       "\n",
       "                                                user  \\\n",
       "0  {u'verified': False, u'description': u'🅰️pple...   \n",
       "1  {u'verified': False, u'description': u'One tim...   \n",
       "2  {u'verified': False, u'description': u'IG @sta...   \n",
       "\n",
       "                                              source  \n",
       "0  <a href=\"https://about.twitter.com/products/tw...  \n",
       "1  <a href=\"http://twitter.com/download/iphone\" r...  \n",
       "2  <a href=\"http://twitter.com/download/iphone\" r...  "
      ]
     },
     "execution_count": 145,
     "metadata": {},
     "output_type": "execute_result"
    }
   ],
   "source": [
    "df= rawdata[rawdata['lang']=='en']\n",
    "df = df.reset_index()\n",
    "df = df[['text', \"retweeted\",'user', 'source']]\n",
    "df.head(3)"
   ]
  },
  {
   "cell_type": "code",
   "execution_count": 146,
   "metadata": {
    "collapsed": true
   },
   "outputs": [],
   "source": [
    "from nltk.tokenize import RegexpTokenizer\n",
    "from stop_words import get_stop_words\n",
    "from nltk.stem.porter import PorterStemmer\n",
    "from gensim import corpora, models\n",
    "import gensim\n",
    "import string\n",
    " \n",
    "punctuation = list(string.punctuation)\n",
    "\n",
    "tokenizer = RegexpTokenizer(r'\\w+')\n",
    "\n",
    "# create English stop words list\n",
    "en_stop = get_stop_words('en') + punctuation + ['rt', 'via', 'RT', 'http']\n",
    "\n",
    "# Create p_stemmer of class PorterStemmer\n",
    "p_stemmer = PorterStemmer()"
   ]
  },
  {
   "cell_type": "code",
   "execution_count": 147,
   "metadata": {},
   "outputs": [],
   "source": [
    "#remove emoticon, URL, hash-tag from the text\n",
    "import re\n",
    " \n",
    "emoticons_str = r\"\"\"\n",
    "    (?:\n",
    "        [:=;] # Eyes\n",
    "        [oO\\-]? # Nose (optional)\n",
    "        [D\\)\\]\\(\\]/\\\\OpP] # Mouth\n",
    "    )\"\"\"\n",
    " \n",
    "regex_str = [\n",
    "    emoticons_str,\n",
    "    r'<[^>]+>', # HTML tags\n",
    "    r'(?:@[\\w_]+)', # @-mentions\n",
    "    r\"(?:\\#+[\\w_]+[\\w\\'_\\-]*[\\w_]+)\", # hash-tags\n",
    "    r'http[s]?://(?:[a-z]|[0-9]|[$-_@.&amp;+]|[!*\\(\\),]|(?:%[0-9a-f][0-9a-f]))+', # URLs\n",
    " \n",
    "    r'(?:(?:\\d+,?)+(?:\\.?\\d+)?)', # numbers\n",
    "    r\"(?:[a-z][a-z'\\-_]+[a-z])\", # words with - and '\n",
    "    r'(?:[\\w_]+)', # other words\n",
    "    r'(?:\\S)' # anything else\n",
    "]\n",
    "    \n",
    "tokens_re = re.compile(r'('+'|'.join(regex_str)+')', re.VERBOSE | re.IGNORECASE)\n",
    "emoticon_re = re.compile(r'^'+emoticons_str+'$', re.VERBOSE | re.IGNORECASE)\n",
    " \n",
    "def tokenize(s):\n",
    "    return tokens_re.findall(s)    \n",
    "    \n",
    "def preprocess(s, lowercase=False):\n",
    "    tokens = tokenize(s)\n",
    "    if lowercase:\n",
    "        tokens = [token if emoticon_re.search(token) else token.lower() for token in tokens]\n",
    "    return tokens\n",
    "\n",
    "def encoding(text):   \n",
    "    t = text.encode('utf-8')\n",
    "    return t"
   ]
  },
  {
   "cell_type": "code",
   "execution_count": 182,
   "metadata": {},
   "outputs": [],
   "source": [
    "# list for tokenized documents in loop\n",
    "texts = []\n",
    "\n",
    "# loop through document list\n",
    "for i in lower_text:\n",
    "    \n",
    "    # clean and tokenize document string\n",
    "    #raw = i.lower()\n",
    "    tokens = tokenizer.tokenize(i)\n",
    "    \n",
    "    # remove stop words from tokens\n",
    "    stopped_tokens = [i for i in tokens if not i in en_stop]\n",
    "    stopped_tokens = [i.decode(\"utf8\",\"ignore\") for i in stopped_tokens]\n",
    "    \n",
    "    # remove the emoticons, url and hashtag\n",
    "    final_stopped_tokens = [i for i in stopped_tokens]\n",
    "    \n",
    "        \n",
    "    # stem tokens\n",
    "    stemmed_tokens = [p_stemmer.stem(i) for i in final_stopped_tokens]\n",
    "    \n",
    "    # add tokens to list\n",
    "    texts.append(stemmed_tokens)"
   ]
  },
  {
   "cell_type": "code",
   "execution_count": 183,
   "metadata": {
    "collapsed": true
   },
   "outputs": [],
   "source": [
    "dictionary = corpora.Dictionary(texts)"
   ]
  },
  {
   "cell_type": "code",
   "execution_count": 184,
   "metadata": {
    "collapsed": true
   },
   "outputs": [],
   "source": [
    "# convert tokenized documents into a document-term matrix\n",
    "corpus = [dictionary.doc2bow(text) for text in texts]"
   ]
  },
  {
   "cell_type": "code",
   "execution_count": 185,
   "metadata": {
    "collapsed": true
   },
   "outputs": [],
   "source": [
    "# generate LDA model\n",
    "ldamodel = gensim.models.ldamodel.LdaModel(corpus, num_topics=3, id2word = dictionary, passes=20)"
   ]
  },
  {
   "cell_type": "code",
   "execution_count": 186,
   "metadata": {
    "collapsed": true
   },
   "outputs": [],
   "source": [
    "print(ldamodel.print_topics(num_topics=2, num_words=3))"
   ]
  },
  {
   "cell_type": "code",
   "execution_count": 197,
   "metadata": {},
   "outputs": [
    {
     "data": {
      "text/plain": [
       "[(0,\n",
       "  u'0.015*\"t\" + 0.012*\"s\" + 0.012*\"3\" + 0.008*\"don\" + 0.008*\"give\" + 0.008*\"go\" + 0.005*\"someth\" + 0.005*\"peopl\" + 0.005*\"Thi\" + 0.005*\"wear\"'),\n",
       " (1,\n",
       "  u'0.181*\"\" + 0.062*\"t\" + 0.058*\"http\" + 0.058*\"co\" + 0.008*\"The\" + 0.007*\"jungl\" + 0.007*\"68OaA7uIt2\" + 0.007*\"Urban\" + 0.007*\"Sammyy02K\" + 0.006*\"gt\"'),\n",
       " (2,\n",
       "  u'0.035*\"I\" + 0.015*\"m\" + 0.012*\"\" + 0.011*\"get\" + 0.011*\"want\" + 0.008*\"like\" + 0.008*\"Are\" + 0.008*\"video\" + 0.008*\"What\" + 0.007*\"sex\"')]"
      ]
     },
     "execution_count": 197,
     "metadata": {},
     "output_type": "execute_result"
    }
   ],
   "source": [
    "ldamodel.print_topics(num_topics=3)"
   ]
  },
  {
   "cell_type": "code",
   "execution_count": 200,
   "metadata": {},
   "outputs": [],
   "source": [
    "# Load the corpus and dictionary\n",
    "import pyLDAvis.gensim"
   ]
  },
  {
   "cell_type": "code",
   "execution_count": 201,
   "metadata": {},
   "outputs": [
    {
     "data": {
      "text/html": [
       "\n",
       "<link rel=\"stylesheet\" type=\"text/css\" href=\"https://cdn.rawgit.com/bmabey/pyLDAvis/files/ldavis.v1.0.0.css\">\n",
       "\n",
       "\n",
       "<div id=\"ldavis_el98843659701288407911055\"></div>\n",
       "<script type=\"text/javascript\">\n",
       "\n",
       "var ldavis_el98843659701288407911055_data = {\"plot.opts\": {\"xlab\": \"PC1\", \"ylab\": \"PC2\"}, \"topic.order\": [2, 3, 1], \"token.table\": {\"Topic\": [1, 2, 2, 3, 2, 3, 1, 1, 3, 2, 2, 2, 1, 3, 1, 1, 1, 3, 1, 2, 3, 1, 1, 3, 1, 3, 2, 2, 1, 2, 1, 1, 1, 1, 2, 1, 1, 3, 1, 1, 2, 3, 3, 2, 3, 1, 1, 3, 2, 2, 1, 1, 2, 3, 1, 2, 2, 3, 3, 1, 3, 3, 3, 3, 2, 2, 1, 2, 1, 3, 3, 1, 2, 1, 3, 3, 1, 2, 3, 1, 2, 1, 1, 1, 2, 3, 1, 2, 3, 2, 2, 2, 3, 2, 1, 2, 3, 3, 1, 2, 1, 2, 1, 3, 3, 3, 3, 3, 2, 1, 3, 3, 2, 1, 2, 3, 1, 3, 1, 3, 3, 1, 3, 1, 2, 1, 3, 3, 2, 2, 2, 2, 2, 1, 2, 1, 3, 2, 2, 3], \"Freq\": [0.9847269783056922, 0.014920105731904427, 0.6730193170344441, 0.6730193170344441, 0.4286314118664948, 0.4286314118664948, 0.9463584564972828, 0.9363654723295626, 1.0059485518906002, 0.6666587984639891, 0.9699833509800005, 0.9699829942729359, 0.8086912665340121, 1.0059492751898276, 1.0264384658643857, 0.9364349884704058, 0.936399701333735, 1.005944798687643, 0.2507965410434478, 0.6269913526086195, 0.1253982705217239, 1.0263958557062427, 0.9363293433691372, 1.0059448790066232, 0.5592229525102533, 0.5592229525102533, 0.9699826036254938, 0.9699849358526085, 1.0264374788174513, 0.9699830600012286, 0.9463588144007639, 1.026437198191885, 1.0264374600688297, 0.8469458139155692, 0.14115763565259487, 0.9363798355065025, 0.5630030598826512, 0.5630030598826512, 0.9463587283268111, 0.5704405667365636, 0.2852202833682818, 0.2852202833682818, 1.0059444951221805, 0.6836008847382076, 0.6836008847382076, 0.9364228403205757, 0.7248159238082081, 0.24160530793606935, 0.9699832719325532, 0.969946583436111, 0.9364009034660294, 0.44414202013717025, 0.44414202013717025, 0.44414202013717025, 0.8087013098697815, 0.9699849025695763, 0.9699830495201488, 1.005944381830531, 1.005949443839998, 0.994032607402264, 1.0059321644430963, 1.0059322723176831, 1.0059494642396143, 0.7013652098310074, 0.9699858086089456, 0.9699834642677299, 0.5669498935867806, 0.5669498935867806, 0.7423146014616472, 0.7012923728603544, 0.6970213327637708, 0.7688754825844293, 0.38443774129221464, 0.8895615541373296, 1.0059495537160772, 1.0059491662642188, 0.551387311120593, 0.551387311120593, 1.005949026044132, 0.9798566967013099, 0.9699441409220051, 0.9463582105518379, 0.9364083519554942, 0.9364446880585546, 0.9699440860560339, 1.005932230197486, 0.36928353125536456, 0.36928353125536456, 0.36928353125536456, 0.969982774843947, 0.9699855729548896, 0.6835385286673197, 0.6835385286673197, 0.9699853962880924, 0.3142323304706975, 0.628464660941395, 1.0059319079181084, 1.0059449314352524, 1.026437448337797, 0.9699831575574357, 0.9363633680571676, 0.9699485313635031, 0.7804168464428619, 0.39020842322143096, 1.005944492549357, 1.0059488926575972, 1.005949319122376, 1.0059494418172423, 0.9699852938985896, 0.7140108106371409, 0.23800360354571365, 1.0059450028078214, 0.9699854332498875, 0.43155009203696176, 0.43155009203696176, 1.0059445797174362, 0.5636244011054601, 0.5636244011054601, 0.9364454853654979, 1.0059445931087654, 1.0059490828407112, 0.9545344610637883, 0.04242375382505725, 0.9364447902577903, 0.9699819747156628, 0.8874162467472463, 0.2958054155824154, 1.0059445882394384, 0.9699857566562048, 0.9699851657807429, 0.9699853928026727, 0.6660459917932614, 0.9699818753034957, 0.9364291192002702, 1.0162387574602438, 0.5629817172780367, 0.5629817172780367, 0.9699853796528409, 0.9699854845978878, 1.0059319138033305], \"Term\": [\"\", \"\", \"2\", \"2\", \"3\", \"3\", \"68OaA7uIt2\", \"8\", \"Alabama\", \"Are\", \"CNN\", \"CNNSuck\", \"Can\", \"ChloeAngyal\", \"Common\", \"Dictat\", \"Great\", \"Grin\", \"I\", \"I\", \"I\", \"In\", \"It\", \"LegoBrianZel\", \"MTVHottest\", \"MTVHottest\", \"No\", \"Onli\", \"Pass\", \"ReliableSourc\", \"Sammyy02K\", \"Sens\", \"Test\", \"The\", \"The\", \"These\", \"Thi\", \"Thi\", \"Urban\", \"What\", \"What\", \"What\", \"Will\", \"With\", \"With\", \"World\", \"You\", \"You\", \"anyon\", \"appli\", \"arrest\", \"back\", \"back\", \"back\", \"becoupI\", \"bitchxieti\", \"brianstelt\", \"cheek\", \"clinic\", \"co\", \"deposit\", \"didn\", \"differ\", \"don\", \"fall\", \"foxandfriend\", \"get\", \"get\", \"girl\", \"give\", \"go\", \"gonna\", \"gonna\", \"gt\", \"happen\", \"hardest\", \"high\", \"high\", \"hit\", \"http\", \"internship\", \"jungl\", \"just\", \"kHz5H9KxQC\", \"kaiyah_baiyah\", \"kick\", \"like\", \"like\", \"like\", \"listen\", \"lol\", \"look\", \"look\", \"love\", \"m\", \"m\", \"mooch\", \"mood\", \"nii3YGkPHP\", \"one\", \"paid\", \"pay\", \"peopl\", \"peopl\", \"pinch\", \"polici\", \"poorest\", \"pro\", \"r\", \"s\", \"s\", \"seem\", \"selfi\", \"sex\", \"sex\", \"smiley\", \"someth\", \"someth\", \"spacerelaps\", \"stagmetanoia\", \"suffer\", \"t\", \"t\", \"take\", \"tempt\", \"time\", \"time\", \"today\", \"u\", \"us\", \"vanessaxtran\", \"video\", \"vinsmokesanji\", \"vision\", \"want\", \"wear\", \"wear\", \"weirdo\", \"wtf\", \"yet\"]}, \"mdsDat\": {\"y\": [-0.002208278944751771, -0.06326861532668722, 0.06547689427143895], \"cluster\": [1, 1, 1], \"Freq\": [73.41529340978289, 14.338610036941956, 12.24609655327516], \"topics\": [1, 2, 3], \"x\": [0.14814863061423264, -0.07788594535192817, -0.07026268526230453]}, \"R\": 30, \"lambda.step\": 0.01, \"tinfo\": {\"Category\": [\"Default\", \"Default\", \"Default\", \"Default\", \"Default\", \"Default\", \"Default\", \"Default\", \"Default\", \"Default\", \"Default\", \"Default\", \"Default\", \"Default\", \"Default\", \"Default\", \"Default\", \"Default\", \"Default\", \"Default\", \"Default\", \"Default\", \"Default\", \"Default\", \"Default\", \"Default\", \"Default\", \"Default\", \"Default\", \"Default\", \"Topic1\", \"Topic1\", \"Topic1\", \"Topic1\", \"Topic1\", \"Topic1\", \"Topic1\", \"Topic1\", \"Topic1\", \"Topic1\", \"Topic1\", \"Topic1\", \"Topic1\", \"Topic1\", \"Topic1\", \"Topic1\", \"Topic1\", \"Topic1\", \"Topic1\", \"Topic1\", \"Topic1\", \"Topic1\", \"Topic1\", \"Topic1\", \"Topic1\", \"Topic1\", \"Topic1\", \"Topic1\", \"Topic1\", \"Topic1\", \"Topic1\", \"Topic1\", \"Topic1\", \"Topic1\", \"Topic1\", \"Topic1\", \"Topic1\", \"Topic2\", \"Topic2\", \"Topic2\", \"Topic2\", \"Topic2\", \"Topic2\", \"Topic2\", \"Topic2\", \"Topic2\", \"Topic2\", \"Topic2\", \"Topic2\", \"Topic2\", \"Topic2\", \"Topic2\", \"Topic2\", \"Topic2\", \"Topic2\", \"Topic2\", \"Topic2\", \"Topic2\", \"Topic2\", \"Topic2\", \"Topic2\", \"Topic2\", \"Topic2\", \"Topic2\", \"Topic2\", \"Topic2\", \"Topic2\", \"Topic2\", \"Topic2\", \"Topic2\", \"Topic2\", \"Topic2\", \"Topic2\", \"Topic2\", \"Topic2\", \"Topic2\", \"Topic2\", \"Topic2\", \"Topic2\", \"Topic3\", \"Topic3\", \"Topic3\", \"Topic3\", \"Topic3\", \"Topic3\", \"Topic3\", \"Topic3\", \"Topic3\", \"Topic3\", \"Topic3\", \"Topic3\", \"Topic3\", \"Topic3\", \"Topic3\", \"Topic3\", \"Topic3\", \"Topic3\", \"Topic3\", \"Topic3\", \"Topic3\", \"Topic3\", \"Topic3\", \"Topic3\", \"Topic3\", \"Topic3\", \"Topic3\", \"Topic3\", \"Topic3\", \"Topic3\", \"Topic3\", \"Topic3\", \"Topic3\", \"Topic3\", \"Topic3\", \"Topic3\", \"Topic3\", \"Topic3\", \"Topic3\", \"Topic3\"], \"Term\": [\"\", \"I\", \"co\", \"http\", \"t\", \"m\", \"s\", \"get\", \"3\", \"want\", \"What\", \"like\", \"sex\", \"don\", \"give\", \"go\", \"Are\", \"video\", \"back\", \"look\", \"With\", \"2\", \"peopl\", \"someth\", \"Thi\", \"wear\", \"MTVHottest\", \"You\", \"time\", \"high\", \"co\", \"http\", \"\", \"t\", \"jungl\", \"68OaA7uIt2\", \"Urban\", \"Sammyy02K\", \"gt\", \"Can\", \"becoupI\", \"In\", \"Sens\", \"Pass\", \"Test\", \"nii3YGkPHP\", \"Common\", \"It\", \"paid\", \"8\", \"These\", \"Great\", \"arrest\", \"just\", \"World\", \"vision\", \"Dictat\", \"kHz5H9KxQC\", \"take\", \"spacerelaps\", \"The\", \"You\", \"time\", \"s\", \"girl\", \"I\", \"What\", \"want\", \"Are\", \"video\", \"m\", \"I\", \"u\", \"fall\", \"weirdo\", \"vanessaxtran\", \"selfi\", \"wtf\", \"lol\", \"love\", \"r\", \"us\", \"bitchxieti\", \"Onli\", \"foxandfriend\", \"anyon\", \"CNN\", \"one\", \"CNNSuck\", \"ReliableSourc\", \"brianstelt\", \"No\", \"listen\", \"pay\", \"appli\", \"tempt\", \"vinsmokesanji\", \"kaiyah_baiyah\", \"internship\", \"get\", \"sex\", \"like\", \"What\", \"\", \"2\", \"high\", \"gonna\", \"back\", \"With\", \"don\", \"give\", \"go\", \"3\", \"happen\", \"pro\", \"differ\", \"clinic\", \"ChloeAngyal\", \"poorest\", \"hardest\", \"suffer\", \"hit\", \"polici\", \"Alabama\", \"seem\", \"mood\", \"LegoBrianZel\", \"Grin\", \"stagmetanoia\", \"Will\", \"today\", \"smiley\", \"cheek\", \"pinch\", \"kick\", \"deposit\", \"didn\", \"yet\", \"mooch\", \"s\", \"t\", \"someth\", \"Thi\", \"wear\", \"peopl\", \"You\", \"like\", \"What\", \"look\"], \"loglift\": [30.0, 29.0, 28.0, 27.0, 26.0, 25.0, 24.0, 23.0, 22.0, 21.0, 20.0, 19.0, 18.0, 17.0, 16.0, 15.0, 14.0, 13.0, 12.0, 11.0, 10.0, 9.0, 8.0, 7.0, 6.0, 5.0, 4.0, 3.0, 2.0, 1.0, 0.3013, 0.2953, 0.295, 0.265, 0.2504, 0.2504, 0.2504, 0.2504, 0.2399, 0.2246, 0.2245, 0.2006, 0.2005, 0.2005, 0.2005, 0.2005, 0.2005, 0.1575, 0.1574, 0.1574, 0.1574, 0.1574, 0.1574, 0.1574, 0.1573, 0.1573, 0.1573, 0.1573, 0.1573, 0.1573, 0.1485, 0.1135, 0.0768, -0.1762, 0.0394, -0.8681, -0.3361, 1.7109, 1.625, 1.6222, 1.522, 1.4666, 1.4411, 1.4411, 1.4411, 1.4411, 1.4411, 1.4411, 1.4411, 1.4411, 1.4411, 1.4411, 1.441, 1.441, 1.441, 1.441, 1.441, 1.441, 1.441, 1.441, 1.441, 1.441, 1.441, 1.441, 1.441, 1.441, 1.441, 1.441, 1.441, 1.1405, 1.1482, 1.0459, 0.7736, -2.4378, 1.0905, 0.8858, 0.5233, 0.6664, 1.0945, 1.7523, 1.7521, 1.7353, 1.6124, 1.5534, 1.5534, 1.5534, 1.5534, 1.5534, 1.5534, 1.5534, 1.5534, 1.5534, 1.5534, 1.5534, 1.5533, 1.5533, 1.5533, 1.5533, 1.5533, 1.5533, 1.5533, 1.5533, 1.5533, 1.5533, 1.5533, 1.5533, 1.5533, 1.5533, 1.5533, 1.0421, -1.1369, 0.9877, 0.9827, 0.982, 0.6162, 0.1324, 0.5558, 0.2961, 1.1686], \"Freq\": [134.0, 7.0, 42.0, 42.0, 47.0, 3.0, 4.0, 3.0, 2.0, 1.0, 3.0, 2.0, 2.0, 1.0, 1.0, 1.0, 1.0, 1.0, 2.0, 1.0, 1.0, 1.0, 2.0, 1.0, 1.0, 1.0, 1.0, 4.0, 3.0, 1.0, 41.927675089997095, 42.28044879941841, 132.1727342417635, 45.113055874757784, 4.982738046892918, 4.982734864928369, 4.982731411831912, 4.982730070195663, 4.196054121296765, 3.4091740924844025, 3.409064335342721, 2.62240522627595, 2.622137049820363, 2.622135472620609, 2.6221354550728027, 2.6221354034051427, 2.6221287239960422, 1.8356469528634576, 1.8354656796922881, 1.835454318724807, 1.8353804881059412, 1.8352728291596667, 1.8352684030156203, 1.8352243899287857, 1.8351638437695785, 1.8351172373478346, 1.8350854814923887, 1.835035912267109, 1.835034139005044, 1.8350316736806345, 6.033319228124393, 3.4038427803775133, 2.680113703638327, 2.58632136667559, 2.0574952838909017, 2.457566694486933, 1.8391544795860608, 1.5616710537032898, 1.092310241321902, 1.090253727976244, 2.090493084528931, 4.956182891946314, 0.6245892069283225, 0.6245890988591839, 0.6245884161558629, 0.6245883618709195, 0.6245883110399727, 0.6245882419469624, 0.6245879695330308, 0.6245875990820897, 0.6245871571274855, 0.6245718516979716, 0.6245714656557481, 0.6245712252834761, 0.624560963849256, 0.6245607755650057, 0.6245602102388383, 0.6245600361408324, 0.6245599363474922, 0.6245595836921221, 0.6245589177915544, 0.6245584423183419, 0.6245580777241481, 0.6245594926880562, 0.6245565462770076, 0.6245295553057866, 0.6245288589948556, 0.6245529668705643, 0.6245527168296892, 1.5824235889890859, 1.0474512470104453, 1.1050852461451224, 1.0896203225297745, 1.6790304038510366, 0.6340071836724707, 0.6305776185408445, 0.6294022807555442, 0.6286327755594951, 0.6266607860876251, 1.00710303462268, 1.0069580340434685, 0.9962541004917044, 1.4326959812483795, 0.5754903567869628, 0.5754899071203784, 0.5754898063554315, 0.5754897008139782, 0.5754896243449279, 0.5754895616498947, 0.5754893649030347, 0.5754892651341577, 0.5754890337123089, 0.5754887925850002, 0.5754883683124704, 0.5754576094979991, 0.5754575905678662, 0.5754573051145208, 0.5754571885170734, 0.5754571676583703, 0.5754571847151178, 0.5754570310231925, 0.57545701639738, 0.5754566976231018, 0.57545658328089, 0.5754448885341347, 0.5754448674383901, 0.5754447191956049, 0.5754449040002233, 0.5754445086449806, 1.4587463033257648, 1.8521829169276407, 0.5833855592344158, 0.5811063268967446, 0.5807654130819521, 0.5811878509506755, 0.5786181905583838, 0.5781310797489827, 0.5772872078877842, 0.5764175294112722], \"Total\": [134.0, 7.0, 42.0, 42.0, 47.0, 3.0, 4.0, 3.0, 2.0, 1.0, 3.0, 2.0, 2.0, 1.0, 1.0, 1.0, 1.0, 1.0, 2.0, 1.0, 1.0, 1.0, 2.0, 1.0, 1.0, 1.0, 1.0, 4.0, 3.0, 1.0, 42.25213507810362, 42.86341068177939, 134.04730743451083, 47.14340009249054, 5.283411655597528, 5.283410282512075, 5.283408764919558, 5.283408284378911, 4.4965972072377625, 3.709697537427066, 3.709651466352967, 2.922848902128272, 2.922731176622042, 2.922730377554287, 2.9227304309400686, 2.9227304643436107, 2.9227275669892556, 2.1360005580979884, 2.135922942126346, 2.1359181421162883, 2.1358853791615116, 2.1358400661078334, 2.1358373241601165, 2.13582033503163, 2.135787289548938, 2.1357729688158793, 2.135759582485107, 2.1357374605289476, 2.1357372274444795, 2.135735642122716, 7.084278476164865, 4.138981914522374, 3.3806007169648535, 4.201617055801967, 2.694275440711957, 7.97459164181025, 3.5060620100036193, 1.9680414521862415, 1.5000177036649684, 1.501397819852652, 3.182358729612805, 7.97459164181025, 1.0309429732734037, 1.0309429180557783, 1.0309433739691019, 1.030943359992879, 1.0309433170037927, 1.0309432624288752, 1.0309431685191737, 1.030943356288421, 1.030943465112522, 1.0309436012818796, 1.0309438810345513, 1.0309438456598385, 1.030945409729155, 1.0309456141523377, 1.0309455301368553, 1.0309457357158152, 1.0309459092626296, 1.0309458394033535, 1.0309458505431621, 1.0309463244622228, 1.0309461424826665, 1.0309825394490284, 1.0309846099539033, 1.0309469928996737, 1.0309470985600757, 1.0309872644991103, 1.0309872061801668, 3.5276486028546516, 2.3172281004040456, 2.7079463755140667, 3.5060620100036193, 134.04730743451083, 1.4858414531195716, 1.8136072046483702, 2.6012014237693974, 2.251532065556771, 1.4628418750261871, 1.4257907092953015, 1.4259387934326302, 1.4346763190659941, 2.3330068033172253, 0.994085634121414, 0.9940857447005541, 0.9940857225426215, 0.9940857427016538, 0.9940859093628702, 0.9940858659484293, 0.9940860170039086, 0.9940860994436105, 0.9940861555704007, 0.9940862873839635, 0.9940866241325956, 0.9940901313777318, 0.9940902019091935, 0.9940902537199714, 0.9940903330924333, 0.994090536248727, 0.9940906330806467, 0.9940905410606737, 0.9940905494822527, 0.9940907450373012, 0.9940906356231525, 0.9941027536255387, 0.9941028186066796, 0.9941027120006648, 0.9941030662990873, 0.9941030721151045, 4.201617055801967, 47.14340009249054, 1.7742312043954418, 1.7761892807624058, 1.7762566159961737, 2.5627329921387463, 4.138981914522374, 2.7079463755140667, 3.5060620100036193, 1.4629753233510896], \"logprob\": [30.0, 29.0, 28.0, 27.0, 26.0, 25.0, 24.0, 23.0, 22.0, 21.0, 20.0, 19.0, 18.0, 17.0, 16.0, 15.0, 14.0, 13.0, 12.0, 11.0, 10.0, 9.0, 8.0, 7.0, 6.0, 5.0, 4.0, 3.0, 2.0, 1.0, -2.8557, -2.8474, -1.7076, -2.7825, -4.9857, -4.9857, -4.9857, -4.9857, -5.1575, -5.3652, -5.3653, -5.6276, -5.6277, -5.6277, -5.6277, -5.6277, -5.6277, -5.9843, -5.9844, -5.9844, -5.9844, -5.9845, -5.9845, -5.9845, -5.9846, -5.9846, -5.9846, -5.9846, -5.9846, -5.9846, -4.7944, -5.3668, -5.6058, -5.6415, -5.8702, -5.6925, -5.9824, -4.5128, -4.8702, -4.8721, -4.2211, -3.3579, -5.4292, -5.4292, -5.4292, -5.4292, -5.4292, -5.4292, -5.4292, -5.4292, -5.4292, -5.4292, -5.4292, -5.4292, -5.4292, -5.4292, -5.4292, -5.4292, -5.4292, -5.4292, -5.4292, -5.4292, -5.4292, -5.4292, -5.4292, -5.4293, -5.4293, -5.4292, -5.4292, -4.4996, -4.9122, -4.8586, -4.8727, -4.4403, -5.4142, -5.4196, -5.4215, -5.4227, -5.4259, -4.7937, -4.7938, -4.8045, -4.4412, -5.3533, -5.3533, -5.3533, -5.3533, -5.3533, -5.3533, -5.3533, -5.3533, -5.3533, -5.3533, -5.3533, -5.3534, -5.3534, -5.3534, -5.3534, -5.3534, -5.3534, -5.3534, -5.3534, -5.3534, -5.3534, -5.3534, -5.3534, -5.3534, -5.3534, -5.3534, -4.4232, -4.1844, -5.3397, -5.3436, -5.3442, -5.3434, -5.3479, -5.3487, -5.3502, -5.3517]}};\n",
       "\n",
       "function LDAvis_load_lib(url, callback){\n",
       "  var s = document.createElement('script');\n",
       "  s.src = url;\n",
       "  s.async = true;\n",
       "  s.onreadystatechange = s.onload = callback;\n",
       "  s.onerror = function(){console.warn(\"failed to load library \" + url);};\n",
       "  document.getElementsByTagName(\"head\")[0].appendChild(s);\n",
       "}\n",
       "\n",
       "if(typeof(LDAvis) !== \"undefined\"){\n",
       "   // already loaded: just create the visualization\n",
       "   !function(LDAvis){\n",
       "       new LDAvis(\"#\" + \"ldavis_el98843659701288407911055\", ldavis_el98843659701288407911055_data);\n",
       "   }(LDAvis);\n",
       "}else if(typeof define === \"function\" && define.amd){\n",
       "   // require.js is available: use it to load d3/LDAvis\n",
       "   require.config({paths: {d3: \"https://cdnjs.cloudflare.com/ajax/libs/d3/3.5.5/d3.min\"}});\n",
       "   require([\"d3\"], function(d3){\n",
       "      window.d3 = d3;\n",
       "      LDAvis_load_lib(\"https://cdn.rawgit.com/bmabey/pyLDAvis/files/ldavis.v1.0.0.js\", function(){\n",
       "        new LDAvis(\"#\" + \"ldavis_el98843659701288407911055\", ldavis_el98843659701288407911055_data);\n",
       "      });\n",
       "    });\n",
       "}else{\n",
       "    // require.js not available: dynamically load d3 & LDAvis\n",
       "    LDAvis_load_lib(\"https://cdnjs.cloudflare.com/ajax/libs/d3/3.5.5/d3.min.js\", function(){\n",
       "         LDAvis_load_lib(\"https://cdn.rawgit.com/bmabey/pyLDAvis/files/ldavis.v1.0.0.js\", function(){\n",
       "                 new LDAvis(\"#\" + \"ldavis_el98843659701288407911055\", ldavis_el98843659701288407911055_data);\n",
       "            })\n",
       "         });\n",
       "}\n",
       "</script>"
      ],
      "text/plain": [
       "<IPython.core.display.HTML object>"
      ]
     },
     "execution_count": 201,
     "metadata": {},
     "output_type": "execute_result"
    }
   ],
   "source": [
    "# First LDA model with 10 topics, 10 passes, alpha = 0.001\n",
    "#lda = models.LdaModel.load('data/alexip_followers_py27_t10_p10_a001_b01.lda')\n",
    "followers_data =  pyLDAvis.gensim.prepare(ldamodel, corpus, dictionary)\n",
    "pyLDAvis.display(followers_data)"
   ]
  },
  {
   "cell_type": "code",
   "execution_count": null,
   "metadata": {
    "collapsed": true
   },
   "outputs": [],
   "source": []
  },
  {
   "cell_type": "code",
   "execution_count": null,
   "metadata": {
    "collapsed": true
   },
   "outputs": [],
   "source": []
  },
  {
   "cell_type": "code",
   "execution_count": null,
   "metadata": {
    "collapsed": true
   },
   "outputs": [],
   "source": []
  }
 ],
 "metadata": {
  "anaconda-cloud": {},
  "kernelspec": {
   "display_name": "Python [conda root]",
   "language": "python",
   "name": "conda-root-py"
  },
  "language_info": {
   "codemirror_mode": {
    "name": "ipython",
    "version": 2
   },
   "file_extension": ".py",
   "mimetype": "text/x-python",
   "name": "python",
   "nbconvert_exporter": "python",
   "pygments_lexer": "ipython2",
   "version": "2.7.12"
  }
 },
 "nbformat": 4,
 "nbformat_minor": 1
}
