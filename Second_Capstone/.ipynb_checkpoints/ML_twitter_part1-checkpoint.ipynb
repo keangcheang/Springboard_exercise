{
 "cells": [
  {
   "cell_type": "markdown",
   "metadata": {},
   "source": [
    "### Tasks in part1: \n",
    "    1. collect the tweets data from crate.io\n",
    "    2. prepare the data for sentiment analysis\n",
    "    3. using naive bayes analyzer for the sentiment analysis\n",
    "    \n",
    "**- proposal for next step: **\n",
    "    1. mining the tweets with frequency of term along with visualization\n",
    "    2. put the tweet into geolocation and interactive maps\n",
    "    3. search for specific keyword and filter out for the topic I want to explore more"
   ]
  },
  {
   "cell_type": "code",
   "execution_count": 5,
   "metadata": {
    "collapsed": true
   },
   "outputs": [],
   "source": [
    "import pandas as pd\n",
    "import json\n",
    "import numpy as np\n",
    "from textblob import TextBlob"
   ]
  },
  {
   "cell_type": "code",
   "execution_count": 6,
   "metadata": {},
   "outputs": [
    {
     "data": {
      "text/html": [
       "<div>\n",
       "<style>\n",
       "    .dataframe thead tr:only-child th {\n",
       "        text-align: right;\n",
       "    }\n",
       "\n",
       "    .dataframe thead th {\n",
       "        text-align: left;\n",
       "    }\n",
       "\n",
       "    .dataframe tbody tr th {\n",
       "        vertical-align: top;\n",
       "    }\n",
       "</style>\n",
       "<table border=\"1\" class=\"dataframe\">\n",
       "  <thead>\n",
       "    <tr style=\"text-align: right;\">\n",
       "      <th></th>\n",
       "      <th>created_at</th>\n",
       "      <th>id</th>\n",
       "      <th>retweeted</th>\n",
       "      <th>source</th>\n",
       "      <th>text</th>\n",
       "      <th>user</th>\n",
       "    </tr>\n",
       "  </thead>\n",
       "  <tbody>\n",
       "    <tr>\n",
       "      <th>0</th>\n",
       "      <td>2017-08-01 00:46:11</td>\n",
       "      <td>892184651892224000</td>\n",
       "      <td>False</td>\n",
       "      <td>&lt;a href=\"http://www.facebook.com/twitter\" rel=...</td>\n",
       "      <td>https://t.co/yb7EZLUdCf</td>\n",
       "      <td>{u'verified': False, u'description': u'desde 1...</td>\n",
       "    </tr>\n",
       "    <tr>\n",
       "      <th>1</th>\n",
       "      <td>2017-08-01 00:46:11</td>\n",
       "      <td>892184651896410112</td>\n",
       "      <td>False</td>\n",
       "      <td>&lt;a href=\"http://twitter.com/download/iphone\" r...</td>\n",
       "      <td>RT @horrorcuIt: infernoooooo que horas vai lib...</td>\n",
       "      <td>{u'verified': False, u'description': u'entrei ...</td>\n",
       "    </tr>\n",
       "    <tr>\n",
       "      <th>2</th>\n",
       "      <td>2017-08-01 00:46:11</td>\n",
       "      <td>892184651929796608</td>\n",
       "      <td>False</td>\n",
       "      <td>&lt;a href=\"https://about.twitter.com/products/tw...</td>\n",
       "      <td>RT @Sammyy02K: Urban jungle🏙🌴👑 https://t.co...</td>\n",
       "      <td>{u'verified': False, u'description': u'🅰️pple...</td>\n",
       "    </tr>\n",
       "  </tbody>\n",
       "</table>\n",
       "</div>"
      ],
      "text/plain": [
       "           created_at                  id  retweeted  \\\n",
       "0 2017-08-01 00:46:11  892184651892224000      False   \n",
       "1 2017-08-01 00:46:11  892184651896410112      False   \n",
       "2 2017-08-01 00:46:11  892184651929796608      False   \n",
       "\n",
       "                                              source  \\\n",
       "0  <a href=\"http://www.facebook.com/twitter\" rel=...   \n",
       "1  <a href=\"http://twitter.com/download/iphone\" r...   \n",
       "2  <a href=\"https://about.twitter.com/products/tw...   \n",
       "\n",
       "                                                text  \\\n",
       "0                            https://t.co/yb7EZLUdCf   \n",
       "1  RT @horrorcuIt: infernoooooo que horas vai lib...   \n",
       "2  RT @Sammyy02K: Urban jungle🏙🌴👑 https://t.co...   \n",
       "\n",
       "                                                user  \n",
       "0  {u'verified': False, u'description': u'desde 1...  \n",
       "1  {u'verified': False, u'description': u'entrei ...  \n",
       "2  {u'verified': False, u'description': u'🅰️pple...  "
      ]
     },
     "execution_count": 6,
     "metadata": {},
     "output_type": "execute_result"
    }
   ],
   "source": [
    "rawdata = pd.read_json('tweets_0_.json', lines=True)\n",
    "rawdata.head(3)"
   ]
  },
  {
   "cell_type": "markdown",
   "metadata": {},
   "source": [
    "### Most of the tweets consist of different languages, thus I need to filter out only English tweets. I use TextBlob functionality to solve this problem. "
   ]
  },
  {
   "cell_type": "code",
   "execution_count": 7,
   "metadata": {
    "collapsed": true
   },
   "outputs": [],
   "source": [
    "def find_lang(doc): \n",
    "    tb = TextBlob(doc)\n",
    "    if len(tb.words)>5 and type(tb): \n",
    "        return tb.detect_language()\n",
    "    else: \n",
    "        return 'none'\n",
    "\n",
    "def doc_polarity(doc): \n",
    "    tb = TextBlob(doc) \n",
    "    return tb.sentiment.polarity\n",
    "\n",
    "def doc_sub(doc): \n",
    "    tb  = TextBlob(doc)\n",
    "    return tb.sentiment.subjectivity"
   ]
  },
  {
   "cell_type": "markdown",
   "metadata": {},
   "source": [
    "### Due to lack of computation power, I use only 200 observations for now just to test the code. "
   ]
  },
  {
   "cell_type": "code",
   "execution_count": 8,
   "metadata": {},
   "outputs": [
    {
     "data": {
      "text/plain": [
       "0    none\n",
       "1      pt\n",
       "2      en\n",
       "Name: lang, dtype: object"
      ]
     },
     "execution_count": 8,
     "metadata": {},
     "output_type": "execute_result"
    }
   ],
   "source": [
    "rawdata['lang']=rawdata['text'][:200].apply(find_lang)\n",
    "rawdata['lang'].head(3)"
   ]
  },
  {
   "cell_type": "code",
   "execution_count": 9,
   "metadata": {},
   "outputs": [
    {
     "name": "stdout",
     "output_type": "stream",
     "text": [
      "English Tweets have 70 out of 200.\n"
     ]
    },
    {
     "data": {
      "text/html": [
       "<div>\n",
       "<style>\n",
       "    .dataframe thead tr:only-child th {\n",
       "        text-align: right;\n",
       "    }\n",
       "\n",
       "    .dataframe thead th {\n",
       "        text-align: left;\n",
       "    }\n",
       "\n",
       "    .dataframe tbody tr th {\n",
       "        vertical-align: top;\n",
       "    }\n",
       "</style>\n",
       "<table border=\"1\" class=\"dataframe\">\n",
       "  <thead>\n",
       "    <tr style=\"text-align: right;\">\n",
       "      <th></th>\n",
       "      <th>text</th>\n",
       "      <th>retweeted</th>\n",
       "      <th>user</th>\n",
       "      <th>source</th>\n",
       "    </tr>\n",
       "  </thead>\n",
       "  <tbody>\n",
       "    <tr>\n",
       "      <th>0</th>\n",
       "      <td>RT @Sammyy02K: Urban jungle🏙🌴👑 https://t.co...</td>\n",
       "      <td>False</td>\n",
       "      <td>{u'verified': False, u'description': u'🅰️pple...</td>\n",
       "      <td>&lt;a href=\"https://about.twitter.com/products/tw...</td>\n",
       "    </tr>\n",
       "    <tr>\n",
       "      <th>1</th>\n",
       "      <td>@vinsmokesanjis I'm so tempted to look but I'm...</td>\n",
       "      <td>False</td>\n",
       "      <td>{u'verified': False, u'description': u'One tim...</td>\n",
       "      <td>&lt;a href=\"http://twitter.com/download/iphone\" r...</td>\n",
       "    </tr>\n",
       "    <tr>\n",
       "      <th>2</th>\n",
       "      <td>Devers is 3-3 tonight. Pretty good but also ma...</td>\n",
       "      <td>False</td>\n",
       "      <td>{u'verified': False, u'description': u'IG @sta...</td>\n",
       "      <td>&lt;a href=\"http://twitter.com/download/iphone\" r...</td>\n",
       "    </tr>\n",
       "  </tbody>\n",
       "</table>\n",
       "</div>"
      ],
      "text/plain": [
       "                                                text  retweeted  \\\n",
       "0  RT @Sammyy02K: Urban jungle🏙🌴👑 https://t.co...      False   \n",
       "1  @vinsmokesanjis I'm so tempted to look but I'm...      False   \n",
       "2  Devers is 3-3 tonight. Pretty good but also ma...      False   \n",
       "\n",
       "                                                user  \\\n",
       "0  {u'verified': False, u'description': u'🅰️pple...   \n",
       "1  {u'verified': False, u'description': u'One tim...   \n",
       "2  {u'verified': False, u'description': u'IG @sta...   \n",
       "\n",
       "                                              source  \n",
       "0  <a href=\"https://about.twitter.com/products/tw...  \n",
       "1  <a href=\"http://twitter.com/download/iphone\" r...  \n",
       "2  <a href=\"http://twitter.com/download/iphone\" r...  "
      ]
     },
     "execution_count": 9,
     "metadata": {},
     "output_type": "execute_result"
    }
   ],
   "source": [
    "df= rawdata[rawdata['lang']=='en']\n",
    "size= str(len(rawdata[rawdata['lang']=='en']))\n",
    "print (\"English Tweets have \" + size + \" out of 200.\")\n",
    "df = df.reset_index()\n",
    "df = df[['text', \"retweeted\",'user', 'source']]\n",
    "df.head(3)"
   ]
  },
  {
   "cell_type": "code",
   "execution_count": 10,
   "metadata": {
    "collapsed": true
   },
   "outputs": [],
   "source": [
    "# the encode_doc give out the same text as pd.read_json\n",
    "# it might solve issue with windows\n",
    "import codecs\n",
    "\n",
    "def encode_doc(doc): \n",
    "    encoded_doc = doc.encode('utf-8', 'ignore')\n",
    "    return encoded_doc\n",
    "\n",
    "def decode_doc(doc): \n",
    "    decoded_doc = doc.decode('utf-8', 'ignore')\n",
    "    return decoded_doc"
   ]
  },
  {
   "cell_type": "code",
   "execution_count": 11,
   "metadata": {},
   "outputs": [
    {
     "data": {
      "text/html": [
       "<div>\n",
       "<style>\n",
       "    .dataframe thead tr:only-child th {\n",
       "        text-align: right;\n",
       "    }\n",
       "\n",
       "    .dataframe thead th {\n",
       "        text-align: left;\n",
       "    }\n",
       "\n",
       "    .dataframe tbody tr th {\n",
       "        vertical-align: top;\n",
       "    }\n",
       "</style>\n",
       "<table border=\"1\" class=\"dataframe\">\n",
       "  <thead>\n",
       "    <tr style=\"text-align: right;\">\n",
       "      <th></th>\n",
       "      <th>text</th>\n",
       "      <th>retweeted</th>\n",
       "      <th>user</th>\n",
       "      <th>source</th>\n",
       "      <th>polarity</th>\n",
       "      <th>sub</th>\n",
       "    </tr>\n",
       "  </thead>\n",
       "  <tbody>\n",
       "    <tr>\n",
       "      <th>0</th>\n",
       "      <td>RT @Sammyy02K: Urban jungle🏙🌴👑 https://t.co...</td>\n",
       "      <td>False</td>\n",
       "      <td>{u'verified': False, u'description': u'🅰️pple...</td>\n",
       "      <td>&lt;a href=\"https://about.twitter.com/products/tw...</td>\n",
       "      <td>0.000000</td>\n",
       "      <td>0.000000</td>\n",
       "    </tr>\n",
       "    <tr>\n",
       "      <th>1</th>\n",
       "      <td>@vinsmokesanjis I'm so tempted to look but I'm...</td>\n",
       "      <td>False</td>\n",
       "      <td>{u'verified': False, u'description': u'One tim...</td>\n",
       "      <td>&lt;a href=\"http://twitter.com/download/iphone\" r...</td>\n",
       "      <td>0.000000</td>\n",
       "      <td>0.000000</td>\n",
       "    </tr>\n",
       "    <tr>\n",
       "      <th>2</th>\n",
       "      <td>Devers is 3-3 tonight. Pretty good but also ma...</td>\n",
       "      <td>False</td>\n",
       "      <td>{u'verified': False, u'description': u'IG @sta...</td>\n",
       "      <td>&lt;a href=\"http://twitter.com/download/iphone\" r...</td>\n",
       "      <td>0.316667</td>\n",
       "      <td>0.566667</td>\n",
       "    </tr>\n",
       "  </tbody>\n",
       "</table>\n",
       "</div>"
      ],
      "text/plain": [
       "                                                text  retweeted  \\\n",
       "0  RT @Sammyy02K: Urban jungle🏙🌴👑 https://t.co...      False   \n",
       "1  @vinsmokesanjis I'm so tempted to look but I'm...      False   \n",
       "2  Devers is 3-3 tonight. Pretty good but also ma...      False   \n",
       "\n",
       "                                                user  \\\n",
       "0  {u'verified': False, u'description': u'🅰️pple...   \n",
       "1  {u'verified': False, u'description': u'One tim...   \n",
       "2  {u'verified': False, u'description': u'IG @sta...   \n",
       "\n",
       "                                              source  polarity       sub  \n",
       "0  <a href=\"https://about.twitter.com/products/tw...  0.000000  0.000000  \n",
       "1  <a href=\"http://twitter.com/download/iphone\" r...  0.000000  0.000000  \n",
       "2  <a href=\"http://twitter.com/download/iphone\" r...  0.316667  0.566667  "
      ]
     },
     "execution_count": 11,
     "metadata": {},
     "output_type": "execute_result"
    }
   ],
   "source": [
    "#Return the polarity score as a float within the range [-1.0, 1.0]\n",
    "df['polarity']= df['text'].apply(doc_polarity)\n",
    "\n",
    "#Return the subjectivity score as a float within the range [0.0, 1.0] where 0.0 is very objective and 1.0 is very subjective.\n",
    "df['sub']= df['text'].apply(doc_sub)\n",
    "df.head(3)"
   ]
  },
  {
   "cell_type": "code",
   "execution_count": 12,
   "metadata": {
    "collapsed": true
   },
   "outputs": [],
   "source": [
    "#categorizing the range to subjectivity or objectivity\n",
    "def categorize_sub(doc): \n",
    "    if doc == 1: \n",
    "        return \"sub\"\n",
    "    elif doc <=0.99 and doc >=0.51: \n",
    "        return \"highly_sub\"\n",
    "    elif doc == 0.5: \n",
    "        return \"Sub&Obj\"\n",
    "    elif doc <= 0.49 and doc >= 0.1: \n",
    "        return \"highly_obj\"\n",
    "    elif doc ==0: \n",
    "        return \"obj\"\n",
    "    else: \n",
    "        return \"none\"\n",
    "\n",
    "#categorizing the range to sentiment opinion\n",
    "def categorize_polarity(doc): \n",
    "    if doc <= 1 and doc >=0.75: \n",
    "        return \"positive\"\n",
    "    elif doc <=0.74 and doc >=0.10: \n",
    "        return \"sightly_positive\"\n",
    "    elif doc == 0: \n",
    "        return \"neutral\"\n",
    "    elif doc <= -0.1 and doc >= -0.74: \n",
    "        return \"sightly_negative\"\n",
    "    elif doc <= -0.75 and doc >=-1: \n",
    "        return \"negative\"\n",
    "    else: \n",
    "        return \"none\""
   ]
  },
  {
   "cell_type": "code",
   "execution_count": 13,
   "metadata": {
    "collapsed": true
   },
   "outputs": [],
   "source": [
    "df['sentiment']= df['polarity'].apply(categorize_polarity)\n",
    "df['subjectivity']= df['sub'].apply(categorize_sub)"
   ]
  },
  {
   "cell_type": "code",
   "execution_count": 16,
   "metadata": {},
   "outputs": [
    {
     "data": {
      "text/html": [
       "<div>\n",
       "<style>\n",
       "    .dataframe thead tr:only-child th {\n",
       "        text-align: right;\n",
       "    }\n",
       "\n",
       "    .dataframe thead th {\n",
       "        text-align: left;\n",
       "    }\n",
       "\n",
       "    .dataframe tbody tr th {\n",
       "        vertical-align: top;\n",
       "    }\n",
       "</style>\n",
       "<table border=\"1\" class=\"dataframe\">\n",
       "  <thead>\n",
       "    <tr style=\"text-align: right;\">\n",
       "      <th></th>\n",
       "      <th>text</th>\n",
       "      <th>retweeted</th>\n",
       "      <th>user</th>\n",
       "      <th>source</th>\n",
       "      <th>polarity</th>\n",
       "      <th>sub</th>\n",
       "      <th>sentiment</th>\n",
       "      <th>subjectivity</th>\n",
       "    </tr>\n",
       "  </thead>\n",
       "  <tbody>\n",
       "    <tr>\n",
       "      <th>0</th>\n",
       "      <td>RT @Sammyy02K: Urban jungle🏙🌴👑 https://t.co...</td>\n",
       "      <td>False</td>\n",
       "      <td>{u'verified': False, u'description': u'🅰️pple...</td>\n",
       "      <td>&lt;a href=\"https://about.twitter.com/products/tw...</td>\n",
       "      <td>0.000000</td>\n",
       "      <td>0.000000</td>\n",
       "      <td>neutral</td>\n",
       "      <td>obj</td>\n",
       "    </tr>\n",
       "    <tr>\n",
       "      <th>1</th>\n",
       "      <td>@vinsmokesanjis I'm so tempted to look but I'm...</td>\n",
       "      <td>False</td>\n",
       "      <td>{u'verified': False, u'description': u'One tim...</td>\n",
       "      <td>&lt;a href=\"http://twitter.com/download/iphone\" r...</td>\n",
       "      <td>0.000000</td>\n",
       "      <td>0.000000</td>\n",
       "      <td>neutral</td>\n",
       "      <td>obj</td>\n",
       "    </tr>\n",
       "    <tr>\n",
       "      <th>2</th>\n",
       "      <td>Devers is 3-3 tonight. Pretty good but also ma...</td>\n",
       "      <td>False</td>\n",
       "      <td>{u'verified': False, u'description': u'IG @sta...</td>\n",
       "      <td>&lt;a href=\"http://twitter.com/download/iphone\" r...</td>\n",
       "      <td>0.316667</td>\n",
       "      <td>0.566667</td>\n",
       "      <td>sightly_positive</td>\n",
       "      <td>highly_sub</td>\n",
       "    </tr>\n",
       "  </tbody>\n",
       "</table>\n",
       "</div>"
      ],
      "text/plain": [
       "                                                text  retweeted  \\\n",
       "0  RT @Sammyy02K: Urban jungle🏙🌴👑 https://t.co...      False   \n",
       "1  @vinsmokesanjis I'm so tempted to look but I'm...      False   \n",
       "2  Devers is 3-3 tonight. Pretty good but also ma...      False   \n",
       "\n",
       "                                                user  \\\n",
       "0  {u'verified': False, u'description': u'🅰️pple...   \n",
       "1  {u'verified': False, u'description': u'One tim...   \n",
       "2  {u'verified': False, u'description': u'IG @sta...   \n",
       "\n",
       "                                              source  polarity       sub  \\\n",
       "0  <a href=\"https://about.twitter.com/products/tw...  0.000000  0.000000   \n",
       "1  <a href=\"http://twitter.com/download/iphone\" r...  0.000000  0.000000   \n",
       "2  <a href=\"http://twitter.com/download/iphone\" r...  0.316667  0.566667   \n",
       "\n",
       "          sentiment subjectivity  \n",
       "0           neutral          obj  \n",
       "1           neutral          obj  \n",
       "2  sightly_positive   highly_sub  "
      ]
     },
     "execution_count": 16,
     "metadata": {},
     "output_type": "execute_result"
    }
   ],
   "source": [
    "df.head(3)"
   ]
  },
  {
   "cell_type": "code",
   "execution_count": 25,
   "metadata": {
    "collapsed": true
   },
   "outputs": [],
   "source": [
    "def encoding(text):   \n",
    "    t = text.encode('utf-8')\n",
    "    return t\n",
    "\n",
    "df['textline'] = df.text.apply(encoding)"
   ]
  },
  {
   "cell_type": "code",
   "execution_count": 28,
   "metadata": {},
   "outputs": [
    {
     "data": {
      "text/html": [
       "<div>\n",
       "<style>\n",
       "    .dataframe thead tr:only-child th {\n",
       "        text-align: right;\n",
       "    }\n",
       "\n",
       "    .dataframe thead th {\n",
       "        text-align: left;\n",
       "    }\n",
       "\n",
       "    .dataframe tbody tr th {\n",
       "        vertical-align: top;\n",
       "    }\n",
       "</style>\n",
       "<table border=\"1\" class=\"dataframe\">\n",
       "  <thead>\n",
       "    <tr style=\"text-align: right;\">\n",
       "      <th></th>\n",
       "      <th>text</th>\n",
       "      <th>retweeted</th>\n",
       "      <th>user</th>\n",
       "      <th>source</th>\n",
       "      <th>polarity</th>\n",
       "      <th>sub</th>\n",
       "      <th>sentiment</th>\n",
       "      <th>subjectivity</th>\n",
       "      <th>textline</th>\n",
       "      <th>naive</th>\n",
       "    </tr>\n",
       "  </thead>\n",
       "  <tbody>\n",
       "    <tr>\n",
       "      <th>0</th>\n",
       "      <td>RT @Sammyy02K: Urban jungle🏙🌴👑 https://t.co...</td>\n",
       "      <td>False</td>\n",
       "      <td>{u'verified': False, u'description': u'🅰️pple...</td>\n",
       "      <td>&lt;a href=\"https://about.twitter.com/products/tw...</td>\n",
       "      <td>0.000000</td>\n",
       "      <td>0.000000</td>\n",
       "      <td>neutral</td>\n",
       "      <td>obj</td>\n",
       "      <td>RT @Sammyy02K: Urban jungle🏙🌴👑 https://t.co...</td>\n",
       "      <td>(pos, 0.5, 0.5)</td>\n",
       "    </tr>\n",
       "    <tr>\n",
       "      <th>1</th>\n",
       "      <td>@vinsmokesanjis I'm so tempted to look but I'm...</td>\n",
       "      <td>False</td>\n",
       "      <td>{u'verified': False, u'description': u'One tim...</td>\n",
       "      <td>&lt;a href=\"http://twitter.com/download/iphone\" r...</td>\n",
       "      <td>0.000000</td>\n",
       "      <td>0.000000</td>\n",
       "      <td>neutral</td>\n",
       "      <td>obj</td>\n",
       "      <td>@vinsmokesanjis I'm so tempted to look but I'm...</td>\n",
       "      <td>(neg, 0.305610938099, 0.694389061901)</td>\n",
       "    </tr>\n",
       "    <tr>\n",
       "      <th>2</th>\n",
       "      <td>Devers is 3-3 tonight. Pretty good but also ma...</td>\n",
       "      <td>False</td>\n",
       "      <td>{u'verified': False, u'description': u'IG @sta...</td>\n",
       "      <td>&lt;a href=\"http://twitter.com/download/iphone\" r...</td>\n",
       "      <td>0.316667</td>\n",
       "      <td>0.566667</td>\n",
       "      <td>sightly_positive</td>\n",
       "      <td>highly_sub</td>\n",
       "      <td>Devers is 3-3 tonight. Pretty good but also ma...</td>\n",
       "      <td>(neg, 0.224207937713, 0.775792062287)</td>\n",
       "    </tr>\n",
       "    <tr>\n",
       "      <th>3</th>\n",
       "      <td>RT @Sammyy02K: Urban jungle🏙🌴👑 https://t.co...</td>\n",
       "      <td>False</td>\n",
       "      <td>{u'verified': False, u'description': u'20| Lov...</td>\n",
       "      <td>&lt;a href=\"https://about.twitter.com/products/tw...</td>\n",
       "      <td>0.000000</td>\n",
       "      <td>0.000000</td>\n",
       "      <td>neutral</td>\n",
       "      <td>obj</td>\n",
       "      <td>RT @Sammyy02K: Urban jungle🏙🌴👑 https://t.co...</td>\n",
       "      <td>(pos, 0.5, 0.5)</td>\n",
       "    </tr>\n",
       "  </tbody>\n",
       "</table>\n",
       "</div>"
      ],
      "text/plain": [
       "                                                text  retweeted  \\\n",
       "0  RT @Sammyy02K: Urban jungle🏙🌴👑 https://t.co...      False   \n",
       "1  @vinsmokesanjis I'm so tempted to look but I'm...      False   \n",
       "2  Devers is 3-3 tonight. Pretty good but also ma...      False   \n",
       "3  RT @Sammyy02K: Urban jungle🏙🌴👑 https://t.co...      False   \n",
       "\n",
       "                                                user  \\\n",
       "0  {u'verified': False, u'description': u'🅰️pple...   \n",
       "1  {u'verified': False, u'description': u'One tim...   \n",
       "2  {u'verified': False, u'description': u'IG @sta...   \n",
       "3  {u'verified': False, u'description': u'20| Lov...   \n",
       "\n",
       "                                              source  polarity       sub  \\\n",
       "0  <a href=\"https://about.twitter.com/products/tw...  0.000000  0.000000   \n",
       "1  <a href=\"http://twitter.com/download/iphone\" r...  0.000000  0.000000   \n",
       "2  <a href=\"http://twitter.com/download/iphone\" r...  0.316667  0.566667   \n",
       "3  <a href=\"https://about.twitter.com/products/tw...  0.000000  0.000000   \n",
       "\n",
       "          sentiment subjectivity  \\\n",
       "0           neutral          obj   \n",
       "1           neutral          obj   \n",
       "2  sightly_positive   highly_sub   \n",
       "3           neutral          obj   \n",
       "\n",
       "                                            textline  \\\n",
       "0  RT @Sammyy02K: Urban jungle🏙🌴👑 https://t.co...   \n",
       "1  @vinsmokesanjis I'm so tempted to look but I'm...   \n",
       "2  Devers is 3-3 tonight. Pretty good but also ma...   \n",
       "3  RT @Sammyy02K: Urban jungle🏙🌴👑 https://t.co...   \n",
       "\n",
       "                                   naive  \n",
       "0                        (pos, 0.5, 0.5)  \n",
       "1  (neg, 0.305610938099, 0.694389061901)  \n",
       "2  (neg, 0.224207937713, 0.775792062287)  \n",
       "3                        (pos, 0.5, 0.5)  "
      ]
     },
     "execution_count": 28,
     "metadata": {},
     "output_type": "execute_result"
    }
   ],
   "source": [
    "from textblob.sentiments import NaiveBayesAnalyzer\n",
    "\n",
    "def naive(doc): \n",
    "    tb = TextBlob(doc, analyzer=NaiveBayesAnalyzer())\n",
    "    return tb.sentiment\n",
    "\n",
    "#runing naive bayes analyzer on the tweets\n",
    "#caution: this will take awhile to finish running\n",
    "df[\"naive\"]= df['textline'].apply(naive)\n",
    "df.head(4)"
   ]
  },
  {
   "cell_type": "code",
   "execution_count": 33,
   "metadata": {
    "collapsed": true
   },
   "outputs": [],
   "source": [
    "#getting naive results to three columns of data frames\n",
    "df['naive_sentiment']=df['naive'].str[0]\n",
    "df['naive_ppos']= df['naive'].str[1].astype(float).round(2)\n",
    "df['naive_pneg']= df['naive'].str[2].astype(float).round(2)"
   ]
  },
  {
   "cell_type": "code",
   "execution_count": 34,
   "metadata": {},
   "outputs": [
    {
     "data": {
      "text/html": [
       "<div>\n",
       "<style>\n",
       "    .dataframe thead tr:only-child th {\n",
       "        text-align: right;\n",
       "    }\n",
       "\n",
       "    .dataframe thead th {\n",
       "        text-align: left;\n",
       "    }\n",
       "\n",
       "    .dataframe tbody tr th {\n",
       "        vertical-align: top;\n",
       "    }\n",
       "</style>\n",
       "<table border=\"1\" class=\"dataframe\">\n",
       "  <thead>\n",
       "    <tr style=\"text-align: right;\">\n",
       "      <th></th>\n",
       "      <th>text</th>\n",
       "      <th>retweeted</th>\n",
       "      <th>user</th>\n",
       "      <th>source</th>\n",
       "      <th>polarity</th>\n",
       "      <th>sub</th>\n",
       "      <th>sentiment</th>\n",
       "      <th>subjectivity</th>\n",
       "      <th>textline</th>\n",
       "      <th>naive</th>\n",
       "      <th>naive_sentiment</th>\n",
       "      <th>naive_ppos</th>\n",
       "      <th>naive_pneg</th>\n",
       "    </tr>\n",
       "  </thead>\n",
       "  <tbody>\n",
       "    <tr>\n",
       "      <th>0</th>\n",
       "      <td>RT @Sammyy02K: Urban jungle🏙🌴👑 https://t.co...</td>\n",
       "      <td>False</td>\n",
       "      <td>{u'verified': False, u'description': u'🅰️pple...</td>\n",
       "      <td>&lt;a href=\"https://about.twitter.com/products/tw...</td>\n",
       "      <td>0.000000</td>\n",
       "      <td>0.000000</td>\n",
       "      <td>neutral</td>\n",
       "      <td>obj</td>\n",
       "      <td>RT @Sammyy02K: Urban jungle🏙🌴👑 https://t.co...</td>\n",
       "      <td>(pos, 0.5, 0.5)</td>\n",
       "      <td>pos</td>\n",
       "      <td>0.50</td>\n",
       "      <td>0.50</td>\n",
       "    </tr>\n",
       "    <tr>\n",
       "      <th>1</th>\n",
       "      <td>@vinsmokesanjis I'm so tempted to look but I'm...</td>\n",
       "      <td>False</td>\n",
       "      <td>{u'verified': False, u'description': u'One tim...</td>\n",
       "      <td>&lt;a href=\"http://twitter.com/download/iphone\" r...</td>\n",
       "      <td>0.000000</td>\n",
       "      <td>0.000000</td>\n",
       "      <td>neutral</td>\n",
       "      <td>obj</td>\n",
       "      <td>@vinsmokesanjis I'm so tempted to look but I'm...</td>\n",
       "      <td>(neg, 0.305610938099, 0.694389061901)</td>\n",
       "      <td>neg</td>\n",
       "      <td>0.31</td>\n",
       "      <td>0.69</td>\n",
       "    </tr>\n",
       "    <tr>\n",
       "      <th>2</th>\n",
       "      <td>Devers is 3-3 tonight. Pretty good but also ma...</td>\n",
       "      <td>False</td>\n",
       "      <td>{u'verified': False, u'description': u'IG @sta...</td>\n",
       "      <td>&lt;a href=\"http://twitter.com/download/iphone\" r...</td>\n",
       "      <td>0.316667</td>\n",
       "      <td>0.566667</td>\n",
       "      <td>sightly_positive</td>\n",
       "      <td>highly_sub</td>\n",
       "      <td>Devers is 3-3 tonight. Pretty good but also ma...</td>\n",
       "      <td>(neg, 0.224207937713, 0.775792062287)</td>\n",
       "      <td>neg</td>\n",
       "      <td>0.22</td>\n",
       "      <td>0.78</td>\n",
       "    </tr>\n",
       "  </tbody>\n",
       "</table>\n",
       "</div>"
      ],
      "text/plain": [
       "                                                text  retweeted  \\\n",
       "0  RT @Sammyy02K: Urban jungle🏙🌴👑 https://t.co...      False   \n",
       "1  @vinsmokesanjis I'm so tempted to look but I'm...      False   \n",
       "2  Devers is 3-3 tonight. Pretty good but also ma...      False   \n",
       "\n",
       "                                                user  \\\n",
       "0  {u'verified': False, u'description': u'🅰️pple...   \n",
       "1  {u'verified': False, u'description': u'One tim...   \n",
       "2  {u'verified': False, u'description': u'IG @sta...   \n",
       "\n",
       "                                              source  polarity       sub  \\\n",
       "0  <a href=\"https://about.twitter.com/products/tw...  0.000000  0.000000   \n",
       "1  <a href=\"http://twitter.com/download/iphone\" r...  0.000000  0.000000   \n",
       "2  <a href=\"http://twitter.com/download/iphone\" r...  0.316667  0.566667   \n",
       "\n",
       "          sentiment subjectivity  \\\n",
       "0           neutral          obj   \n",
       "1           neutral          obj   \n",
       "2  sightly_positive   highly_sub   \n",
       "\n",
       "                                            textline  \\\n",
       "0  RT @Sammyy02K: Urban jungle🏙🌴👑 https://t.co...   \n",
       "1  @vinsmokesanjis I'm so tempted to look but I'm...   \n",
       "2  Devers is 3-3 tonight. Pretty good but also ma...   \n",
       "\n",
       "                                   naive naive_sentiment  naive_ppos  \\\n",
       "0                        (pos, 0.5, 0.5)             pos        0.50   \n",
       "1  (neg, 0.305610938099, 0.694389061901)             neg        0.31   \n",
       "2  (neg, 0.224207937713, 0.775792062287)             neg        0.22   \n",
       "\n",
       "   naive_pneg  \n",
       "0        0.50  \n",
       "1        0.69  \n",
       "2        0.78  "
      ]
     },
     "execution_count": 34,
     "metadata": {},
     "output_type": "execute_result"
    }
   ],
   "source": [
    "df.head(3)"
   ]
  },
  {
   "cell_type": "code",
   "execution_count": 35,
   "metadata": {},
   "outputs": [
    {
     "data": {
      "text/plain": [
       "Index([           u'text',       u'retweeted',            u'user',\n",
       "                u'source',        u'polarity',             u'sub',\n",
       "             u'sentiment',    u'subjectivity',        u'textline',\n",
       "                 u'naive', u'naive_sentiment',      u'naive_ppos',\n",
       "            u'naive_pneg'],\n",
       "      dtype='object')"
      ]
     },
     "execution_count": 35,
     "metadata": {},
     "output_type": "execute_result"
    }
   ],
   "source": [
    "df.columns"
   ]
  },
  {
   "cell_type": "code",
   "execution_count": 36,
   "metadata": {
    "collapsed": true
   },
   "outputs": [],
   "source": [
    "#create a new dataframe that contains only necessary features\n",
    "new_df = df[['textline','retweeted','user','source', 'sentiment', 'subjectivity', 'naive_sentiment', 'naive_ppos', 'naive_pneg']]"
   ]
  },
  {
   "cell_type": "code",
   "execution_count": 37,
   "metadata": {},
   "outputs": [
    {
     "data": {
      "text/html": [
       "<div>\n",
       "<style>\n",
       "    .dataframe thead tr:only-child th {\n",
       "        text-align: right;\n",
       "    }\n",
       "\n",
       "    .dataframe thead th {\n",
       "        text-align: left;\n",
       "    }\n",
       "\n",
       "    .dataframe tbody tr th {\n",
       "        vertical-align: top;\n",
       "    }\n",
       "</style>\n",
       "<table border=\"1\" class=\"dataframe\">\n",
       "  <thead>\n",
       "    <tr style=\"text-align: right;\">\n",
       "      <th></th>\n",
       "      <th>textline</th>\n",
       "      <th>retweeted</th>\n",
       "      <th>user</th>\n",
       "      <th>source</th>\n",
       "      <th>sentiment</th>\n",
       "      <th>subjectivity</th>\n",
       "      <th>naive_sentiment</th>\n",
       "      <th>naive_ppos</th>\n",
       "      <th>naive_pneg</th>\n",
       "    </tr>\n",
       "  </thead>\n",
       "  <tbody>\n",
       "    <tr>\n",
       "      <th>0</th>\n",
       "      <td>RT @Sammyy02K: Urban jungle🏙🌴👑 https://t.co...</td>\n",
       "      <td>False</td>\n",
       "      <td>{u'verified': False, u'description': u'🅰️pple...</td>\n",
       "      <td>&lt;a href=\"https://about.twitter.com/products/tw...</td>\n",
       "      <td>neutral</td>\n",
       "      <td>obj</td>\n",
       "      <td>pos</td>\n",
       "      <td>0.50</td>\n",
       "      <td>0.50</td>\n",
       "    </tr>\n",
       "    <tr>\n",
       "      <th>1</th>\n",
       "      <td>@vinsmokesanjis I'm so tempted to look but I'm...</td>\n",
       "      <td>False</td>\n",
       "      <td>{u'verified': False, u'description': u'One tim...</td>\n",
       "      <td>&lt;a href=\"http://twitter.com/download/iphone\" r...</td>\n",
       "      <td>neutral</td>\n",
       "      <td>obj</td>\n",
       "      <td>neg</td>\n",
       "      <td>0.31</td>\n",
       "      <td>0.69</td>\n",
       "    </tr>\n",
       "    <tr>\n",
       "      <th>2</th>\n",
       "      <td>Devers is 3-3 tonight. Pretty good but also ma...</td>\n",
       "      <td>False</td>\n",
       "      <td>{u'verified': False, u'description': u'IG @sta...</td>\n",
       "      <td>&lt;a href=\"http://twitter.com/download/iphone\" r...</td>\n",
       "      <td>sightly_positive</td>\n",
       "      <td>highly_sub</td>\n",
       "      <td>neg</td>\n",
       "      <td>0.22</td>\n",
       "      <td>0.78</td>\n",
       "    </tr>\n",
       "  </tbody>\n",
       "</table>\n",
       "</div>"
      ],
      "text/plain": [
       "                                            textline  retweeted  \\\n",
       "0  RT @Sammyy02K: Urban jungle🏙🌴👑 https://t.co...      False   \n",
       "1  @vinsmokesanjis I'm so tempted to look but I'm...      False   \n",
       "2  Devers is 3-3 tonight. Pretty good but also ma...      False   \n",
       "\n",
       "                                                user  \\\n",
       "0  {u'verified': False, u'description': u'🅰️pple...   \n",
       "1  {u'verified': False, u'description': u'One tim...   \n",
       "2  {u'verified': False, u'description': u'IG @sta...   \n",
       "\n",
       "                                              source         sentiment  \\\n",
       "0  <a href=\"https://about.twitter.com/products/tw...           neutral   \n",
       "1  <a href=\"http://twitter.com/download/iphone\" r...           neutral   \n",
       "2  <a href=\"http://twitter.com/download/iphone\" r...  sightly_positive   \n",
       "\n",
       "  subjectivity naive_sentiment  naive_ppos  naive_pneg  \n",
       "0          obj             pos        0.50        0.50  \n",
       "1          obj             neg        0.31        0.69  \n",
       "2   highly_sub             neg        0.22        0.78  "
      ]
     },
     "execution_count": 37,
     "metadata": {},
     "output_type": "execute_result"
    }
   ],
   "source": [
    "new_df.head(3)"
   ]
  },
  {
   "cell_type": "code",
   "execution_count": 52,
   "metadata": {},
   "outputs": [
    {
     "data": {
      "text/plain": [
       "0    [RT, @, Sammyy02K, :, Urban, jungle🏙🌴👑, htt...\n",
       "1    [@, vinsmokesanjis, I, 'm, so, tempted, to, lo...\n",
       "2    [Devers, is, 3-3, tonight, ., Pretty, good, bu...\n",
       "Name: textline, dtype: object"
      ]
     },
     "execution_count": 52,
     "metadata": {},
     "output_type": "execute_result"
    }
   ],
   "source": [
    "#split the text into tokens\n",
    "from nltk.tokenize import word_tokenize\n",
    "\n",
    "def tokenize_text(text): \n",
    "    token = word_tokenize(text)\n",
    "    return token\n",
    "\n",
    "list_token = new_df.textline.apply(tokenize_text)\n",
    "list_token[:3]"
   ]
  },
  {
   "cell_type": "code",
   "execution_count": 53,
   "metadata": {
    "collapsed": true
   },
   "outputs": [],
   "source": [
    "#remove emoticon, URL, hash-tag from the text\n",
    "import re\n",
    " \n",
    "emoticons_str = r\"\"\"\n",
    "    (?:\n",
    "        [:=;] # Eyes\n",
    "        [oO\\-]? # Nose (optional)\n",
    "        [D\\)\\]\\(\\]/\\\\OpP] # Mouth\n",
    "    )\"\"\"\n",
    " \n",
    "regex_str = [\n",
    "    emoticons_str,\n",
    "    r'<[^>]+>', # HTML tags\n",
    "    r'(?:@[\\w_]+)', # @-mentions\n",
    "    r\"(?:\\#+[\\w_]+[\\w\\'_\\-]*[\\w_]+)\", # hash-tags\n",
    "    r'http[s]?://(?:[a-z]|[0-9]|[$-_@.&amp;+]|[!*\\(\\),]|(?:%[0-9a-f][0-9a-f]))+', # URLs\n",
    " \n",
    "    r'(?:(?:\\d+,?)+(?:\\.?\\d+)?)', # numbers\n",
    "    r\"(?:[a-z][a-z'\\-_]+[a-z])\", # words with - and '\n",
    "    r'(?:[\\w_]+)', # other words\n",
    "    r'(?:\\S)' # anything else\n",
    "]\n",
    "    \n",
    "tokens_re = re.compile(r'('+'|'.join(regex_str)+')', re.VERBOSE | re.IGNORECASE)\n",
    "emoticon_re = re.compile(r'^'+emoticons_str+'$', re.VERBOSE | re.IGNORECASE)\n",
    " \n",
    "def tokenize(s):\n",
    "    return tokens_re.findall(s)\n",
    " \n",
    "def preprocess(s, lowercase=False):\n",
    "    tokens = tokenize(s)\n",
    "    if lowercase:\n",
    "        tokens = [token if emoticon_re.search(token) else token.lower() for token in tokens]\n",
    "    return tokens"
   ]
  },
  {
   "cell_type": "code",
   "execution_count": 63,
   "metadata": {},
   "outputs": [
    {
     "data": {
      "text/plain": [
       "0    [RT, @Sammyy02K, :, Urban, jungle, �, �, �, �,...\n",
       "1    [@vinsmokesanjis, I'm, so, tempted, to, look, ...\n",
       "2    [Devers, is, 3, -, 3, tonight, ., Pretty, good...\n",
       "Name: textline, dtype: object"
      ]
     },
     "execution_count": 63,
     "metadata": {},
     "output_type": "execute_result"
    }
   ],
   "source": [
    "list_token = new_df.textline.apply(preprocess)\n",
    "list_token[:3]"
   ]
  },
  {
   "cell_type": "code",
   "execution_count": 76,
   "metadata": {},
   "outputs": [],
   "source": [
    "from nltk.corpus import stopwords\n",
    "import string\n",
    " \n",
    "punctuation = list(string.punctuation)\n",
    "stop = stopwords.words('english') + punctuation + ['rt', 'via', 'RT']"
   ]
  },
  {
   "cell_type": "code",
   "execution_count": 121,
   "metadata": {},
   "outputs": [],
   "source": [
    "from collections import Counter\n",
    "\n",
    "def term_stop(text): \n",
    "    for term in text: \n",
    "        if term not in stop:\n",
    "            return term\n",
    "\n",
    "def hastag(text): \n",
    "    for term in text: \n",
    "        if term.startwith('#', '@'): \n",
    "            Counter(text)"
   ]
  },
  {
   "cell_type": "code",
   "execution_count": 123,
   "metadata": {},
   "outputs": [
    {
     "data": {
      "text/plain": [
       "Counter({'#MTVHottest': 1,\n",
       "         '@Biapmad': 1,\n",
       "         '@BleepThePolice': 1,\n",
       "         '@ChloeAngyal': 1,\n",
       "         '@DearAuntCrabby': 1,\n",
       "         '@FemaleKnows': 1,\n",
       "         '@HXRLEEN': 1,\n",
       "         '@Hita_eighthsun': 1,\n",
       "         '@Iwtpoison': 1,\n",
       "         '@Jeremy_Hunt': 1,\n",
       "         '@KatrinaPierson': 1,\n",
       "         '@Mendu_mza': 1,\n",
       "         '@MikeKellyofEM': 1,\n",
       "         '@MoeenAli': 1,\n",
       "         '@PoIoOverHoes': 1,\n",
       "         '@RealJheneAiko_': 1,\n",
       "         '@ReliableSources': 1,\n",
       "         '@Sammyy02K': 6,\n",
       "         '@SourDiesBabe': 1,\n",
       "         '@TheSoneSource': 1,\n",
       "         '@Zendaya': 1,\n",
       "         '@avega7077': 1,\n",
       "         '@becoupIes': 4,\n",
       "         '@bitchxiety': 1,\n",
       "         '@elizamunoz1956': 1,\n",
       "         '@fernandoluisvv': 1,\n",
       "         '@grace_march': 1,\n",
       "         '@kaiyah_baiyah': 1,\n",
       "         '@kengarex': 1,\n",
       "         '@kxxxyxng_': 1,\n",
       "         '@luxurydolans': 1,\n",
       "         '@malik12_styles': 1,\n",
       "         '@neilpatel': 1,\n",
       "         '@planetepics': 1,\n",
       "         '@qweenpush': 1,\n",
       "         '@realDonaldTrump': 1,\n",
       "         '@realmadriden': 1,\n",
       "         '@rembert': 1,\n",
       "         '@spacerelapse': 2,\n",
       "         '@stagmetanoia': 1,\n",
       "         '@theartfulman': 1,\n",
       "         '@tjchambersLA': 1,\n",
       "         '@ubiquitousurn': 1,\n",
       "         '@vanessaxtran': 1,\n",
       "         '@vinsmokesanjis': 1,\n",
       "         '@wakandaho': 1,\n",
       "         '@walidffs': 1,\n",
       "         'Can': 1,\n",
       "         'Devers': 1,\n",
       "         'Even': 1,\n",
       "         'Everybody': 1,\n",
       "         'ONLY': 1,\n",
       "         'Omoooo': 1,\n",
       "         'Please': 1,\n",
       "         'Recently': 1,\n",
       "         'Secrets': 1,\n",
       "         'The': 1,\n",
       "         'exgirl': 1,\n",
       "         'https://t.co/n8QbWxrASU': 1,\n",
       "         'pinay': 1,\n",
       "         'someone': 1})"
      ]
     },
     "execution_count": 123,
     "metadata": {},
     "output_type": "execute_result"
    }
   ],
   "source": [
    "termstop_list_token = list_token.apply(term_stop)\n",
    "Counter(termstop_list_token)"
   ]
  },
  {
   "cell_type": "code",
   "execution_count": 125,
   "metadata": {},
   "outputs": [
    {
     "ename": "AttributeError",
     "evalue": "'str' object has no attribute 'startwith'",
     "output_type": "error",
     "traceback": [
      "\u001b[0;31m---------------------------------------------------------------------------\u001b[0m",
      "\u001b[0;31mAttributeError\u001b[0m                            Traceback (most recent call last)",
      "\u001b[0;32m<ipython-input-125-d2ca17b84663>\u001b[0m in \u001b[0;36m<module>\u001b[0;34m()\u001b[0m\n\u001b[0;32m----> 1\u001b[0;31m \u001b[0mtermstop_list_token\u001b[0m\u001b[0;34m.\u001b[0m\u001b[0mapply\u001b[0m\u001b[0;34m(\u001b[0m\u001b[0mhastag\u001b[0m\u001b[0;34m)\u001b[0m\u001b[0;34m\u001b[0m\u001b[0m\n\u001b[0m",
      "\u001b[0;32m/Users/keangcheangung/anaconda/lib/python2.7/site-packages/pandas/core/series.pyc\u001b[0m in \u001b[0;36mapply\u001b[0;34m(self, func, convert_dtype, args, **kwds)\u001b[0m\n\u001b[1;32m   2353\u001b[0m             \u001b[0;32melse\u001b[0m\u001b[0;34m:\u001b[0m\u001b[0;34m\u001b[0m\u001b[0m\n\u001b[1;32m   2354\u001b[0m                 \u001b[0mvalues\u001b[0m \u001b[0;34m=\u001b[0m \u001b[0mself\u001b[0m\u001b[0;34m.\u001b[0m\u001b[0masobject\u001b[0m\u001b[0;34m\u001b[0m\u001b[0m\n\u001b[0;32m-> 2355\u001b[0;31m                 \u001b[0mmapped\u001b[0m \u001b[0;34m=\u001b[0m \u001b[0mlib\u001b[0m\u001b[0;34m.\u001b[0m\u001b[0mmap_infer\u001b[0m\u001b[0;34m(\u001b[0m\u001b[0mvalues\u001b[0m\u001b[0;34m,\u001b[0m \u001b[0mf\u001b[0m\u001b[0;34m,\u001b[0m \u001b[0mconvert\u001b[0m\u001b[0;34m=\u001b[0m\u001b[0mconvert_dtype\u001b[0m\u001b[0;34m)\u001b[0m\u001b[0;34m\u001b[0m\u001b[0m\n\u001b[0m\u001b[1;32m   2356\u001b[0m \u001b[0;34m\u001b[0m\u001b[0m\n\u001b[1;32m   2357\u001b[0m         \u001b[0;32mif\u001b[0m \u001b[0mlen\u001b[0m\u001b[0;34m(\u001b[0m\u001b[0mmapped\u001b[0m\u001b[0;34m)\u001b[0m \u001b[0;32mand\u001b[0m \u001b[0misinstance\u001b[0m\u001b[0;34m(\u001b[0m\u001b[0mmapped\u001b[0m\u001b[0;34m[\u001b[0m\u001b[0;36m0\u001b[0m\u001b[0;34m]\u001b[0m\u001b[0;34m,\u001b[0m \u001b[0mSeries\u001b[0m\u001b[0;34m)\u001b[0m\u001b[0;34m:\u001b[0m\u001b[0;34m\u001b[0m\u001b[0m\n",
      "\u001b[0;32mpandas/_libs/src/inference.pyx\u001b[0m in \u001b[0;36mpandas._libs.lib.map_infer (pandas/_libs/lib.c:66645)\u001b[0;34m()\u001b[0m\n",
      "\u001b[0;32m<ipython-input-121-0d8d7ff48c9e>\u001b[0m in \u001b[0;36mhastag\u001b[0;34m(text)\u001b[0m\n\u001b[1;32m      8\u001b[0m \u001b[0;32mdef\u001b[0m \u001b[0mhastag\u001b[0m\u001b[0;34m(\u001b[0m\u001b[0mtext\u001b[0m\u001b[0;34m)\u001b[0m\u001b[0;34m:\u001b[0m\u001b[0;34m\u001b[0m\u001b[0m\n\u001b[1;32m      9\u001b[0m     \u001b[0;32mfor\u001b[0m \u001b[0mterm\u001b[0m \u001b[0;32min\u001b[0m \u001b[0mtext\u001b[0m\u001b[0;34m:\u001b[0m\u001b[0;34m\u001b[0m\u001b[0m\n\u001b[0;32m---> 10\u001b[0;31m         \u001b[0;32mif\u001b[0m \u001b[0mterm\u001b[0m\u001b[0;34m.\u001b[0m\u001b[0mstartwith\u001b[0m\u001b[0;34m(\u001b[0m\u001b[0;34m'#'\u001b[0m\u001b[0;34m,\u001b[0m \u001b[0;34m'@'\u001b[0m\u001b[0;34m)\u001b[0m\u001b[0;34m:\u001b[0m\u001b[0;34m\u001b[0m\u001b[0m\n\u001b[0m\u001b[1;32m     11\u001b[0m             \u001b[0mCounter\u001b[0m\u001b[0;34m(\u001b[0m\u001b[0mtext\u001b[0m\u001b[0;34m)\u001b[0m\u001b[0;34m\u001b[0m\u001b[0m\n",
      "\u001b[0;31mAttributeError\u001b[0m: 'str' object has no attribute 'startwith'"
     ]
    }
   ],
   "source": [
    "\n",
    "termstop_list_token.apply(hastag)"
   ]
  },
  {
   "cell_type": "code",
   "execution_count": null,
   "metadata": {
    "collapsed": true
   },
   "outputs": [],
   "source": []
  }
 ],
 "metadata": {
  "anaconda-cloud": {},
  "kernelspec": {
   "display_name": "Python [conda root]",
   "language": "python",
   "name": "conda-root-py"
  },
  "language_info": {
   "codemirror_mode": {
    "name": "ipython",
    "version": 2
   },
   "file_extension": ".py",
   "mimetype": "text/x-python",
   "name": "python",
   "nbconvert_exporter": "python",
   "pygments_lexer": "ipython2",
   "version": "2.7.12"
  }
 },
 "nbformat": 4,
 "nbformat_minor": 1
}
